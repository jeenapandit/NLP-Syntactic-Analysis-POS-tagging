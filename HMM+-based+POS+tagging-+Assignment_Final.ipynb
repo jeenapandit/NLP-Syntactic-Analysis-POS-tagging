{
 "cells": [
  {
   "cell_type": "markdown",
   "metadata": {},
   "source": [
    "## POS tagging using modified Viterbi\n",
    "\n",
    "### Problem Statement\n",
    "\n",
    "The vanilla Viterbi algorithm has loss of accuracy majorly due to the fact that when the algorithm encounters an unknown word (i.e. not present in the training set, such as 'Twitter'), it assigned an incorrect tag arbitrarily. This is because, for unknown words, the emission probabilities for all candidate tags are 0, so the algorithm arbitrarily chooses (the first) tag.\n",
    " \n",
    "In this assignment, you need to modify the Viterbi algorithm to solve the problem of unknown words using at least two techniques. \n",
    "\n",
    "You need to accomplish the following in this assignment:\n",
    "- Write the vanilla Viterbi algorithm for assigning POS tags (i.e. without dealing with unknown words) \n",
    "- Solve the problem of unknown words using at least two techniques. These techniques can use any of the approaches discussed in the class - lexicon, rule-based, probabilistic etc. Note that to implement these techniques, you can either write separate functions and call them from the main Viterbi algorithm, or modify the Viterbi algorithm, or both.\n",
    "- Compare the tagging accuracy after making these modifications with the vanilla Viterbi algorithm.\n",
    "- List down at least three cases from the sample test file (i.e. unknown word-tag pairs) which were incorrectly tagged by the original Viterbi POS tagger and got corrected after your modifications.\n"
   ]
  },
  {
   "cell_type": "markdown",
   "metadata": {},
   "source": [
    "### Data Preparation"
   ]
  },
  {
   "cell_type": "code",
   "execution_count": 1,
   "metadata": {},
   "outputs": [],
   "source": [
    "#Importing all needed libraries\n",
    "import nltk, re\n",
    "import numpy as np\n",
    "import pandas as pd\n",
    "import requests\n",
    "import matplotlib.pyplot as plt\n",
    "import seaborn as sns\n",
    "import pprint, time\n",
    "import random\n",
    "from sklearn.model_selection import train_test_split\n",
    "from nltk.tokenize import word_tokenize"
   ]
  },
  {
   "cell_type": "code",
   "execution_count": 2,
   "metadata": {},
   "outputs": [],
   "source": [
    "# reading the Treebank tagged sentences\n",
    "nltk_data = list(nltk.corpus.treebank.tagged_sents(tagset='universal'))"
   ]
  },
  {
   "cell_type": "code",
   "execution_count": 3,
   "metadata": {},
   "outputs": [
    {
     "name": "stdout",
     "output_type": "stream",
     "text": [
      "Total sentences in the tagged dataset:  3914 \n",
      "\n",
      "[[('Pierre', 'NOUN'), ('Vinken', 'NOUN'), (',', '.'), ('61', 'NUM'), ('years', 'NOUN'), ('old', 'ADJ'), (',', '.'), ('will', 'VERB'), ('join', 'VERB'), ('the', 'DET'), ('board', 'NOUN'), ('as', 'ADP'), ('a', 'DET'), ('nonexecutive', 'ADJ'), ('director', 'NOUN'), ('Nov.', 'NOUN'), ('29', 'NUM'), ('.', '.')], [('Mr.', 'NOUN'), ('Vinken', 'NOUN'), ('is', 'VERB'), ('chairman', 'NOUN'), ('of', 'ADP'), ('Elsevier', 'NOUN'), ('N.V.', 'NOUN'), (',', '.'), ('the', 'DET'), ('Dutch', 'NOUN'), ('publishing', 'VERB'), ('group', 'NOUN'), ('.', '.')], [('Rudolph', 'NOUN'), ('Agnew', 'NOUN'), (',', '.'), ('55', 'NUM'), ('years', 'NOUN'), ('old', 'ADJ'), ('and', 'CONJ'), ('former', 'ADJ'), ('chairman', 'NOUN'), ('of', 'ADP'), ('Consolidated', 'NOUN'), ('Gold', 'NOUN'), ('Fields', 'NOUN'), ('PLC', 'NOUN'), (',', '.'), ('was', 'VERB'), ('named', 'VERB'), ('*-1', 'X'), ('a', 'DET'), ('nonexecutive', 'ADJ'), ('director', 'NOUN'), ('of', 'ADP'), ('this', 'DET'), ('British', 'ADJ'), ('industrial', 'ADJ'), ('conglomerate', 'NOUN'), ('.', '.')]]\n"
     ]
    }
   ],
   "source": [
    "#Total sentences in the tagged dataset\n",
    "print(\"Total sentences in the tagged dataset: \",len(nltk_data),\"\\n\")\n",
    "# first few tagged sentences in the dataset\n",
    "print(nltk_data[:3])"
   ]
  },
  {
   "cell_type": "code",
   "execution_count": 4,
   "metadata": {},
   "outputs": [
    {
     "name": "stdout",
     "output_type": "stream",
     "text": [
      "Sentences in Training Set : 3718\n",
      "Sentences in Validation Set : 196\n"
     ]
    }
   ],
   "source": [
    "# Splitting the dataset into train and validation sets of of 95:5 \n",
    "random.seed(1234)\n",
    "train_set, validation_set = train_test_split(nltk_data,test_size=0.05, random_state=40)\n",
    "\n",
    "print(\"Sentences in Training Set :\", len(train_set))\n",
    "print(\"Sentences in Validation Set :\", len(validation_set))"
   ]
  },
  {
   "cell_type": "code",
   "execution_count": 5,
   "metadata": {},
   "outputs": [
    {
     "name": "stdout",
     "output_type": "stream",
     "text": [
      "[[('Why', 'ADV'), ('are', 'VERB'), ('programs', 'NOUN'), ('like', 'ADP'), ('this', 'DET'), ('not', 'ADV'), ('eliminated', 'VERB'), ('*-2', 'X'), ('*T*-1', 'X'), ('?', '.')], [('``', '.'), ('Many', 'ADJ'), ('in', 'ADP'), ('the', 'DET'), ('United', 'NOUN'), ('States', 'NOUN'), (',', '.'), ('including', 'VERB'), ('many', 'ADJ'), ('friends', 'NOUN'), ('of', 'ADP'), ('China', 'NOUN'), (',', '.'), ('believe', 'VERB'), ('0', 'X'), ('the', 'DET'), ('crackdown', 'NOUN'), ('was', 'VERB'), ('excessive', 'ADJ'), ('and', 'CONJ'), ('unjustified', 'ADJ'), (',', '.'), (\"''\", '.'), ('Mr.', 'NOUN'), ('Nixon', 'NOUN'), ('told', 'VERB'), ('Mr.', 'NOUN'), ('Yang', 'NOUN'), (',', '.'), ('who', 'PRON'), ('*T*-242', 'X'), ('was', 'VERB'), ('directly', 'ADV'), ('involved', 'VERB'), ('*-2', 'X'), ('in', 'ADP'), ('*', 'X'), ('ordering', 'VERB'), ('the', 'DET'), ('attack', 'NOUN'), ('*T*-1', 'X'), ('.', '.')], [('Rally', 'NOUN'), (\"'s\", 'PRT'), ('lost', 'VERB'), ('1', 'NUM'), ('3\\\\/4', 'NUM'), ('to', 'PRT'), ('21', 'NUM'), ('3\\\\/4', 'NUM'), ('.', '.')]]\n"
     ]
    }
   ],
   "source": [
    "# Looking at the first 3 sentences in the training set \n",
    "print(train_set[:3])"
   ]
  },
  {
   "cell_type": "code",
   "execution_count": 6,
   "metadata": {},
   "outputs": [
    {
     "name": "stdout",
     "output_type": "stream",
     "text": [
      "Number of tagged words in the Train set: 96011\n"
     ]
    }
   ],
   "source": [
    "# Getting list of tagged words in the train set\n",
    "train_tagged_words = [tup for sent in train_set for tup in sent]\n",
    "print(\"Number of tagged words in the Train set:\", len(train_tagged_words))"
   ]
  },
  {
   "cell_type": "code",
   "execution_count": 7,
   "metadata": {},
   "outputs": [
    {
     "data": {
      "text/plain": [
       "['Why',\n",
       " 'are',\n",
       " 'programs',\n",
       " 'like',\n",
       " 'this',\n",
       " 'not',\n",
       " 'eliminated',\n",
       " '*-2',\n",
       " '*T*-1',\n",
       " '?']"
      ]
     },
     "execution_count": 7,
     "metadata": {},
     "output_type": "execute_result"
    }
   ],
   "source": [
    "# All tokens i.e. the words we have in the train set\n",
    "tokens = [pair[0] for pair in train_tagged_words]\n",
    "tokens[:10]"
   ]
  },
  {
   "cell_type": "code",
   "execution_count": 8,
   "metadata": {},
   "outputs": [
    {
     "name": "stdout",
     "output_type": "stream",
     "text": [
      "Number of unique words in the Train set:  12117\n"
     ]
    }
   ],
   "source": [
    "# vocabulary of words i.e. number of unique words in the train set\n",
    "Vocab = set(tokens)\n",
    "print(\"Number of unique words in the Train set: \",len(Vocab))"
   ]
  },
  {
   "cell_type": "code",
   "execution_count": 9,
   "metadata": {},
   "outputs": [
    {
     "name": "stdout",
     "output_type": "stream",
     "text": [
      "Number of unique Tags in the Train set:  12\n",
      "{'ADV', 'VERB', 'PRT', 'X', '.', 'ADP', 'NOUN', 'PRON', 'NUM', 'DET', 'CONJ', 'ADJ'}\n"
     ]
    }
   ],
   "source": [
    "# number of tags i.e. number of unique POS tags in the train set\n",
    "Tag = set([pair[1] for pair in train_tagged_words])\n",
    "print(\"Number of unique Tags in the Train set: \", len(Tag))\n",
    "print(Tag)"
   ]
  },
  {
   "cell_type": "markdown",
   "metadata": {},
   "source": [
    "Now that we know about the dataset we are dealing with and have done the necessary data preparation, let us build the POS tagger based on the Vanilla Viterbi algorithm. "
   ]
  },
  {
   "cell_type": "markdown",
   "metadata": {},
   "source": [
    "### Build the vanilla Viterbi based POS tagger"
   ]
  },
  {
   "cell_type": "markdown",
   "metadata": {},
   "source": [
    "For Building the Viterbi algorithm , we first need to have the Emission Probabilities and Transition Probabilities.\n",
    "\n",
    "- **Emission probabilities** which represent the probability that an observation(word) is emitted by a particular state(tag).\n",
    "- **Transition probabilities** represent the probabilities of transitioning from one state(tags in our case) to another state."
   ]
  },
  {
   "cell_type": "markdown",
   "metadata": {},
   "source": [
    "#### Emission Probabilities"
   ]
  },
  {
   "cell_type": "code",
   "execution_count": 10,
   "metadata": {},
   "outputs": [],
   "source": [
    "# Function to compute word given tag for each word: Emission Probability\n",
    "\n",
    "def word_given_tag(word, tag, train_bag = train_tagged_words):\n",
    "    tag_list = [pair for pair in train_bag if pair[1]==tag]\n",
    "    count_tag = len(tag_list)                                           # Number of times tag appears in the train set\n",
    "    w_given_tag_list = [pair[0] for pair in tag_list if pair[0]==word]\n",
    "    count_w_given_tag = len(w_given_tag_list)                           # Number of times 'word' has been tagged with 'tag'\n",
    "    \n",
    "    return (count_w_given_tag, count_tag)"
   ]
  },
  {
   "cell_type": "code",
   "execution_count": 11,
   "metadata": {},
   "outputs": [
    {
     "name": "stdout",
     "output_type": "stream",
     "text": [
      "(644, 12914)\n",
      "(0, 27533)\n",
      "(0, 8269)\n"
     ]
    }
   ],
   "source": [
    "# Let us see what is the Emission probablity of a word for e.g.\"is\" being assigned a certain tag.\n",
    "print(word_given_tag('is', 'VERB'))               # probability of word 'is' being a verb\n",
    "print(word_given_tag('is', 'NOUN'))               # probability of word 'is' being a noun\n",
    "print(word_given_tag('is', 'DET'))                # probability of word 'is' being a determiner"
   ]
  },
  {
   "cell_type": "markdown",
   "metadata": {},
   "source": [
    "As we can see, the emission probablity of the word \"is\" being assigned a tag 'VERB' is greater as compared to \"is\" being a 'NOUN' or a 'DET'(determiner).(Based on our train dataset)"
   ]
  },
  {
   "cell_type": "markdown",
   "metadata": {},
   "source": [
    "#### Transition Probabilities"
   ]
  },
  {
   "cell_type": "code",
   "execution_count": 12,
   "metadata": {},
   "outputs": [],
   "source": [
    "# Function to compute tag given tag: tag2(t2) given tag1 (t1), i.e. Transition Probability\n",
    "\n",
    "def t2_given_t1(t2, t1, train_bag = train_tagged_words):\n",
    "    tags = [pair[1] for pair in train_bag]\n",
    "    count_t1 = len([t for t in tags if t==t1])                   # Number of times tag t1 appears\n",
    "    count_t2_t1 = 0\n",
    "    for index in range(len(tags)-1):\n",
    "        if tags[index]==t1 and tags[index+1] == t2:\n",
    "            count_t2_t1 += 1                                      # Number of times tag t1 is followed by tag t2\n",
    "    return (count_t2_t1, count_t1)"
   ]
  },
  {
   "cell_type": "code",
   "execution_count": 13,
   "metadata": {},
   "outputs": [
    {
     "name": "stdout",
     "output_type": "stream",
     "text": [
      "(4019, 27533)\n",
      "(1437, 12914)\n"
     ]
    }
   ],
   "source": [
    "# Let us see what is the transition probability of tags NOUN and VERB\n",
    "print(t2_given_t1('VERB', 'NOUN'))   #  probablitity of a 'VERB' following a 'NOUN'\n",
    "print(t2_given_t1('NOUN', 'VERB'))   #  probablitity of a 'NOUN' following a 'VERB'"
   ]
  },
  {
   "cell_type": "markdown",
   "metadata": {},
   "source": [
    "As we see, the probablitity of a 'VERB' following a 'NOUN' is greater than that of a 'NOUN' following a 'VERB'. (Based on our train dataset)."
   ]
  },
  {
   "cell_type": "markdown",
   "metadata": {},
   "source": [
    "#### Tags Matrix"
   ]
  },
  {
   "cell_type": "code",
   "execution_count": 14,
   "metadata": {},
   "outputs": [],
   "source": [
    "# Storing the number of unique Tags\n",
    "t = len(Tag)\n",
    "# Storing the number of unique words\n",
    "v = len(Vocab)"
   ]
  },
  {
   "cell_type": "code",
   "execution_count": 15,
   "metadata": {},
   "outputs": [],
   "source": [
    "# creating t x t transition matrix of tags\n",
    "# each column is t2, each row is t1\n",
    "# thus M(i, j) represents P(tj given ti)\n",
    "\n",
    "tags_matrix = np.zeros((t, t), dtype='float32')\n",
    "for i, t1 in enumerate(list(Tag)):\n",
    "    for j, t2 in enumerate(list(Tag)): \n",
    "        tags_matrix[i, j] = t2_given_t1(t2, t1)[0]/t2_given_t1(t2, t1)[1]"
   ]
  },
  {
   "cell_type": "code",
   "execution_count": 16,
   "metadata": {},
   "outputs": [
    {
     "data": {
      "text/plain": [
       "array([[7.95904920e-02, 3.46763551e-01, 1.35402903e-02, 2.31175702e-02,\n",
       "        1.37384415e-01, 1.17569350e-01, 3.13738436e-02, 1.45310434e-02,\n",
       "        3.17040943e-02, 6.77014515e-02, 6.93527097e-03, 1.29788637e-01],\n",
       "       [8.19265917e-02, 1.68731615e-01, 3.15936208e-02, 2.17748180e-01,\n",
       "        3.52330804e-02, 9.16834474e-02, 1.11274585e-01, 3.50782089e-02,\n",
       "        2.29982957e-02, 1.32724181e-01, 5.42047387e-03, 6.55877367e-02],\n",
       "       [1.04370518e-02, 4.01500314e-01, 1.95694715e-03, 1.33724725e-02,\n",
       "        4.30528373e-02, 2.02217866e-02, 2.47553810e-01, 1.85909979e-02,\n",
       "        5.67514673e-02, 9.98043045e-02, 2.28310493e-03, 8.44748840e-02],\n",
       "       [2.60910820e-02, 2.05249846e-01, 1.84535101e-01, 7.52688199e-02,\n",
       "        1.62713468e-01, 1.43896267e-01, 6.30929768e-02, 5.48703335e-02,\n",
       "        2.68817204e-03, 5.37634417e-02, 1.05945608e-02, 1.72359273e-02],\n",
       "       [5.14653325e-02, 8.89921337e-02, 2.41243746e-03, 2.69835591e-02,\n",
       "        9.40850601e-02, 9.12258774e-02, 2.22390994e-01, 6.57612607e-02,\n",
       "        8.10400322e-02, 1.72712654e-01, 5.85239455e-02, 4.43173684e-02],\n",
       "       [1.37029951e-02, 7.96685833e-03, 1.38092204e-03, 3.51604000e-02,\n",
       "        3.97280641e-02, 1.74208619e-02, 3.21542382e-01, 6.96834475e-02,\n",
       "        6.35224134e-02, 3.22073519e-01, 9.56022937e-04, 1.06862120e-01],\n",
       "       [1.71793848e-02, 1.45970285e-01, 4.36203815e-02, 2.91286819e-02,\n",
       "        2.40438744e-01, 1.76624417e-01, 2.64918476e-01, 4.72160662e-03,\n",
       "        9.26161371e-03, 1.34020997e-02, 4.26397398e-02, 1.20945778e-02],\n",
       "       [3.40865552e-02, 4.84105706e-01, 1.22558409e-02, 9.26847979e-02,\n",
       "        4.05974723e-02, 2.29797009e-02, 2.08732292e-01, 7.65990047e-03,\n",
       "        7.65990047e-03, 9.19188093e-03, 5.36193047e-03, 7.46840313e-02],\n",
       "       [2.93685752e-03, 1.82085168e-02, 2.70190891e-02, 2.10279003e-01,\n",
       "        1.16886929e-01, 3.49486060e-02, 3.52129221e-01, 1.46842876e-03,\n",
       "        1.86196774e-01, 3.23054334e-03, 1.35095445e-02, 3.31864916e-02],\n",
       "       [1.29398964e-02, 3.91824879e-02, 2.41867208e-04, 4.68013063e-02,\n",
       "        1.77772399e-02, 9.31188744e-03, 6.38045728e-01, 3.62800830e-03,\n",
       "        2.23727170e-02, 5.68387937e-03, 4.83734417e-04, 2.03531265e-01],\n",
       "       [5.53760976e-02, 1.56898946e-01, 5.07614203e-03, 8.30641482e-03,\n",
       "        3.36871259e-02, 5.39916940e-02, 3.47946465e-01, 5.95293045e-02,\n",
       "        4.24550064e-02, 1.20904475e-01, 4.61467454e-04, 1.15366869e-01],\n",
       "       [4.43495391e-03, 1.24835745e-02, 1.08409990e-02, 2.08607092e-02,\n",
       "        6.38961866e-02, 7.90078864e-02, 6.99572921e-01, 6.57030207e-04,\n",
       "        2.13534813e-02, 4.27069655e-03, 1.62614975e-02, 6.63600489e-02]],\n",
       "      dtype=float32)"
      ]
     },
     "execution_count": 16,
     "metadata": {},
     "output_type": "execute_result"
    }
   ],
   "source": [
    "tags_matrix"
   ]
  },
  {
   "cell_type": "code",
   "execution_count": 17,
   "metadata": {},
   "outputs": [
    {
     "data": {
      "text/html": [
       "<div>\n",
       "<style scoped>\n",
       "    .dataframe tbody tr th:only-of-type {\n",
       "        vertical-align: middle;\n",
       "    }\n",
       "\n",
       "    .dataframe tbody tr th {\n",
       "        vertical-align: top;\n",
       "    }\n",
       "\n",
       "    .dataframe thead th {\n",
       "        text-align: right;\n",
       "    }\n",
       "</style>\n",
       "<table border=\"1\" class=\"dataframe\">\n",
       "  <thead>\n",
       "    <tr style=\"text-align: right;\">\n",
       "      <th></th>\n",
       "      <th>ADV</th>\n",
       "      <th>VERB</th>\n",
       "      <th>PRT</th>\n",
       "      <th>X</th>\n",
       "      <th>.</th>\n",
       "      <th>ADP</th>\n",
       "      <th>NOUN</th>\n",
       "      <th>PRON</th>\n",
       "      <th>NUM</th>\n",
       "      <th>DET</th>\n",
       "      <th>CONJ</th>\n",
       "      <th>ADJ</th>\n",
       "    </tr>\n",
       "  </thead>\n",
       "  <tbody>\n",
       "    <tr>\n",
       "      <th>ADV</th>\n",
       "      <td>0.079590</td>\n",
       "      <td>0.346764</td>\n",
       "      <td>0.013540</td>\n",
       "      <td>0.023118</td>\n",
       "      <td>0.137384</td>\n",
       "      <td>0.117569</td>\n",
       "      <td>0.031374</td>\n",
       "      <td>0.014531</td>\n",
       "      <td>0.031704</td>\n",
       "      <td>0.067701</td>\n",
       "      <td>0.006935</td>\n",
       "      <td>0.129789</td>\n",
       "    </tr>\n",
       "    <tr>\n",
       "      <th>VERB</th>\n",
       "      <td>0.081927</td>\n",
       "      <td>0.168732</td>\n",
       "      <td>0.031594</td>\n",
       "      <td>0.217748</td>\n",
       "      <td>0.035233</td>\n",
       "      <td>0.091683</td>\n",
       "      <td>0.111275</td>\n",
       "      <td>0.035078</td>\n",
       "      <td>0.022998</td>\n",
       "      <td>0.132724</td>\n",
       "      <td>0.005420</td>\n",
       "      <td>0.065588</td>\n",
       "    </tr>\n",
       "    <tr>\n",
       "      <th>PRT</th>\n",
       "      <td>0.010437</td>\n",
       "      <td>0.401500</td>\n",
       "      <td>0.001957</td>\n",
       "      <td>0.013372</td>\n",
       "      <td>0.043053</td>\n",
       "      <td>0.020222</td>\n",
       "      <td>0.247554</td>\n",
       "      <td>0.018591</td>\n",
       "      <td>0.056751</td>\n",
       "      <td>0.099804</td>\n",
       "      <td>0.002283</td>\n",
       "      <td>0.084475</td>\n",
       "    </tr>\n",
       "    <tr>\n",
       "      <th>X</th>\n",
       "      <td>0.026091</td>\n",
       "      <td>0.205250</td>\n",
       "      <td>0.184535</td>\n",
       "      <td>0.075269</td>\n",
       "      <td>0.162713</td>\n",
       "      <td>0.143896</td>\n",
       "      <td>0.063093</td>\n",
       "      <td>0.054870</td>\n",
       "      <td>0.002688</td>\n",
       "      <td>0.053763</td>\n",
       "      <td>0.010595</td>\n",
       "      <td>0.017236</td>\n",
       "    </tr>\n",
       "    <tr>\n",
       "      <th>.</th>\n",
       "      <td>0.051465</td>\n",
       "      <td>0.088992</td>\n",
       "      <td>0.002412</td>\n",
       "      <td>0.026984</td>\n",
       "      <td>0.094085</td>\n",
       "      <td>0.091226</td>\n",
       "      <td>0.222391</td>\n",
       "      <td>0.065761</td>\n",
       "      <td>0.081040</td>\n",
       "      <td>0.172713</td>\n",
       "      <td>0.058524</td>\n",
       "      <td>0.044317</td>\n",
       "    </tr>\n",
       "    <tr>\n",
       "      <th>ADP</th>\n",
       "      <td>0.013703</td>\n",
       "      <td>0.007967</td>\n",
       "      <td>0.001381</td>\n",
       "      <td>0.035160</td>\n",
       "      <td>0.039728</td>\n",
       "      <td>0.017421</td>\n",
       "      <td>0.321542</td>\n",
       "      <td>0.069683</td>\n",
       "      <td>0.063522</td>\n",
       "      <td>0.322074</td>\n",
       "      <td>0.000956</td>\n",
       "      <td>0.106862</td>\n",
       "    </tr>\n",
       "    <tr>\n",
       "      <th>NOUN</th>\n",
       "      <td>0.017179</td>\n",
       "      <td>0.145970</td>\n",
       "      <td>0.043620</td>\n",
       "      <td>0.029129</td>\n",
       "      <td>0.240439</td>\n",
       "      <td>0.176624</td>\n",
       "      <td>0.264918</td>\n",
       "      <td>0.004722</td>\n",
       "      <td>0.009262</td>\n",
       "      <td>0.013402</td>\n",
       "      <td>0.042640</td>\n",
       "      <td>0.012095</td>\n",
       "    </tr>\n",
       "    <tr>\n",
       "      <th>PRON</th>\n",
       "      <td>0.034087</td>\n",
       "      <td>0.484106</td>\n",
       "      <td>0.012256</td>\n",
       "      <td>0.092685</td>\n",
       "      <td>0.040597</td>\n",
       "      <td>0.022980</td>\n",
       "      <td>0.208732</td>\n",
       "      <td>0.007660</td>\n",
       "      <td>0.007660</td>\n",
       "      <td>0.009192</td>\n",
       "      <td>0.005362</td>\n",
       "      <td>0.074684</td>\n",
       "    </tr>\n",
       "    <tr>\n",
       "      <th>NUM</th>\n",
       "      <td>0.002937</td>\n",
       "      <td>0.018209</td>\n",
       "      <td>0.027019</td>\n",
       "      <td>0.210279</td>\n",
       "      <td>0.116887</td>\n",
       "      <td>0.034949</td>\n",
       "      <td>0.352129</td>\n",
       "      <td>0.001468</td>\n",
       "      <td>0.186197</td>\n",
       "      <td>0.003231</td>\n",
       "      <td>0.013510</td>\n",
       "      <td>0.033186</td>\n",
       "    </tr>\n",
       "    <tr>\n",
       "      <th>DET</th>\n",
       "      <td>0.012940</td>\n",
       "      <td>0.039182</td>\n",
       "      <td>0.000242</td>\n",
       "      <td>0.046801</td>\n",
       "      <td>0.017777</td>\n",
       "      <td>0.009312</td>\n",
       "      <td>0.638046</td>\n",
       "      <td>0.003628</td>\n",
       "      <td>0.022373</td>\n",
       "      <td>0.005684</td>\n",
       "      <td>0.000484</td>\n",
       "      <td>0.203531</td>\n",
       "    </tr>\n",
       "    <tr>\n",
       "      <th>CONJ</th>\n",
       "      <td>0.055376</td>\n",
       "      <td>0.156899</td>\n",
       "      <td>0.005076</td>\n",
       "      <td>0.008306</td>\n",
       "      <td>0.033687</td>\n",
       "      <td>0.053992</td>\n",
       "      <td>0.347946</td>\n",
       "      <td>0.059529</td>\n",
       "      <td>0.042455</td>\n",
       "      <td>0.120904</td>\n",
       "      <td>0.000461</td>\n",
       "      <td>0.115367</td>\n",
       "    </tr>\n",
       "    <tr>\n",
       "      <th>ADJ</th>\n",
       "      <td>0.004435</td>\n",
       "      <td>0.012484</td>\n",
       "      <td>0.010841</td>\n",
       "      <td>0.020861</td>\n",
       "      <td>0.063896</td>\n",
       "      <td>0.079008</td>\n",
       "      <td>0.699573</td>\n",
       "      <td>0.000657</td>\n",
       "      <td>0.021353</td>\n",
       "      <td>0.004271</td>\n",
       "      <td>0.016261</td>\n",
       "      <td>0.066360</td>\n",
       "    </tr>\n",
       "  </tbody>\n",
       "</table>\n",
       "</div>"
      ],
      "text/plain": [
       "           ADV      VERB       PRT         X         .       ADP      NOUN  \\\n",
       "ADV   0.079590  0.346764  0.013540  0.023118  0.137384  0.117569  0.031374   \n",
       "VERB  0.081927  0.168732  0.031594  0.217748  0.035233  0.091683  0.111275   \n",
       "PRT   0.010437  0.401500  0.001957  0.013372  0.043053  0.020222  0.247554   \n",
       "X     0.026091  0.205250  0.184535  0.075269  0.162713  0.143896  0.063093   \n",
       ".     0.051465  0.088992  0.002412  0.026984  0.094085  0.091226  0.222391   \n",
       "ADP   0.013703  0.007967  0.001381  0.035160  0.039728  0.017421  0.321542   \n",
       "NOUN  0.017179  0.145970  0.043620  0.029129  0.240439  0.176624  0.264918   \n",
       "PRON  0.034087  0.484106  0.012256  0.092685  0.040597  0.022980  0.208732   \n",
       "NUM   0.002937  0.018209  0.027019  0.210279  0.116887  0.034949  0.352129   \n",
       "DET   0.012940  0.039182  0.000242  0.046801  0.017777  0.009312  0.638046   \n",
       "CONJ  0.055376  0.156899  0.005076  0.008306  0.033687  0.053992  0.347946   \n",
       "ADJ   0.004435  0.012484  0.010841  0.020861  0.063896  0.079008  0.699573   \n",
       "\n",
       "          PRON       NUM       DET      CONJ       ADJ  \n",
       "ADV   0.014531  0.031704  0.067701  0.006935  0.129789  \n",
       "VERB  0.035078  0.022998  0.132724  0.005420  0.065588  \n",
       "PRT   0.018591  0.056751  0.099804  0.002283  0.084475  \n",
       "X     0.054870  0.002688  0.053763  0.010595  0.017236  \n",
       ".     0.065761  0.081040  0.172713  0.058524  0.044317  \n",
       "ADP   0.069683  0.063522  0.322074  0.000956  0.106862  \n",
       "NOUN  0.004722  0.009262  0.013402  0.042640  0.012095  \n",
       "PRON  0.007660  0.007660  0.009192  0.005362  0.074684  \n",
       "NUM   0.001468  0.186197  0.003231  0.013510  0.033186  \n",
       "DET   0.003628  0.022373  0.005684  0.000484  0.203531  \n",
       "CONJ  0.059529  0.042455  0.120904  0.000461  0.115367  \n",
       "ADJ   0.000657  0.021353  0.004271  0.016261  0.066360  "
      ]
     },
     "execution_count": 17,
     "metadata": {},
     "output_type": "execute_result"
    }
   ],
   "source": [
    "# converting the tags matrix to a dataframe for better readability\n",
    "tags_df = pd.DataFrame(tags_matrix, columns = list(Tag), index=list(Tag))\n",
    "tags_df"
   ]
  },
  {
   "cell_type": "code",
   "execution_count": 18,
   "metadata": {},
   "outputs": [
    {
     "data": {
      "text/plain": [
       "ADV     0.051465\n",
       "VERB    0.088992\n",
       "PRT     0.002412\n",
       "X       0.026984\n",
       ".       0.094085\n",
       "ADP     0.091226\n",
       "NOUN    0.222391\n",
       "PRON    0.065761\n",
       "NUM     0.081040\n",
       "DET     0.172713\n",
       "CONJ    0.058524\n",
       "ADJ     0.044317\n",
       "Name: ., dtype: float32"
      ]
     },
     "execution_count": 18,
     "metadata": {},
     "output_type": "execute_result"
    }
   ],
   "source": [
    "tags_df.loc['.', :]"
   ]
  },
  {
   "cell_type": "code",
   "execution_count": 19,
   "metadata": {},
   "outputs": [
    {
     "data": {
      "image/png": "[encoded data removed]",
      "text/plain": [
       "<Figure size 1080x720 with 2 Axes>"
      ]
     },
     "metadata": {
      "needs_background": "light"
     },
     "output_type": "display_data"
    }
   ],
   "source": [
    "# heatmap of tags matrix\n",
    "# T(i, j) means P(tag j given tag i)\n",
    "plt.figure(figsize=(15, 10))\n",
    "sns.heatmap(tags_df, annot=True)\n",
    "plt.show()"
   ]
  },
  {
   "cell_type": "markdown",
   "metadata": {},
   "source": [
    "From the above heatmap, it is clear that-\n",
    "- the transition probablities of a **'DET'** followed by a **'NOUN'**  and an **'ADJ'** followed by a **'NOUN'** tags are extremely high.\n",
    "- the probability of a **'DET'** (determiner) followed by a **'PRT'** (particle) is extremely low.\n"
   ]
  },
  {
   "cell_type": "markdown",
   "metadata": {},
   "source": [
    "#### The Vanilla Viterbi Algorithm"
   ]
  },
  {
   "cell_type": "code",
   "execution_count": 20,
   "metadata": {},
   "outputs": [],
   "source": [
    "# Viterbi Heuristic Function\n",
    "\n",
    "def Viterbi(words, train_bag = train_tagged_words):\n",
    "    state = []\n",
    "    Tag_list = list(set([pair[1] for pair in train_bag]))           # Unique list of tags in the train set\n",
    "    \n",
    "    for key, word in enumerate(words):\n",
    "        #initialise list of probability column for a given observation\n",
    "        p = [] \n",
    "        for tag in Tag_list:\n",
    "            if key == 0:                                            # if the word is the starting word in a sentence\n",
    "                transition_p = tags_df.loc['.', tag]                \n",
    "            else:\n",
    "                transition_p = tags_df.loc[state[-1], tag]\n",
    "                \n",
    "            # compute emission and state probabilities\n",
    "            emission_p = word_given_tag(words[key], tag)[0]/word_given_tag(words[key], tag)[1]\n",
    "            state_probability = emission_p * transition_p    \n",
    "            p.append(state_probability)\n",
    "            \n",
    "        pmax = max(p)\n",
    "        # getting state for which probability is maximum\n",
    "        state_max = Tag_list[p.index(pmax)] \n",
    "        state.append(state_max)\n",
    "    return list(zip(words, state))                                  # Return tagged words"
   ]
  },
  {
   "cell_type": "markdown",
   "metadata": {},
   "source": [
    "#### Evaluating on Validation Set"
   ]
  },
  {
   "cell_type": "code",
   "execution_count": 21,
   "metadata": {},
   "outputs": [],
   "source": [
    "# Let's test our Viterbi algorithm on the Validation dataset\n",
    "\n",
    "random.seed(100)\n",
    "\n",
    "# list of tagged words in the validation set\n",
    "validation_run_base = [tup for sent in validation_set for tup in sent]\n",
    "\n",
    "# list of untagged words extracted from validation set which will be used as input to the Viterbi Algorithm\n",
    "validation_untagged_words = [tup[0] for sent in validation_set for tup in sent]"
   ]
  },
  {
   "cell_type": "code",
   "execution_count": 22,
   "metadata": {},
   "outputs": [
    {
     "name": "stdout",
     "output_type": "stream",
     "text": [
      "Time taken in Seconds:  763.1857135295868\n"
     ]
    }
   ],
   "source": [
    "# tagging the validation sentences with the Vanilla Viterbi\n",
    "# Running on the entire validation dataset would take around 30 mins.\n",
    "start = time.time()\n",
    "# Calling the Vanilla Viterbi algorithm with untagged word list(of the validation set) as input\n",
    "Viterbi_tagged_seq = Viterbi(validation_untagged_words)    \n",
    "end = time.time()\n",
    "difference = end-start\n",
    "print(\"Time taken in Seconds: \", difference)"
   ]
  },
  {
   "cell_type": "code",
   "execution_count": 23,
   "metadata": {},
   "outputs": [
    {
     "name": "stdout",
     "output_type": "stream",
     "text": [
      "[('Faulding', 'NOUN'), ('said', 'VERB'), ('0', 'X'), ('it', 'PRON'), ('owns', 'VERB'), ('33', 'NUM'), ('%', 'NOUN'), ('of', 'ADP'), ('Moleculon', 'NOUN'), (\"'s\", 'PRT'), ('voting', 'NOUN'), ('stock', 'NOUN'), ('and', 'CONJ'), ('has', 'VERB'), ('an', 'DET'), ('agreement', 'NOUN'), ('*', 'X'), ('to', 'PRT'), ('acquire', 'VERB'), ('an', 'DET'), ('additional', 'ADJ'), ('19', 'NUM'), ('%', 'NOUN'), ('.', '.'), ('The', 'DET'), ('government', 'NOUN'), ('includes', 'VERB'), ('money', 'NOUN'), ('spent', 'VERB'), ('*', 'X'), ('on', 'ADP'), ('residential', 'ADJ'), ('renovation', 'NOUN'), (';', '.'), ('Dodge', 'NOUN'), ('does', 'VERB'), (\"n't\", 'ADV'), ('*?*', 'X'), ('.', '.'), ('*', 'X'), ('Beginning', 'ADV'), ('in', 'ADP'), ('1980', 'ADV'), (',', '.'), ('courts', 'NOUN'), ('in', 'ADP'), ('several', 'ADJ'), ('states', 'NOUN'), ('including', 'VERB'), ('California', 'NOUN'), ('and', 'CONJ'), ('New', 'NOUN'), ('York', 'NOUN'), ('decided', 'VERB'), ('*-2', 'X'), ('to', 'PRT'), ('suspend', 'VERB'), ('the', 'DET'), ('common-law', 'ADV'), ('rule', 'VERB'), ('that', 'ADP'), ('plaintiffs', 'NOUN'), ('must', 'VERB'), ('prove', 'VERB'), ('that', 'ADP'), ('the', 'DET'), ('defendants', 'NOUN'), ('are', 'VERB'), ('the', 'DET'), ('ones', 'NOUN'), ('who', 'PRON'), ('*T*-1', 'X'), ('are', 'VERB'), ('liable', 'ADJ'), ('.', '.'), ('Moreover', 'ADV'), (',', '.'), ('there', 'DET'), ('have', 'VERB'), ('been', 'VERB'), ('no', 'DET'), ('orders', 'NOUN'), ('for', 'ADP'), ('the', 'DET'), ('Cray-3', 'NOUN'), ('so', 'ADV'), ('far', 'ADV'), (',', '.'), ('though', 'ADP'), ('the', 'DET'), ('company', 'NOUN'), ('says', 'VERB'), ('0', 'X'), ('it', 'PRON'), ('is', 'VERB'), ('talking', 'VERB'), ('with', 'ADP'), ('several', 'ADJ'), ('prospects', 'NOUN'), ('.', '.'), ('From', 'ADP'), ('the', 'DET'), ('1940s', 'ADV'), ('until', 'ADP'), ('1971', 'NUM'), (',', '.'), ('some', 'DET'), ('two', 'NUM'), ('million', 'NUM'), ('women', 'NOUN'), ('took', 'VERB'), ('the', 'DET'), ('synthetic', 'ADJ'), ('hormone', 'ADV'), ('diethylstilbestrol', 'ADV'), ('-LRB-', '.'), ('DES', 'NOUN'), ('-RRB-', '.'), ('*-1', 'X'), ('to', 'PRT'), ('prevent', 'VERB'), ('miscarriages', 'ADV'), ('and', 'CONJ'), ('morning', 'NOUN'), ('sickness', 'ADV'), ('.', '.'), ('The', 'DET'), ('Internal', 'ADV'), ('Revenue', 'NOUN'), ('Service', 'NOUN'), ('has', 'VERB'), ('threatened', 'VERB'), ('criminal', 'ADJ'), ('sanctions', 'NOUN'), ('against', 'ADP'), ('lawyers', 'NOUN'), ('who', 'PRON'), ('*T*-123', 'ADV'), ('fail', 'VERB'), ('*-1', 'X'), ('to', 'PRT'), ('report', 'NOUN'), ('detailed', 'VERB'), ('information', 'NOUN'), ('about', 'ADP'), ('clients', 'NOUN'), ('who', 'PRON'), ('*T*-124', 'ADV'), ('pay', 'VERB'), ('them', 'PRON'), ('more', 'ADJ'), ('than', 'ADP'), ('$', '.'), ('10,000', 'NUM'), ('*U*', 'X'), ('in', 'ADP'), ('cash', 'NOUN'), ('.', '.'), ('Preliminary', 'ADV'), ('tallies', 'ADV'), ('by', 'ADP'), ('the', 'DET'), ('Trade', 'NOUN'), ('and', 'CONJ'), ('Industry', 'NOUN'), ('Ministry', 'NOUN'), ('showed', 'VERB'), ('another', 'DET'), ('trade', 'NOUN'), ('deficit', 'NOUN'), ('in', 'ADP'), ('October', 'NOUN'), (',', '.'), ('the', 'DET'), ('fifth', 'ADJ'), ('monthly', 'ADJ'), ('setback', 'NOUN'), ('this', 'DET'), ('year', 'NOUN'), (',', '.'), ('*', 'X'), ('casting', 'VERB'), ('a', 'DET'), ('cloud', 'ADV'), ('on', 'ADP'), ('South', 'NOUN'), ('Korea', 'NOUN'), (\"'s\", 'PRT'), ('export-oriented', 'ADV'), ('economy', 'NOUN'), ('.', '.'), ('Country', 'ADV'), ('funds', 'NOUN'), ('offer', 'NOUN'), ('an', 'DET'), ('easy', 'ADJ'), ('way', 'NOUN'), ('0', 'X'), ('*', 'X'), ('to', 'PRT'), ('get', 'VERB'), ('a', 'DET'), ('taste', 'ADV'), ('of', 'ADP'), ('foreign', 'ADJ'), ('stocks', 'NOUN'), ('without', 'ADP'), ('the', 'DET'), ('hard', 'ADJ'), ('research', 'NOUN'), ('of', 'ADP'), ('*', 'X'), ('seeking', 'VERB'), ('out', 'PRT'), ('individual', 'ADJ'), ('companies', 'NOUN'), ('*T*-1', 'X'), ('.', '.'), ('``', '.'), ('We', 'PRON'), ('could', 'VERB'), ('prevent', 'VERB'), ('many', 'ADJ'), ('of', 'ADP'), ('these', 'DET'), ('fatalities', 'NOUN'), ('with', 'ADP'), ('minimum', 'ADJ'), ('roof-crush', 'ADJ'), ('standards', 'NOUN'), (',', '.'), (\"''\", '.'), ('he', 'PRON'), ('said', 'VERB'), ('*T*-1', 'X'), ('.', '.'), ('Few', 'ADJ'), ('people', 'NOUN'), ('think', 'VERB'), ('0', 'X'), ('Mr.', 'NOUN'), ('Spiegel', 'NOUN'), ('wants', 'VERB'), ('*-1', 'X'), ('to', 'PRT'), ('run', 'VERB'), ('a', 'DET'), ('bread-and-butter', 'ADV'), ('thrift', 'NOUN'), (',', '.'), ('which', 'DET'), ('current', 'ADJ'), ('rules', 'NOUN'), ('would', 'VERB'), ('force', 'VERB'), ('Columbia', 'NOUN'), ('to', 'PRT'), ('become', 'VERB'), ('*T*-2', 'X'), ('.', '.'), ('Coincident', 'ADV'), ('with', 'ADP'), ('the', 'DET'), ('talks', 'NOUN'), (',', '.'), ('the', 'DET'), ('State', 'NOUN'), ('Department', 'NOUN'), ('said', 'VERB'), ('0', 'X'), ('it', 'PRON'), ('has', 'VERB'), ('permitted', 'VERB'), ('a', 'DET'), ('Soviet', 'ADJ'), ('bank', 'NOUN'), ('to', 'PRT'), ('open', 'ADJ'), ('a', 'DET'), ('New', 'NOUN'), ('York', 'NOUN'), ('branch', 'NOUN'), ('.', '.'), ('With', 'ADP'), ('the', 'DET'), ('biggest', 'ADJ'), ('wine-buying', 'ADV'), ('period', 'NOUN'), ('of', 'ADP'), ('the', 'DET'), ('year', 'NOUN'), ('looming', 'VERB'), ('as', 'ADP'), ('the', 'DET'), ('holidays', 'ADV'), ('approach', 'NOUN'), (',', '.'), ('it', 'PRON'), ('*EXP*-1', 'X'), ('will', 'VERB'), ('be', 'VERB'), ('interesting', 'ADJ'), ('*', 'X'), ('to', 'PRT'), ('see', 'VERB'), ('how', 'ADV'), ('the', 'DET'), ('superpremiums', 'NOUN'), ('fare', 'VERB'), ('.', '.'), ('Something', 'ADV'), ('like', 'ADP'), ('one-third', 'NOUN'), ('of', 'ADP'), ('the', 'DET'), ('nation', 'NOUN'), (\"'s\", 'PRT'), ('60', 'NUM'), ('largest', 'ADJ'), ('cities', 'NOUN'), ('*ICH*-1', 'X'), ('are', 'VERB'), ('thinking', 'VERB'), ('about', 'ADP'), ('new', 'ADJ'), ('stadiums', 'NOUN'), (',', '.'), ('ranging', 'ADV'), ('from', 'ADP'), ('Cleveland', 'NOUN'), ('to', 'PRT'), ('San', 'NOUN'), ('Antonio', 'NOUN'), ('and', 'CONJ'), ('St.', 'NOUN'), ('Petersburg', 'ADV'), ('.', '.'), ('They', 'PRON'), ('also', 'ADV'), ('have', 'VERB'), ('become', 'VERB'), ('large', 'ADJ'), ('purchasers', 'NOUN'), ('of', 'ADP'), ('Fannie', 'NOUN'), ('Mae', 'NOUN'), (\"'s\", 'PRT'), ('corporate', 'ADJ'), ('debt', 'NOUN'), (',', '.'), ('*-2', 'X'), ('buying', 'VERB'), ('$', '.'), ('2.4', 'NUM'), ('billion', 'NUM'), ('*U*', 'X'), ('in', 'ADP'), ('Fannie', 'NOUN'), ('Mae', 'NOUN'), ('bonds', 'NOUN'), ('during', 'ADP'), ('the', 'DET'), ('first', 'ADJ'), ('nine', 'NUM'), ('months', 'NOUN'), ('of', 'ADP'), ('the', 'DET'), ('year', 'NOUN'), (',', '.'), ('or', 'CONJ'), ('almost', 'ADV'), ('a', 'DET'), ('tenth', 'ADV'), ('of', 'ADP'), ('the', 'DET'), ('total', 'ADJ'), ('amount', 'NOUN'), ('issued', 'VERB'), ('*', 'X'), ('.', '.'), ('Under', 'ADP'), ('the', 'DET'), ('stars', 'NOUN'), ('and', 'CONJ'), ('moons', 'ADV'), ('of', 'ADP'), ('the', 'DET'), ('renovated', 'ADV'), ('Indiana', 'NOUN'), ('Roof', 'ADV'), ('ballroom', 'ADV'), (',', '.'), ('nine', 'NUM'), ('of', 'ADP'), ('the', 'DET'), ('hottest', 'ADV'), ('chefs', 'NOUN'), ('in', 'ADP'), ('town', 'NOUN'), ('fed', 'VERB'), ('them', 'PRON'), ('Indiana', 'NOUN'), ('duckling', 'ADV'), ('mousseline', 'ADV'), (',', '.'), ('lobster', 'ADV'), ('consomme', 'ADV'), (',', '.'), ('veal', 'ADV'), ('mignon', 'ADV'), ('and', 'CONJ'), ('chocolate', 'ADV'), ('terrine', 'ADV'), ('with', 'ADP'), ('a', 'DET'), ('raspberry', 'ADV'), ('sauce', 'ADV'), ('.', '.'), ('House-Senate', 'NOUN'), ('conferees', 'ADV'), ('approved', 'VERB'), ('major', 'ADJ'), ('portions', 'NOUN'), ('of', 'ADP'), ('a', 'DET'), ('package', 'NOUN'), ('for', 'ADP'), ('more', 'ADJ'), ('than', 'ADP'), ('$', '.'), ('500', 'NUM'), ('million', 'NUM'), ('*U*', 'X'), ('in', 'ADP'), ('economic', 'ADJ'), ('aid', 'NOUN'), ('for', 'ADP'), ('Poland', 'NOUN'), ('.', '.'), ('May', 'NOUN'), ('Stores', 'NOUN'), (',', '.'), ('St.', 'NOUN'), ('Louis', 'NOUN'), (',', '.'), ('runs', 'VERB'), ('such', 'ADJ'), ('well-known', 'ADV'), ('department', 'NOUN'), ('stores', 'NOUN'), ('as', 'ADP'), ('Lord', 'NOUN'), ('&', 'CONJ'), ('Taylor', 'NOUN'), ('.', '.'), ('The', 'DET'), ('McAlpine', 'NOUN'), ('family', 'NOUN'), (',', '.'), ('which', 'DET'), ('*T*-1', 'X'), ('operates', 'VERB'), ('a', 'DET'), ('number', 'NOUN'), ('of', 'ADP'), ('multinational', 'ADV'), ('companies', 'NOUN'), (',', '.'), ('including', 'VERB'), ('a', 'DET'), ('London-based', 'ADJ'), ('engineering', 'NOUN'), ('and', 'CONJ'), ('construction', 'NOUN'), ('company', 'NOUN'), (',', '.'), ('also', 'ADV'), ('lent', 'VERB'), ('to', 'PRT'), ('Meridian', 'NOUN'), ('National', 'NOUN'), ('$', '.'), ('500,000', 'NUM'), ('*U*', 'X'), ('.', '.'), ('The', 'DET'), ('company', 'NOUN'), ('said', 'VERB'), ('0', 'X'), ('holders', 'NOUN'), ('of', 'ADP'), ('stock', 'NOUN'), ('of', 'ADP'), ('record', 'NOUN'), ('Nov.', 'NOUN'), ('10', 'NUM'), ('will', 'VERB'), ('receive', 'VERB'), ('1\\\\/10th', 'ADV'), ('of', 'ADP'), ('one', 'NUM'), ('cent', 'NOUN'), ('a', 'DET'), ('share', 'NOUN'), ('as', 'ADP'), ('the', 'DET'), ('redemption', 'ADV'), ('payment', 'NOUN'), ('.', '.'), ('For', 'ADP'), ('all', 'DET'), ('the', 'DET'), ('furor', 'NOUN'), (',', '.'), ('there', 'DET'), ('is', 'VERB'), ('nothing', 'NOUN'), ('particularly', 'ADV'), ('complex', 'ADJ'), ('about', 'ADP'), ('the', 'DET'), ('concept', 'NOUN'), ('of', 'ADP'), ('stock-index', 'ADJ'), ('arbitrage', 'NOUN'), (',', '.'), ('the', 'DET'), ('most', 'ADJ'), ('controversial', 'ADJ'), ('type', 'NOUN'), ('of', 'ADP'), ('computer-assisted', 'ADJ'), ('program', 'NOUN'), ('trading', 'NOUN'), ('.', '.'), ('Mr.', 'NOUN'), ('Edelman', 'NOUN'), ('declined', 'VERB'), ('*-2', 'X'), ('to', 'PRT'), ('specify', 'VERB'), ('what', 'PRON'), ('*T*-1', 'X'), ('prompted', 'VERB'), ('the', 'DET'), ('recent', 'ADJ'), ('moves', 'NOUN'), (',', '.'), ('*-2', 'X'), ('saying', 'VERB'), ('0', 'X'), ('they', 'PRON'), ('are', 'VERB'), ('meant', 'VERB'), ('only', 'ADV'), ('*-4', 'X'), ('to', 'PRT'), ('benefit', 'VERB'), ('shareholders', 'NOUN'), ('when', 'ADV'), ('``', '.'), ('the', 'DET'), ('company', 'NOUN'), ('is', 'VERB'), ('on', 'ADP'), ('a', 'DET'), ('roll', 'VERB'), ('*T*-3', 'X'), ('.', '.'), (\"''\", '.'), ('The', 'DET'), ('cash', 'NOUN'), ('value', 'NOUN'), ('is', 'VERB'), ('determined', 'VERB'), ('*-1', 'X'), ('by', 'ADP'), ('*', 'X'), ('multiplying', 'ADV'), ('the', 'DET'), ('index', 'NOUN'), ('number', 'NOUN'), ('by', 'ADP'), ('a', 'DET'), ('specified', 'VERB'), ('amount', 'NOUN'), ('.', '.'), ('The', 'DET'), ('top', 'ADJ'), ('money', 'NOUN'), ('funds', 'NOUN'), ('are', 'VERB'), ('currently', 'ADV'), ('yielding', 'VERB'), ('well', 'ADV'), ('over', 'ADP'), ('9', 'NUM'), ('%', 'NOUN'), ('.', '.'), ('In', 'ADP'), ('Singapore', 'NOUN'), (',', '.'), ('a', 'DET'), ('new', 'ADJ'), ('law', 'NOUN'), ('requires', 'VERB'), ('smokers', 'NOUN'), ('to', 'PRT'), ('put', 'VERB'), ('out', 'PRT'), ('their', 'PRON'), ('cigarettes', 'NOUN'), ('before', 'ADP'), ('*-1', 'X'), ('entering', 'VERB'), ('restaurants', 'NOUN'), (',', '.'), ('department', 'NOUN'), ('stores', 'NOUN'), ('and', 'CONJ'), ('sports', 'NOUN'), ('centers', 'VERB'), ('or', 'CONJ'), ('face', 'VERB'), ('a', 'DET'), ('$', '.'), ('250', 'NUM'), ('*U*', 'X'), ('fine', 'NOUN'), ('.', '.'), ('Named', 'ADV'), ('*-2', 'X'), ('as', 'ADP'), ('defendants', 'NOUN'), ('were', 'VERB'), ('*T*-1', 'X'), ('Roland', 'ADV'), ('Matthews', 'ADV'), (',', '.'), ('president', 'NOUN'), (',', '.'), ('and', 'CONJ'), ('Peter', 'NOUN'), ('Jonas', 'ADV'), (',', '.'), ('executive', 'NOUN'), ('vice', 'NOUN'), ('president', 'NOUN'), ('and', 'CONJ'), ('chief', 'NOUN'), ('financial', 'ADJ'), ('officer', 'NOUN'), (',', '.'), ('as', 'ADP'), ('well', 'ADV'), ('as', 'ADP'), ('a', 'DET'), ('former', 'ADJ'), ('plant', 'NOUN'), ('manager', 'NOUN'), ('.', '.'), ('The', 'DET'), ('minimum', 'ADJ'), ('unit', 'NOUN'), ('is', 'VERB'), ('$', '.'), ('100,000', 'NUM'), ('*U*', 'X'), ('.', '.'), ('I', 'PRON'), ('loved', 'VERB'), ('the', 'DET'), ('school', 'NOUN'), (',', '.'), ('its', 'PRON'), ('history', 'NOUN'), ('.', '.'), ('Mr.', 'NOUN'), ('Baldwin', 'NOUN'), ('is', 'VERB'), ('also', 'ADV'), ('attacking', 'ADV'), ('the', 'DET'), ('greater', 'ADJ'), ('problem', 'NOUN'), (':', '.'), ('lack', 'NOUN'), ('of', 'ADP'), ('ringers', 'NOUN'), ('.', '.'), ('The', 'DET'), ('``', '.'), ('causes', 'NOUN'), (\"''\", '.'), ('of', 'ADP'), ('homelessness', 'NOUN'), ('are', 'VERB'), ('poorly', 'ADV'), ('understood', 'VERB'), ('and', 'CONJ'), ('complex', 'ADJ'), ('in', 'ADP'), ('any', 'DET'), ('individual', 'ADJ'), ('case', 'NOUN'), ('.', '.'), ('In', 'ADP'), ('his', 'PRON'), ('talks', 'NOUN'), (',', '.'), ('the', 'DET'), ('former', 'ADJ'), ('president', 'NOUN'), ('urged', 'VERB'), ('China', 'NOUN'), (\"'s\", 'PRT'), ('leaders', 'NOUN'), ('*-1', 'X'), ('to', 'PRT'), ('acknowledge', 'ADV'), ('that', 'ADP'), ('their', 'PRON'), ('nation', 'NOUN'), ('is', 'VERB'), ('part', 'NOUN'), ('of', 'ADP'), ('the', 'DET'), ('world', 'NOUN'), ('community', 'NOUN'), ('and', 'CONJ'), ('welcome', 'ADV'), ('the', 'DET'), ('infusion', 'ADV'), ('of', 'ADP'), ('outside', 'ADJ'), ('contacts', 'NOUN'), ('and', 'CONJ'), ('ideas', 'NOUN'), ('.', '.'), ('In', 'ADP'), ('an', 'DET'), ('joint', 'ADJ'), ('interview', 'NOUN'), ('yesterday', 'NOUN'), (',', '.'), ('both', 'DET'), ('men', 'NOUN'), ('said', 'VERB'), ('0', 'X'), ('they', 'PRON'), ('would', 'VERB'), ('like', 'ADP'), ('*-1', 'X'), ('to', 'PRT'), ('be', 'VERB'), ('the', 'DET'), ('company', 'NOUN'), (\"'s\", 'PRT'), ('next', 'ADJ'), ('chief', 'NOUN'), ('executive', 'NOUN'), ('.', '.'), ('Santa', 'NOUN'), ('Fe', 'NOUN'), ('Pacific', 'NOUN'), ('dropped', 'VERB'), ('1', 'NUM'), ('1\\\\/8', 'NUM'), ('to', 'PRT'), ('17', 'NUM'), ('3\\\\/4', 'NUM'), ('.', '.'), ('Mr.', 'NOUN'), ('Giuliani', 'NOUN'), (\"'s\", 'PRT'), ('campaign', 'NOUN'), ('chairman', 'NOUN'), (',', '.'), ('Peter', 'NOUN'), ('Powers', 'ADV'), (',', '.'), ('says', 'VERB'), ('0', 'X'), ('the', 'DET'), ('Dinkins', 'NOUN'), ('ad', 'NOUN'), ('is', 'VERB'), ('``', '.'), ('deceptive', 'ADV'), ('.', '.'), (\"''\", '.'), ('An', 'DET'), ('exhibition', 'NOUN'), ('of', 'ADP'), ('American', 'ADJ'), ('design', 'NOUN'), ('and', 'CONJ'), ('architecture', 'NOUN'), ('opened', 'VERB'), ('in', 'ADP'), ('September', 'NOUN'), ('in', 'ADP'), ('Moscow', 'NOUN'), ('and', 'CONJ'), ('will', 'VERB'), ('travel', 'NOUN'), ('to', 'PRT'), ('eight', 'NUM'), ('other', 'ADJ'), ('Soviet', 'NOUN'), ('cities', 'NOUN'), ('.', '.'), ('Dealers', 'NOUN'), ('said', 'VERB'), ('0', 'X'), ('that', 'ADP'), ('interpretation', 'NOUN'), ('sparked', 'VERB'), ('expectations', 'NOUN'), ('of', 'ADP'), ('an', 'DET'), ('imminent', 'ADJ'), ('bid', 'NOUN'), ('by', 'ADP'), ('Ford', 'NOUN'), ('.', '.'), ('``', '.'), ('If', 'ADP'), ('they', 'PRON'), ('approach', 'NOUN'), ('it', 'PRON'), ('with', 'ADP'), ('a', 'DET'), ('benevolent', 'ADV'), (',', '.'), ('altruistic', 'ADV'), ('attitude', 'NOUN'), (',', '.'), ('there', 'DET'), ('will', 'VERB'), ('be', 'VERB'), ('a', 'DET'), ('net', 'ADJ'), ('gain', 'NOUN'), ('for', 'ADP'), ('everyone', 'NOUN'), ('.', '.'), (\"''\", '.'), ('First', 'NOUN'), ('of', 'ADP'), ('America', 'NOUN'), ('said', 'VERB'), ('0', 'X'), ('some', 'DET'), ('of', 'ADP'), ('the', 'DET'), ('managers', 'NOUN'), ('will', 'VERB'), ('take', 'VERB'), ('other', 'ADJ'), ('jobs', 'NOUN'), ('with', 'ADP'), ('First', 'NOUN'), ('of', 'ADP'), ('America', 'NOUN'), ('.', '.'), ('However', 'ADV'), (',', '.'), ('the', 'DET'), ('junk-bond', 'NOUN'), ('market', 'NOUN'), ('has', 'VERB'), ('collapsed', 'VERB'), ('in', 'ADP'), ('recent', 'ADJ'), ('weeks', 'NOUN'), (',', '.'), ('*', 'X'), ('lessening', 'ADV'), ('the', 'DET'), ('likelihood', 'ADV'), ('that', 'ADP'), ('such', 'ADJ'), ('a', 'DET'), ('transaction', 'NOUN'), ('would', 'VERB'), ('succeed', 'VERB'), ('.', '.'), ('Reed', 'NOUN'), ('is', 'VERB'), ('paying', 'VERB'), ('an', 'DET'), ('interim', 'ADJ'), ('dividend', 'NOUN'), ('of', 'ADP'), ('4.6', 'NUM'), ('pence', 'NOUN'), (',', '.'), ('up', 'ADV'), ('15', 'NUM'), ('%', 'NOUN'), ('from', 'ADP'), ('4', 'NUM'), ('pence', 'NOUN'), ('a', 'DET'), ('year', 'NOUN'), ('earlier', 'ADV'), ('.', '.'), ('The', 'DET'), ('Treasury', 'NOUN'), ('said', 'VERB'), ('0', 'X'), ('the', 'DET'), ('U.S.', 'NOUN'), ('will', 'VERB'), ('default', 'NOUN'), ('on', 'ADP'), ('Nov.', 'NOUN'), ('9', 'NUM'), ('if', 'ADP'), ('Congress', 'NOUN'), ('does', 'VERB'), (\"n't\", 'ADV'), ('act', 'VERB'), ('by', 'ADP'), ('then', 'ADV'), ('.', '.'), ('William', 'NOUN'), ('Randolph', 'NOUN'), ('Hearst', 'NOUN'), ('had', 'VERB'), ('kept', 'VERB'), ('an', 'DET'), ('apartment', 'NOUN'), ('in', 'ADP'), ('the', 'DET'), ('Spanish', 'ADV'), ('Renaissance-style', 'ADV'), ('building', 'VERB'), ('.', '.'), ('An', 'DET'), ('official', 'NOUN'), ('of', 'ADP'), ('the', 'DET'), ('Palestinian', 'ADV'), ('Olympic', 'NOUN'), ('Committee', 'NOUN'), ('said', 'VERB'), ('0', 'X'), ('the', 'DET'), ('committee', 'NOUN'), ('first', 'ADJ'), ('applied', 'VERB'), ('for', 'ADP'), ('membership', 'NOUN'), ('in', 'ADP'), ('1979', 'NUM'), ('and', 'CONJ'), ('renewed', 'VERB'), ('its', 'PRON'), ('application', 'NOUN'), ('in', 'ADP'), ('August', 'NOUN'), ('of', 'ADP'), ('this', 'DET'), ('year', 'NOUN'), ('.', '.'), ('The', 'DET'), ('appointment', 'NOUN'), ('takes', 'VERB'), ('effect', 'NOUN'), ('Nov.', 'NOUN'), ('13', 'NUM'), ('.', '.'), ('Equitable', 'NOUN'), ('of', 'ADP'), ('Iowa', 'NOUN'), ('Cos.', 'ADV'), (',', '.'), ('Des', 'NOUN'), ('Moines', 'NOUN'), (',', '.'), ('had', 'VERB'), ('been', 'VERB'), ('seeking', 'VERB'), ('a', 'DET'), ('buyer', 'NOUN'), ('for', 'ADP'), ('the', 'DET'), ('36-store', 'ADV'), ('Younkers', 'NOUN'), ('chain', 'NOUN'), ('since', 'ADP'), ('June', 'NOUN'), (',', '.'), ('when', 'ADV'), ('it', 'PRON'), ('announced', 'VERB'), ('its', 'PRON'), ('intention', 'NOUN'), ('*', 'X'), ('to', 'PRT'), ('free', 'ADJ'), ('up', 'PRT'), ('capital', 'NOUN'), ('*', 'X'), ('to', 'PRT'), ('expand', 'VERB'), ('its', 'PRON'), ('insurance', 'NOUN'), ('business', 'NOUN'), ('*T*-1', 'X'), ('.', '.'), ('Waertsilae', 'NOUN'), ('Marine', 'NOUN'), (\"'s\", 'PRT'), ('biggest', 'ADJ'), ('creditor', 'NOUN'), ('is', 'VERB'), ('Miami-based', 'ADJ'), ('Carnival', 'NOUN'), ('Cruise', 'NOUN'), ('Lines', 'NOUN'), ('Inc', 'NOUN'), ('.', '.'), ('Yasser', 'ADV'), ('Arafat', 'ADV'), ('has', 'VERB'), ('written', 'VERB'), ('to', 'PRT'), ('the', 'DET'), ('chairman', 'NOUN'), ('of', 'ADP'), ('the', 'DET'), ('International', 'NOUN'), ('Olympic', 'NOUN'), ('Committee', 'NOUN'), ('*-2', 'X'), ('asking', 'VERB'), ('him', 'PRON'), ('*-3', 'X'), ('to', 'PRT'), ('back', 'ADV'), ('a', 'DET'), ('Palestinian', 'ADV'), ('bid', 'VERB'), ('*', 'X'), ('to', 'PRT'), ('join', 'VERB'), ('the', 'DET'), ('committee', 'NOUN'), (',', '.'), ('the', 'DET'), ('Palestine', 'ADV'), ('Liberation', 'ADV'), ('Organization', 'NOUN'), ('news', 'NOUN'), ('agency', 'NOUN'), ('WAFA', 'ADV'), ('said', 'VERB'), ('0', 'X'), ('*T*-1', 'X'), ('.', '.'), ('Previously', 'ADV'), (',', '.'), ('watch', 'VERB'), ('imports', 'NOUN'), ('were', 'VERB'), ('denied', 'VERB'), ('*-37', 'X'), ('such', 'ADJ'), ('duty-free', 'ADJ'), ('treatment', 'NOUN'), ('.', '.'), ('BANKERS', 'ADV'), ('ACCEPTANCES', 'ADV'), (':', '.'), ('8.50', 'NUM'), ('%', 'NOUN'), ('30', 'NUM'), ('days', 'NOUN'), (';', '.'), ('8.48', 'ADV'), ('%', 'NOUN'), ('60', 'NUM'), ('days', 'NOUN'), (';', '.'), ('8.30', 'ADV'), ('%', 'NOUN'), ('90', 'NUM'), ('days', 'NOUN'), (';', '.'), ('8.15', 'ADV'), ('%', 'NOUN'), ('120', 'NUM'), ('days', 'NOUN'), (';', '.'), ('8.07', 'NUM'), ('%', 'NOUN'), ('150', 'NUM'), ('days', 'NOUN'), (';', '.'), ('7.95', 'NUM'), ('%', 'NOUN'), ('180', 'NUM'), ('days', 'NOUN'), ('.', '.'), ('One', 'NUM'), ('investment', 'NOUN'), ('banker', 'NOUN'), ('said', 'VERB'), ('0', 'X'), ('Mr.', 'NOUN'), ('Steinberg', 'NOUN'), ('may', 'VERB'), ('be', 'VERB'), ('trying', 'VERB'), ('*-2', 'X'), ('to', 'PRT'), ('position', 'NOUN'), ('himself', 'PRON'), ('as', 'ADP'), ('a', 'DET'), ('friendly', 'ADJ'), ('investor', 'NOUN'), ('who', 'PRON'), ('*T*-1', 'X'), ('could', 'VERB'), ('help', 'VERB'), ('UAL', 'NOUN'), ('Chairman', 'NOUN'), ('Stephen', 'NOUN'), ('Wolf', 'NOUN'), ('revive', 'VERB'), ('a', 'DET'), ('failed', 'VERB'), ('labor-management', 'ADJ'), ('bid', 'NOUN'), ('.', '.'), ('Leo', 'NOUN'), ('Melamed', 'ADV'), (',', '.'), ('Merc', 'NOUN'), ('executive', 'NOUN'), ('committee', 'NOUN'), ('chairman', 'NOUN'), (',', '.'), ('said', 'VERB'), ('that', 'ADP'), ('the', 'DET'), ('12-point', 'ADJ'), ('limit', 'NOUN'), ('appeared', 'VERB'), ('*-1', 'X'), ('to', 'PRT'), ('lessen', 'ADV'), ('the', 'DET'), ('selling', 'NOUN'), ('panic', 'VERB'), ('Oct.', 'NOUN'), ('13', 'NUM'), ('.', '.'), ('The', 'DET'), ('biggest', 'ADJ'), ('firms', 'NOUN'), ('still', 'ADV'), ('retain', 'VERB'), ('the', 'DET'), ('highest', 'ADJ'), ('ratings', 'NOUN'), ('on', 'ADP'), ('their', 'PRON'), ('commercial', 'ADJ'), ('paper', 'NOUN'), ('.', '.'), ('The', 'DET'), ('Chicago', 'NOUN'), ('Mercantile', 'NOUN'), ('Exchange', 'NOUN'), ('said', 'VERB'), ('0', 'X'), ('it', 'PRON'), ('plans', 'VERB'), ('*-1', 'X'), ('to', 'PRT'), ('institute', 'NOUN'), ('an', 'DET'), ('additional', 'ADJ'), ('``', '.'), ('circuit', 'NOUN'), ('breaker', 'NOUN'), (\"''\", '.'), ('aimed', 'VERB'), ('*', 'X'), ('at', 'ADP'), ('*', 'X'), ('stemming', 'VERB'), ('market', 'NOUN'), ('slides', 'VERB'), ('.', '.'), ('Rep.', 'NOUN'), ('Jerry', 'NOUN'), ('Lewis', 'NOUN'), (',', '.'), ('a', 'DET'), ('conservative', 'ADJ'), ('Californian', 'ADV'), (',', '.'), ('added', 'VERB'), ('a', 'DET'), ('provision', 'NOUN'), ('of', 'ADP'), ('his', 'PRON'), ('own', 'ADJ'), ('intended', 'VERB'), ('*', 'X'), ('to', 'PRT'), ('assist', 'VERB'), ('Bolivia', 'ADV'), (',', '.'), ('and', 'CONJ'), ('the', 'DET'), ('Senate', 'NOUN'), ('then', 'ADV'), ('broadened', 'ADV'), ('the', 'DET'), ('list', 'NOUN'), ('further', 'ADV'), ('by', 'ADP'), ('*-1', 'X'), ('including', 'VERB'), ('all', 'DET'), ('countries', 'NOUN'), ('in', 'ADP'), ('the', 'DET'), ('U.S.', 'NOUN'), ('Caribbean', 'NOUN'), ('Basin', 'NOUN'), ('initiate', 'ADV'), ('as', 'ADP'), ('well', 'ADV'), ('as', 'ADP'), ('the', 'DET'), ('Philippines', 'NOUN'), ('-', '.'), ('*-1', 'X'), ('backed', 'VERB'), ('*', 'X'), ('by', 'ADP'), ('the', 'DET'), ('powerful', 'ADJ'), ('Hawaii', 'NOUN'), ('Democrat', 'NOUN'), ('Sen.', 'NOUN'), ('Daniel', 'NOUN'), ('Inouye', 'NOUN'), ('.', '.'), ('UAL', 'NOUN'), (\"'s\", 'PRT'), ('announcement', 'NOUN'), ('came', 'VERB'), ('after', 'ADP'), ('the', 'DET'), ('market', 'NOUN'), ('closed', 'VERB'), ('yesterday', 'NOUN'), ('.', '.'), ('Democratic', 'ADJ'), ('Lt.', 'ADV'), ('Gov.', 'ADV'), ('Douglas', 'NOUN'), ('Wilder', 'NOUN'), ('opened', 'VERB'), ('his', 'PRON'), ('gubernatorial', 'ADV'), ('battle', 'VERB'), ('with', 'ADP'), ('Republican', 'ADJ'), ('Marshall', 'NOUN'), ('Coleman', 'NOUN'), ('with', 'ADP'), ('an', 'DET'), ('abortion', 'NOUN'), ('commercial', 'NOUN'), ('produced', 'VERB'), ('*', 'X'), ('by', 'ADP'), ('Frank', 'NOUN'), ('Greer', 'ADV'), ('that', 'ADP'), ('analysts', 'NOUN'), ('of', 'ADP'), ('every', 'DET'), ('political', 'ADJ'), ('persuasion', 'ADV'), ('agree', 'VERB'), ('0', 'X'), ('*T*-1', 'X'), ('was', 'VERB'), ('a', 'DET'), ('tour', 'ADV'), ('de', 'ADP'), ('force', 'NOUN'), ('.', '.'), ('When', 'ADV'), ('Bell', 'NOUN'), ('established', 'ADV'), ('that', 'ADP'), ('the', 'DET'), ('Berliner', 'NOUN'), ('patent', 'NOUN'), ('caveat', 'ADV'), ('was', 'VERB'), ('registered', 'VERB'), ('*-145', 'ADV'), ('10', 'NUM'), ('days', 'NOUN'), ('before', 'ADP'), ('Edison', 'NOUN'), (\"'s\", 'PRT'), ('application', 'NOUN'), ('*T*-1', 'X'), (',', '.'), ('Western', 'NOUN'), ('Union', 'NOUN'), ('dropped', 'VERB'), ('the', 'DET'), ('lawsuit', 'NOUN'), ('and', 'CONJ'), ('agreed', 'VERB'), ('*-2', 'X'), ('never', 'ADV'), ('to', 'PRT'), ('enter', 'ADV'), ('the', 'DET'), ('telephone', 'NOUN'), ('business', 'NOUN'), ('--', '.'), ('the', 'DET'), ('basis', 'NOUN'), ('for', 'ADP'), ('the', 'DET'), ('company', 'NOUN'), (\"'s\", 'PRT'), ('current', 'ADJ'), ('plight', 'NOUN'), ('.', '.'), ('Michael', 'NOUN'), ('Basham', 'NOUN'), (',', '.'), ('deputy', 'NOUN'), ('assistant', 'NOUN'), ('secretary', 'NOUN'), ('for', 'ADP'), ('federal', 'ADJ'), ('finance', 'NOUN'), (',', '.'), ('said', 'VERB'), ('0', 'X'), ('the', 'DET'), ('Treasury', 'NOUN'), ('may', 'VERB'), ('wait', 'VERB'), ('until', 'ADP'), ('late', 'ADJ'), ('Monday', 'NOUN'), ('or', 'CONJ'), ('even', 'ADV'), ('early', 'ADJ'), ('Tuesday', 'NOUN'), ('*-2', 'X'), ('to', 'PRT'), ('announce', 'VERB'), ('whether', 'ADP'), ('the', 'DET'), ('autions', 'ADV'), ('are', 'VERB'), ('*-1', 'X'), ('to', 'PRT'), ('be', 'VERB'), ('rescheduled', 'ADV'), ('*-106', 'ADV'), ('.', '.'), ('Without', 'ADP'), ('*-1', 'X'), ('admitting', 'VERB'), ('or', 'CONJ'), ('denying', 'VERB'), ('wrongdoing', 'NOUN'), (',', '.'), ('they', 'PRON'), ('consented', 'VERB'), ('to', 'PRT'), ('findings', 'NOUN'), ('that', 'ADP'), ('they', 'PRON'), ('failed', 'VERB'), ('*-2', 'X'), ('to', 'PRT'), ('return', 'NOUN'), ('funds', 'NOUN'), ('owed', 'VERB'), ('*', 'X'), ('to', 'PRT'), ('customers', 'NOUN'), ('in', 'ADP'), ('connection', 'NOUN'), ('with', 'ADP'), ('a', 'DET'), ('limited-partnership', 'NOUN'), ('offering', 'NOUN'), ('.', '.'), ('Not', 'ADV'), ('that', 'ADP'), ('Washington', 'NOUN'), ('and', 'CONJ'), ('Tokyo', 'NOUN'), ('disagree', 'ADV'), ('on', 'ADP'), ('the', 'DET'), ('Japanese', 'ADJ'), ('acquisitions', 'NOUN'), (';', '.'), ('indeed', 'ADV'), (',', '.'), ('each', 'DET'), ('has', 'VERB'), ('come', 'VERB'), ('out', 'PRT'), ('in', 'ADP'), ('favor', 'NOUN'), ('of', 'ADP'), ('unfettered', 'ADV'), ('investment', 'NOUN'), ('in', 'ADP'), ('the', 'DET'), ('U.S.', 'NOUN'), ('.', '.'), ('Mary', 'NOUN'), ('Elizabeth', 'NOUN'), ('Ariail', 'ADV'), (',', '.'), ('another', 'DET'), ('social-studies', 'NOUN'), ('teacher', 'NOUN'), (',', '.'), ('says', 'VERB'), ('0', 'X'), ('she', 'PRON'), ('believed', 'VERB'), ('0', 'X'), ('Mrs.', 'NOUN'), ('Yeargin', 'NOUN'), ('wanted', 'VERB'), ('*-1', 'X'), ('to', 'PRT'), ('keep', 'VERB'), ('her', 'PRON'), ('standing', 'NOUN'), ('high', 'ADJ'), ('so', 'ADP'), ('she', 'PRON'), ('could', 'VERB'), ('get', 'VERB'), ('a', 'DET'), ('new', 'ADJ'), ('job', 'NOUN'), ('that', 'ADP'), ('*T*-92', 'X'), ('would', 'VERB'), (\"n't\", 'ADV'), ('demand', 'NOUN'), ('good', 'ADJ'), ('hearing', 'NOUN'), ('.', '.'), ('Reserves', 'NOUN'), ('traded', 'VERB'), ('*', 'X'), ('among', 'ADP'), ('commercial', 'ADJ'), ('banks', 'NOUN'), ('for', 'ADP'), ('overnight', 'ADV'), ('use', 'VERB'), ('in', 'ADP'), ('amounts', 'NOUN'), ('of', 'ADP'), ('$', '.'), ('1', 'NUM'), ('million', 'NUM'), ('or', 'CONJ'), ('more', 'ADJ'), ('*U*', 'X'), ('.', '.'), ('He', 'PRON'), ('contends', 'VERB'), ('that', 'ADP'), ('the', 'DET'), ('perception', 'NOUN'), ('in', 'ADP'), ('Japan', 'NOUN'), ('of', 'ADP'), ('a', 'DET'), ('vitriolic', 'ADV'), ('U.S.', 'NOUN'), ('response', 'NOUN'), ('to', 'PRT'), ('Sony', 'NOUN'), ('Corp.', 'NOUN'), (\"'s\", 'PRT'), ('announcement', 'NOUN'), ('of', 'ADP'), ('its', 'PRON'), ('purchase', 'NOUN'), ('of', 'ADP'), ('Columbia', 'NOUN'), ('Pictures', 'NOUN'), ('Entertainment', 'NOUN'), ('Inc.', 'NOUN'), ('has', 'VERB'), ('been', 'VERB'), ('temporarily', 'ADV'), ('mollified', 'ADV'), ('*-2', 'X'), ('.', '.'), ('The', 'DET'), ('goverment', 'ADV'), ('counts', 'NOUN'), ('money', 'NOUN'), ('as', 'ADP'), ('it', 'PRON'), ('is', 'VERB'), ('spent', 'VERB'), ('*-53', 'X'), (';', '.'), ('Dodge', 'NOUN'), ('counts', 'NOUN'), ('contracts', 'NOUN'), ('when', 'ADV'), ('they', 'PRON'), ('are', 'VERB'), ('awarded', 'VERB'), ('*-54', 'X'), ('*T*-1', 'X'), ('.', '.'), ('The', 'DET'), ('issue', 'NOUN'), ('is', 'VERB'), ('further', 'ADJ'), ('complicated', 'ADJ'), ('*-1', 'X'), ('by', 'ADP'), ('uncertainty', 'NOUN'), ('over', 'ADP'), ('the', 'DET'), ('future', 'ADJ'), ('of', 'ADP'), ('the', 'DET'), ('U.S.', 'NOUN'), (\"'s\", 'PRT'), ('leases', 'NOUN'), ('on', 'ADP'), ('military', 'ADJ'), ('bases', 'NOUN'), ('in', 'ADP'), ('the', 'DET'), ('Philippines', 'NOUN'), ('and', 'CONJ'), ('by', 'ADP'), ('a', 'DET'), ('possible', 'ADJ'), ('U.S.', 'NOUN'), ('troop', 'ADV'), ('reduction', 'NOUN'), ('in', 'ADP'), ('South', 'NOUN'), ('Korea', 'NOUN'), ('.', '.'), ('The', 'DET'), ('Baker', 'NOUN'), ('proposal', 'NOUN'), ('reasserts', 'ADV'), ('Washington', 'NOUN'), (\"'s\", 'PRT'), ('intention', 'NOUN'), ('*', 'X'), ('to', 'PRT'), ('continue', 'VERB'), ('*-1', 'X'), ('playing', 'VERB'), ('a', 'DET'), ('leading', 'ADJ'), ('political', 'ADJ'), ('role', 'NOUN'), ('in', 'ADP'), ('the', 'DET'), ('region', 'NOUN'), ('.', '.'), ('For', 'ADP'), ('1988', 'NUM'), (',', '.'), ('Commonwealth', 'NOUN'), ('Edison', 'NOUN'), ('reported', 'VERB'), ('earnings', 'NOUN'), ('of', 'ADP'), ('$', '.'), ('737.5', 'ADV'), ('million', 'NUM'), ('*U*', 'X'), (',', '.'), ('or', 'CONJ'), ('$', '.'), ('3.01', 'ADV'), ('*U*', 'X'), ('a', 'DET'), ('share', 'NOUN'), ('.', '.'), ('The', 'DET'), ('loan', 'NOUN'), ('may', 'VERB'), ('be', 'VERB'), ('extended', 'VERB'), ('*-1', 'X'), ('by', 'ADP'), ('the', 'DET'), ('McAlpine', 'NOUN'), ('group', 'NOUN'), ('for', 'ADP'), ('an', 'DET'), ('additional', 'ADJ'), ('year', 'NOUN'), ('with', 'ADP'), ('an', 'DET'), ('increase', 'NOUN'), ('in', 'ADP'), ('the', 'DET'), ('conversion', 'NOUN'), ('price', 'NOUN'), ('to', 'PRT'), ('$', '.'), ('2.50', 'NUM'), ('*U*', 'X'), ('a', 'DET'), ('share', 'NOUN'), ('.', '.'), ('Peter', 'NOUN'), ('Anthony', 'NOUN'), (',', '.'), ('who', 'PRON'), ('*T*-1', 'X'), ('runs', 'VERB'), ('an', 'DET'), ('employment', 'NOUN'), ('agency', 'NOUN'), ('in', 'ADP'), ('New', 'NOUN'), ('York', 'NOUN'), (',', '.'), ('decries', 'ADV'), ('program', 'NOUN'), ('trading', 'NOUN'), ('as', 'ADP'), ('``', '.'), ('*', 'X'), ('limiting', 'VERB'), ('the', 'DET'), ('game', 'NOUN'), ('to', 'PRT'), ('a', 'DET'), ('few', 'ADJ'), (',', '.'), (\"''\", '.'), ('but', 'CONJ'), ('he', 'PRON'), ('also', 'ADV'), ('is', 'VERB'), (\"n't\", 'ADV'), ('sure', 'ADJ'), ('0', 'X'), ('it', 'PRON'), ('should', 'VERB'), ('be', 'VERB'), ('more', 'ADV'), ('strictly', 'ADV'), ('regulated', 'VERB'), ('*-2', 'X'), ('.', '.'), ('Stephen', 'NOUN'), ('Akerfeldt', 'ADV'), (',', '.'), ('currently', 'ADV'), ('vice', 'NOUN'), ('president', 'NOUN'), ('finance', 'NOUN'), (',', '.'), ('will', 'VERB'), ('succeed', 'VERB'), ('Mr.', 'NOUN'), ('McAlpine', 'NOUN'), ('.', '.'), ('Copperweld', 'NOUN'), ('said', 'VERB'), ('0', 'X'), ('it', 'PRON'), ('does', 'VERB'), (\"n't\", 'ADV'), ('expect', 'VERB'), ('a', 'DET'), ('protracted', 'ADJ'), ('strike', 'NOUN'), ('.', '.'), ('Reames', 'NOUN'), (',', '.'), ('a', 'DET'), ('maker', 'NOUN'), ('and', 'CONJ'), ('marketer', 'NOUN'), ('of', 'ADP'), ('frozen', 'VERB'), ('noodles', 'ADV'), ('and', 'CONJ'), ('pre-cooked', 'ADV'), ('pasta', 'ADV'), ('based', 'VERB'), ('*', 'X'), ('in', 'ADP'), ('Clive', 'ADV'), (',', '.'), ('Iowa', 'NOUN'), (',', '.'), ('has', 'VERB'), ('annual', 'ADJ'), ('sales', 'NOUN'), ('of', 'ADP'), ('about', 'ADP'), ('$', '.'), ('11', 'NUM'), ('million', 'NUM'), ('*U*', 'X'), (',', '.'), ('Lancaster', 'NOUN'), ('said', 'VERB'), ('0', 'X'), ('*T*-1', 'X'), ('.', '.'), ('But', 'CONJ'), ('Columbia', 'NOUN'), (\"'s\", 'PRT'), ('good', 'ADJ'), ('bank', 'NOUN'), ('would', 'VERB'), ('be', 'VERB'), ('a', 'DET'), ('regulated', 'VERB'), ('thrift', 'NOUN'), (',', '.'), ('while', 'ADP'), ('the', 'DET'), ('bad', 'ADJ'), ('bank', 'NOUN'), ('would', 'VERB'), ('be', 'VERB'), ('a', 'DET'), ('private', 'ADJ'), ('investment', 'NOUN'), ('company', 'NOUN'), (',', '.'), ('holding', 'VERB'), ('some', 'DET'), ('of', 'ADP'), ('Columbia', 'NOUN'), (\"'s\", 'PRT'), ('junk', 'NOUN'), ('bonds', 'NOUN'), (',', '.'), ('real', 'ADJ'), ('estate', 'NOUN'), ('and', 'CONJ'), ('equity', 'NOUN'), ('investments', 'NOUN'), ('.', '.'), ('This', 'DET'), ('cute', 'ADV'), ('child', 'NOUN'), ('turns', 'VERB'), ('out', 'PRT'), ('*-1', 'X'), ('to', 'PRT'), ('be', 'VERB'), ('a', 'DET'), ('blessing', 'NOUN'), ('and', 'CONJ'), ('a', 'DET'), ('curse', 'ADV'), ('.', '.'), ('In', 'ADP'), ('electronics', 'NOUN'), (',', '.'), ('for', 'ADP'), ('example', 'NOUN'), (',', '.'), ('a', 'DET'), ('Japanese', 'ADJ'), ('company', 'NOUN'), ('might', 'VERB'), ('make', 'VERB'), ('television', 'NOUN'), ('picture', 'NOUN'), ('tubes', 'ADV'), ('in', 'ADP'), ('Japan', 'NOUN'), (',', '.'), ('assemble', 'ADV'), ('the', 'DET'), ('sets', 'NOUN'), ('in', 'ADP'), ('Malaysia', 'NOUN'), ('and', 'CONJ'), ('export', 'NOUN'), ('them', 'PRON'), ('to', 'PRT'), ('Indonesia', 'NOUN'), ('.', '.'), ('It', 'PRON'), ('*EXP*-1', 'X'), ('is', 'VERB'), (\"n't\", 'ADV'), ('clear', 'ADJ'), ('how', 'ADV'), ('much', 'ADV'), ('a', 'DET'), ('restructuring', 'NOUN'), ('would', 'VERB'), ('help', 'VERB'), ('Columbia', 'NOUN'), ('stockholders', 'NOUN'), ('*T*-2', 'X'), ('.', '.'), ('His', 'PRON'), ('wife', 'NOUN'), ('also', 'ADV'), ('works', 'VERB'), ('for', 'ADP'), ('the', 'DET'), ('paper', 'NOUN'), (',', '.'), ('as', 'ADP'), ('did', 'VERB'), ('his', 'PRON'), ('father', 'NOUN'), ('.', '.'), ('And', 'CONJ'), (',', '.'), ('says', 'VERB'), ('0', 'X'), ('*T*-1', 'X'), ('Mr.', 'NOUN'), ('Dinkins', 'NOUN'), (',', '.'), ('he', 'PRON'), ('did', 'VERB'), (\"n't\", 'ADV'), ('know', 'VERB'), ('0', 'X'), ('the', 'DET'), ('man', 'NOUN'), ('0', 'X'), ('his', 'PRON'), ('campaign', 'NOUN'), ('paid', 'VERB'), ('*T*-2', 'X'), ('for', 'ADP'), ('a', 'DET'), ('get-out-the-vote', 'ADV'), ('effort', 'NOUN'), ('had', 'VERB'), ('been', 'VERB'), ('convicted', 'VERB'), ('*-3', 'X'), ('of', 'ADP'), ('kidnapping', 'ADV'), ('.', '.'), ('But', 'CONJ'), (',', '.'), ('analysts', 'NOUN'), ('say', 'VERB'), ('0', 'X'), ('*T*-2', 'X'), (',', '.'), ('Asian', 'ADJ'), ('cooperation', 'NOUN'), ('is', 'VERB'), (\"n't\", 'ADV'), ('likely', 'ADJ'), ('*-1', 'X'), ('to', 'PRT'), ('parallel', 'ADJ'), ('the', 'DET'), ('European', 'ADJ'), ('Common', 'ADJ'), ('Market', 'NOUN'), ('approach', 'NOUN'), ('.', '.'), ('*-1', 'X'), ('Concerned', 'ADV'), ('about', 'ADP'), ('shrinking', 'ADV'), ('landfills', 'ADV'), ('and', 'CONJ'), ('the', 'DET'), ('safety', 'NOUN'), ('of', 'ADP'), ('chemicals', 'NOUN'), ('used', 'VERB'), ('*', 'X'), ('in', 'ADP'), ('super-absorbent', 'ADV'), ('disposables', 'ADV'), (',', '.'), ('parents', 'NOUN'), ('are', 'VERB'), ('returning', 'VERB'), ('to', 'PRT'), ('the', 'DET'), ('cloth', 'NOUN'), ('diaper', 'NOUN'), ('.', '.'), ('A', 'DET'), ('former', 'ADJ'), ('member', 'NOUN'), ('of', 'ADP'), ('the', 'DET'), ('prosecution', 'NOUN'), ('team', 'NOUN'), ('in', 'ADP'), ('the', 'DET'), ('Iran\\\\/Contra', 'ADV'), ('affair', 'ADV'), ('joined', 'VERB'), ('the', 'DET'), ('Chicago', 'NOUN'), ('firm', 'NOUN'), ('of', 'ADP'), ('Mayer', 'ADV'), (',', '.'), ('Brown', 'NOUN'), ('&', 'CONJ'), ('Platt', 'NOUN'), ('.', '.'), ('Mortgage', 'NOUN'), ('securities', 'NOUN'), ('ended', 'VERB'), ('slightly', 'ADV'), ('higher', 'ADJ'), ('but', 'CONJ'), ('trailed', 'VERB'), ('gains', 'NOUN'), ('in', 'ADP'), ('the', 'DET'), ('Treasury', 'NOUN'), ('market', 'NOUN'), ('.', '.'), ('As', 'ADP'), ('an', 'DET'), ('indicator', 'NOUN'), ('of', 'ADP'), ('the', 'DET'), ('tight', 'ADJ'), ('grain', 'NOUN'), ('supply', 'NOUN'), ('situation', 'NOUN'), ('in', 'ADP'), ('the', 'DET'), ('U.S.', 'NOUN'), (',', '.'), ('market', 'NOUN'), ('analysts', 'NOUN'), ('said', 'VERB'), ('that', 'ADP'), ('late', 'ADJ'), ('Tuesday', 'NOUN'), ('the', 'DET'), ('Chinese', 'ADJ'), ('government', 'NOUN'), (',', '.'), ('which', 'DET'), ('*T*-1', 'X'), ('often', 'ADV'), ('buys', 'ADV'), ('U.S.', 'NOUN'), ('grains', 'ADV'), ('in', 'ADP'), ('quantity', 'NOUN'), (',', '.'), ('turned', 'VERB'), ('instead', 'ADV'), ('to', 'PRT'), ('Britain', 'NOUN'), ('*-2', 'X'), ('to', 'PRT'), ('buy', 'VERB'), ('500,000', 'NUM'), ('metric', 'ADJ'), ('tons', 'NOUN'), ('of', 'ADP'), ('wheat', 'NOUN'), ('.', '.'), ('His', 'PRON'), ('appointment', 'NOUN'), ('to', 'PRT'), ('that', 'DET'), ('post', 'NOUN'), (',', '.'), ('which', 'DET'), ('*T*-1', 'X'), ('has', 'VERB'), ('senior', 'ADJ'), ('administrative', 'ADJ'), (',', '.'), ('staff', 'NOUN'), ('and', 'CONJ'), ('policy', 'NOUN'), ('responsibilities', 'NOUN'), (',', '.'), ('followed', 'VERB'), ('a', 'DET'), ('several-year', 'ADV'), ('tenure', 'NOUN'), ('as', 'ADP'), ('Reuters', 'NOUN'), (\"'s\", 'PRT'), ('editor', 'NOUN'), ('in', 'ADP'), ('chief', 'NOUN'), ('.', '.'), ('Too', 'ADV'), ('often', 'ADV'), ('now', 'ADV'), (',', '.'), ('a', 'DET'), ('single', 'ADJ'), ('court', 'NOUN'), ('decision', 'NOUN'), ('becomes', 'VERB'), ('the', 'DET'), ('precedent', 'NOUN'), ('for', 'ADP'), ('other', 'ADJ'), (',', '.'), ('less', 'ADJ'), ('compelling', 'ADV'), ('cases', 'NOUN'), ('.', '.'), ('``', '.'), ('Lighthouse', 'ADV'), ('II', 'NOUN'), (\"''\", '.'), ('was', 'VERB'), ('painted', 'ADV'), ('*-1', 'X'), ('in', 'ADP'), ('oils', 'ADV'), ('by', 'ADP'), ('the', 'DET'), ('playwright', 'ADV'), ('in', 'ADP'), ('1901', 'ADV'), ('...', '.'), ('Mr.', 'NOUN'), ('Sonnett', 'NOUN'), ('said', 'VERB'), ('0', 'X'), ('there', 'DET'), ('also', 'ADV'), ('may', 'VERB'), ('be', 'VERB'), ('other', 'ADJ'), ('circumstances', 'NOUN'), ('under', 'ADP'), ('which', 'DET'), ('individuals', 'NOUN'), ('would', 'VERB'), (\"n't\", 'ADV'), ('want', 'VERB'), ('the', 'DET'), ('government', 'NOUN'), ('to', 'PRT'), ('know', 'VERB'), ('0', 'X'), ('they', 'PRON'), ('had', 'VERB'), ('retained', 'ADV'), ('criminal', 'ADJ'), ('defense', 'NOUN'), ('lawyers', 'NOUN'), ('*T*-1', 'X'), ('.', '.'), ('But', 'CONJ'), ('civilization', 'ADV'), ('has', 'VERB'), ('moved', 'VERB'), ('forward', 'ADV'), ('since', 'ADP'), ('then', 'ADV'), ('.', '.'), ('But', 'CONJ'), ('they', 'PRON'), ('have', 'VERB'), (\"n't\", 'ADV'), ('clarified', 'ADV'), ('what', 'PRON'), ('those', 'DET'), ('might', 'VERB'), ('be', 'VERB'), ('*T*-187', 'ADV'), ('.', '.'), ('You', 'PRON'), ('dismiss', 'ADV'), ('as', 'ADP'), ('``', '.'), ('sentimental', 'ADV'), (\"''\", '.'), ('the', 'DET'), ('view', 'NOUN'), ('that', 'ADP'), ('the', 'DET'), ('reduction', 'NOUN'), ('of', 'ADP'), ('federal', 'ADJ'), ('housing-assistance', 'ADV'), ('programs', 'NOUN'), ('by', 'ADP'), ('77', 'NUM'), ('%', 'NOUN'), ('might', 'VERB'), ('have', 'VERB'), ('played', 'VERB'), ('a', 'DET'), ('significant', 'ADJ'), ('role', 'NOUN'), ('in', 'ADP'), ('the', 'DET'), ('increased', 'VERB'), ('number', 'NOUN'), ('of', 'ADP'), ('men', 'NOUN'), ('and', 'CONJ'), ('women', 'NOUN'), ('sleeping', 'ADV'), ('on', 'ADP'), ('our', 'PRON'), ('city', 'NOUN'), ('streets', 'NOUN'), ('during', 'ADP'), ('the', 'DET'), ('Reagan-Bush', 'ADV'), ('years', 'NOUN'), ('.', '.'), ('Cara', 'NOUN'), (',', '.'), ('a', 'DET'), ('food', 'NOUN'), ('services', 'NOUN'), ('chain', 'NOUN'), ('operator', 'NOUN'), ('and', 'CONJ'), ('Unicorp', 'NOUN'), (',', '.'), ('a', 'DET'), ('holding', 'NOUN'), ('company', 'NOUN'), (',', '.'), ('are', 'VERB'), ('based', 'VERB'), ('*-1', 'X'), ('in', 'ADP'), ('Toronto', 'NOUN'), ('.', '.'), ('Adds', 'VERB'), ('*ICH*-1', 'X'), ('Takeshi', 'ADV'), ('Kondo', 'ADV'), (',', '.'), ('senior', 'ADJ'), ('vice', 'NOUN'), ('president', 'NOUN'), ('of', 'ADP'), ('C.', 'NOUN'), ('Itoh', 'NOUN'), ('America', 'NOUN'), ('Inc.', 'NOUN'), (':', '.'), ('``', '.'), ('We', 'PRON'), ('have', 'VERB'), ('a', 'DET'), ('great', 'ADJ'), ('interest', 'NOUN'), ('in', 'ADP'), ('*', 'X'), ('making', 'VERB'), ('investments', 'NOUN'), (',', '.'), ('particularly', 'ADV'), ('in', 'ADP'), ('new', 'ADJ'), ('ventures', 'NOUN'), ('.', '.'), (\"''\", '.'), ('If', 'ADP'), ('the', 'DET'), ('debts', 'NOUN'), ('are', 'VERB'), ('repaid', 'VERB'), ('*-49', 'X'), (',', '.'), ('it', 'PRON'), ('could', 'VERB'), ('clear', 'ADJ'), ('the', 'DET'), ('way', 'NOUN'), ('0', 'X'), ('for', 'ADP'), ('Soviet', 'ADJ'), ('bonds', 'NOUN'), ('to', 'PRT'), ('be', 'VERB'), ('sold', 'VERB'), ('*-50', 'X'), ('in', 'ADP'), ('the', 'DET'), ('U.S.', 'NOUN'), ('*T*-1', 'X'), ('.', '.'), ('``', '.'), ('It', 'PRON'), (\"'s\", 'VERB'), ('precisely', 'ADV'), ('the', 'DET'), ('kind', 'NOUN'), ('of', 'ADP'), ('product', 'NOUN'), ('that', 'ADP'), ('*T*-1', 'X'), (\"'s\", 'PRT'), ('created', 'VERB'), ('the', 'DET'), ('municipal', 'ADJ'), ('landfill', 'ADV'), ('monster', 'ADV'), (',', '.'), (\"''\", '.'), ('the', 'DET'), ('editors', 'NOUN'), ('wrote', 'VERB'), ('*T*-2', 'X'), ('.', '.'), ('``', '.'), ('So', 'ADV'), ('the', 'DET'), ('focus', 'NOUN'), ('turned', 'VERB'), ('to', 'PRT'), ('other', 'ADJ'), ('fixed-income', 'ADV'), ('markets', 'NOUN'), (',', '.'), ('corporate', 'ADJ'), ('and', 'CONJ'), ('mortgages', 'NOUN'), ('in', 'ADP'), ('particular', 'ADJ'), (',', '.'), (\"''\", '.'), ('she', 'PRON'), ('said', 'VERB'), ('*T*-1', 'X'), ('.', '.'), ('Small', 'ADJ'), ('wonder', 'NOUN'), (',', '.'), ('since', 'ADP'), ('he', 'PRON'), (\"'s\", 'VERB'), ('asking', 'VERB'), ('San', 'NOUN'), ('Francisco', 'NOUN'), ('taxpayers', 'NOUN'), ('*-1', 'X'), ('to', 'PRT'), ('sink', 'VERB'), ('up', 'ADV'), ('to', 'PRT'), ('$', '.'), ('100', 'NUM'), ('million', 'NUM'), ('*U*', 'X'), ('into', 'ADP'), ('the', 'DET'), ('new', 'ADJ'), ('stadium', 'NOUN'), ('.', '.'), ('W.R.', 'NOUN'), ('Grace', 'NOUN'), ('holds', 'VERB'), ('three', 'NUM'), ('of', 'ADP'), ('Grace', 'NOUN'), ('Energy', 'NOUN'), (\"'s\", 'PRT'), ('seven', 'NUM'), ('board', 'NOUN'), ('seats', 'NOUN'), ('.', '.'), ('The', 'DET'), ('company', 'NOUN'), (\"'s\", 'PRT'), ('work', 'VERB'), ('force', 'VERB'), ('will', 'VERB'), ('fall', 'VERB'), ('to', 'PRT'), ('about', 'ADP'), ('400', 'NUM'), ('people', 'NOUN'), ('.', '.'), ('Manila', 'ADV'), ('markets', 'NOUN'), ('were', 'VERB'), ('closed', 'VERB'), ('for', 'ADP'), ('a', 'DET'), ('holiday', 'NOUN'), ('.', '.'), ('The', 'DET'), ('deal', 'NOUN'), ('also', 'ADV'), ('gave', 'VERB'), ('Mitsui', 'NOUN'), ('access', 'NOUN'), ('to', 'PRT'), ('a', 'DET'), ('high-tech', 'ADJ'), ('medical', 'ADJ'), ('product', 'NOUN'), ('.', '.'), ('They', 'PRON'), ('want', 'VERB'), ('assets', 'NOUN'), (',', '.'), ('they', 'PRON'), ('want', 'VERB'), ('a', 'DET'), ('balance', 'NOUN'), ('sheet', 'NOUN'), (',', '.'), ('which', 'DET'), ('*T*-194', 'ADV'), ('has', 'VERB'), ('no', 'DET'), ('relation', 'ADV'), ('to', 'PRT'), ('the', 'DET'), ('business', 'NOUN'), ('0', 'X'), ('a', 'DET'), ('company', 'NOUN'), ('can', 'VERB'), ('generate', 'ADV'), ('*T*-1', 'X'), ('.', '.'), (\"''\", '.'), ('Dodge', 'NOUN'), ('reported', 'VERB'), ('an', 'DET'), ('8', 'NUM'), ('%', 'NOUN'), ('increase', 'NOUN'), ('in', 'ADP'), ('construction', 'NOUN'), ('contracts', 'NOUN'), ('awarded', 'VERB'), ('*', 'X'), ('in', 'ADP'), ('September', 'NOUN'), ('.', '.'), ('They', 'PRON'), ('devised', 'ADV'), ('a', 'DET'), ('69-point', 'ADV'), ('scale', 'NOUN'), ('--', '.'), ('*-1', 'X'), ('awarding', 'ADV'), ('one', 'NUM'), ('point', 'NOUN'), ('for', 'ADP'), ('each', 'DET'), ('subskill', 'ADV'), ('measured', 'VERB'), ('*', 'X'), ('on', 'ADP'), ('the', 'DET'), ('CAT', 'NOUN'), ('test', 'NOUN'), ('--', '.'), ('*-1', 'X'), ('to', 'PRT'), ('rate', 'NOUN'), ('the', 'DET'), ('closeness', 'ADV'), ('of', 'ADP'), ('test', 'NOUN'), ('preparatives', 'ADV'), ('to', 'PRT'), ('the', 'DET'), ('fifth-grade', 'NOUN'), ('CAT', 'NOUN'), ('.', '.'), ('Reliance', 'NOUN'), ('acquired', 'VERB'), ('a', 'DET'), ('7', 'NUM'), ('%', 'NOUN'), ('UAL', 'NOUN'), ('stake', 'NOUN'), ('early', 'ADV'), ('this', 'DET'), ('year', 'NOUN'), ('at', 'ADP'), ('an', 'DET'), ('average', 'ADJ'), ('cost', 'NOUN'), ('of', 'ADP'), ('$', '.'), ('110', 'ADV'), ('*U*', 'X'), ('a', 'DET'), ('share', 'NOUN'), (',', '.'), ('and', 'CONJ'), ('reduced', 'VERB'), ('its', 'PRON'), ('stake', 'NOUN'), ('to', 'PRT'), ('4.7', 'NUM'), ('%', 'NOUN'), ('after', 'ADP'), ('UAL', 'NOUN'), ('accepted', 'VERB'), ('the', 'DET'), ('bid', 'NOUN'), ('at', 'ADP'), ('prices', 'NOUN'), ('higher', 'ADJ'), ('than', 'ADP'), ('$', '.'), ('282', 'ADV'), ('*U*', 'X'), ('a', 'DET'), ('share', 'NOUN'), ('.', '.'), ('*', 'X'), ('Getting', 'ADV'), ('a', 'DET'), ('level', 'NOUN'), ('playing', 'VERB'), ('field', 'NOUN'), ('.', '.'), ('Wednesday', 'NOUN'), (',', '.'), ('November', 'NOUN'), ('1', 'NUM'), (',', '.'), ('1989', 'NUM'), ('The', 'DET'), ('bonds', 'NOUN'), ('are', 'VERB'), ('insured', 'ADV'), ('and', 'CONJ'), ('triple-A-rated', 'ADV'), ('.', '.'), ('In', 'ADP'), ('a', 'DET'), ('competitive', 'ADJ'), ('market', 'NOUN'), (',', '.'), ('this', 'DET'), ('investor', 'NOUN'), ('has', 'VERB'), ('many', 'ADJ'), ('ways', 'NOUN'), ('0', 'X'), ('*', 'X'), ('to', 'PRT'), ('execute', 'VERB'), ('his', 'PRON'), ('transactions', 'NOUN'), ('*T*-1', 'X'), (',', '.'), ('and', 'CONJ'), ('he', 'PRON'), ('will', 'VERB'), ('have', 'VERB'), ('more', 'ADV'), ('alternatives', 'NOUN'), ('-LRB-', '.'), ('both', 'DET'), ('foreign', 'ADJ'), ('and', 'CONJ'), ('domestic', 'ADJ'), ('-RRB-', '.'), ('if', 'ADP'), ('his', 'PRON'), ('volume', 'NOUN'), ('is', 'VERB'), ('profitable', 'ADJ'), ('0', 'X'), ('for', 'ADP'), ('an', 'DET'), ('exchange', 'NOUN'), ('to', 'PRT'), ('handle', 'VERB'), ('*T*-2', 'X'), ('.', '.'), ('Sure', 'ADV'), ('enough', 'ADV'), (',', '.'), ('when', 'ADV'), ('he', 'PRON'), ('arrived', 'ADV'), ('at', 'ADP'), ('the', 'DET'), ('embassy', 'ADV'), ('two', 'NUM'), ('days', 'NOUN'), ('later', 'ADJ'), (',', '.'), ('the', 'DET'), ('machine-gun-toting', 'ADV'), ('guards', 'NOUN'), ('were', 'VERB'), ('gone', 'VERB'), ('--', '.'), ('for', 'ADP'), ('the', 'DET'), ('first', 'ADJ'), ('time', 'NOUN'), ('in', 'ADP'), ('five', 'NUM'), ('months', 'NOUN'), ('.', '.'), ('Payments', 'ADV'), ('are', 'VERB'), ('expected', 'VERB'), ('*-1', 'X'), ('to', 'PRT'), ('range', 'NOUN'), ('between', 'ADP'), ('$', '.'), ('9', 'NUM'), ('billion', 'NUM'), ('*U*', 'X'), ('and', 'CONJ'), ('$', '.'), ('12', 'NUM'), ('billion', 'NUM'), ('*U*', 'X'), ('this', 'DET'), ('year', 'NOUN'), ('.', '.'), ('Dan', 'NOUN'), ('E.', 'NOUN'), ('Nelms', 'ADV'), (',', '.'), ('Valley', 'NOUN'), ('Federal', 'NOUN'), (\"'s\", 'PRT'), ('president', 'NOUN'), ('and', 'CONJ'), ('chief', 'NOUN'), ('executive', 'NOUN'), ('officer', 'NOUN'), (',', '.'), ('said', 'VERB'), ('0', 'X'), ('the', 'DET'), ('one-time', 'ADJ'), ('charge', 'NOUN'), ('substantially', 'ADV'), ('eliminates', 'VERB'), ('future', 'ADJ'), ('losses', 'NOUN'), ('associated', 'VERB'), ('*', 'X'), ('with', 'ADP'), ('the', 'DET'), ('unit', 'NOUN'), ('.', '.'), ('He', 'PRON'), ('says', 'VERB'), ('0', 'X'), ('the', 'DET'), ('10', 'NUM'), ('citizen-sparked', 'ADV'), ('issues', 'NOUN'), ('on', 'ADP'), ('state', 'NOUN'), ('ballots', 'ADV'), ('this', 'DET'), ('fall', 'NOUN'), ('represent', 'VERB'), ('the', 'DET'), ('most', 'ADJ'), ('in', 'ADP'), ('any', 'DET'), ('odd-year', 'ADV'), ('this', 'DET'), ('decade', 'NOUN'), ('.', '.'), ('The', 'DET'), ('anti-programmers', 'NOUN'), ('are', 'VERB'), ('getting', 'VERB'), ('some', 'DET'), ('helpful', 'ADJ'), ('thunder', 'ADV'), ('from', 'ADP'), ('Congress', 'NOUN'), ('.', '.'), ('Such', 'ADJ'), ('multi-crystal', 'ADJ'), ('materials', 'NOUN'), ('will', 'VERB'), ('probably', 'ADV'), ('be', 'VERB'), ('needed', 'VERB'), ('*-1', 'X'), ('for', 'ADP'), ('commercial', 'ADJ'), ('applications', 'NOUN'), ('.', '.'), ('But', 'CONJ'), ('*', 'X'), ('do', 'VERB'), (\"n't\", 'ADV'), ('breathe', 'ADV'), ('too', 'ADV'), ('easy', 'ADJ'), (':', '.'), ('Those', 'DET'), ('dividend', 'NOUN'), ('increases', 'NOUN'), ('may', 'VERB'), ('signal', 'VERB'), ('trouble', 'NOUN'), ('ahead', 'ADV'), ('for', 'ADP'), ('stock', 'NOUN'), ('prices', 'NOUN'), (',', '.'), ('some', 'DET'), ('analysts', 'NOUN'), ('warn', 'ADV'), ('0', 'X'), ('*T*-1', 'X'), ('.', '.'), ('Dealers', 'NOUN'), ('said', 'VERB'), ('0', 'X'), ('most', 'ADV'), ('investor', 'NOUN'), ('interest', 'NOUN'), ('was', 'VERB'), ('focused', 'VERB'), ('*-1', 'X'), ('on', 'ADP'), ('defensive', 'ADJ'), ('blue-chip', 'ADJ'), ('stocks', 'NOUN'), (',', '.'), ('particularly', 'ADV'), ('those', 'DET'), ('with', 'ADP'), ('limited', 'ADJ'), ('U.K.', 'NOUN'), ('exposure', 'NOUN'), ('.', '.'), ('In', 'ADP'), ('a', 'DET'), ('leveraged', 'ADJ'), ('buy-out', 'NOUN'), (',', '.'), ('a', 'DET'), ('small', 'ADJ'), ('group', 'NOUN'), ('of', 'ADP'), ('investors', 'NOUN'), ('acquires', 'ADV'), ('a', 'DET'), ('company', 'NOUN'), ('in', 'ADP'), ('a', 'DET'), ('transaction', 'NOUN'), ('financed', 'VERB'), ('*', 'X'), ('largely', 'ADV'), ('by', 'ADP'), ('borrowing', 'NOUN'), (',', '.'), ('with', 'ADP'), ('the', 'DET'), ('expectation', 'ADV'), ('that', 'ADP'), ('the', 'DET'), ('debt', 'NOUN'), ('will', 'VERB'), ('be', 'VERB'), ('paid', 'VERB'), ('*-1', 'X'), ('with', 'ADP'), ('funds', 'NOUN'), ('generated', 'ADV'), ('*', 'X'), ('by', 'ADP'), ('the', 'DET'), ('acquired', 'VERB'), ('company', 'NOUN'), (\"'s\", 'PRT'), ('operations', 'NOUN'), ('or', 'CONJ'), ('sales', 'NOUN'), ('of', 'ADP'), ('its', 'PRON'), ('assets', 'NOUN'), ('.', '.'), ('``', '.'), ('At', 'ADP'), ('the', 'DET'), ('prices', 'NOUN'), ('0', 'X'), ('we', 'PRON'), ('were', 'VERB'), ('charged', 'VERB'), ('*-78', 'X'), ('*T*-1', 'X'), (',', '.'), ('there', 'DET'), ('should', 'VERB'), ('have', 'VERB'), ('been', 'VERB'), ('some', 'DET'), ('return', 'NOUN'), ('for', 'ADP'), ('the', 'DET'), ('dollar', 'NOUN'), ('.', '.'), ('Sales', 'NOUN'), ('rose', 'VERB'), ('10', 'NUM'), ('%', 'NOUN'), ('to', 'PRT'), ('$', '.'), ('13.8', 'NUM'), ('billion', 'NUM'), ('*U*', 'X'), ('from', 'ADP'), ('$', '.'), ('12.5', 'NUM'), ('billion', 'NUM'), ('*U*', 'X'), ('.', '.'), ('The', 'DET'), ('American', 'ADJ'), ('Bar', 'ADV'), ('Association', 'NOUN'), (\"'s\", 'PRT'), ('House', 'NOUN'), ('of', 'ADP'), ('Delegates', 'ADV'), ('passed', 'VERB'), ('a', 'DET'), ('resolution', 'NOUN'), ('*ICH*-1', 'X'), ('in', 'ADP'), ('1985', 'NUM'), ('condemning', 'ADV'), ('the', 'DET'), ('IRS', 'NOUN'), ('reporting', 'VERB'), ('requirement', 'NOUN'), ('.', '.'), ('In', 'ADP'), ('1966', 'ADV'), (',', '.'), ('on', 'ADP'), ('route', 'ADV'), ('to', 'PRT'), ('a', 'DET'), ('re-election', 'NOUN'), ('rout', 'ADV'), ('of', 'ADP'), ('Democrat', 'NOUN'), ('Frank', 'NOUN'), (\"O'Connor\", 'ADV'), (',', '.'), ('GOP', 'NOUN'), ('Gov.', 'ADV'), ('Nelson', 'NOUN'), ('Rockefeller', 'NOUN'), ('of', 'ADP'), ('New', 'NOUN'), ('York', 'NOUN'), ('appeared', 'VERB'), ('in', 'ADP'), ('person', 'NOUN'), ('*-1', 'X'), ('saying', 'VERB'), (',', '.'), ('``', '.'), ('If', 'ADP'), ('you', 'PRON'), ('want', 'VERB'), ('*-2', 'X'), ('to', 'PRT'), ('keep', 'VERB'), ('the', 'DET'), ('crime', 'NOUN'), ('rates', 'NOUN'), ('high', 'ADJ'), (',', '.'), (\"O'Connor\", 'ADV'), ('is', 'VERB'), ('your', 'PRON'), ('man', 'NOUN'), ('.', '.'), (\"''\", '.'), ('Excision', 'ADV'), ('of', 'ADP'), ('appropriations', 'NOUN'), ('riders', 'ADV'), ('that', 'ADP'), ('*T*-1', 'X'), ('trespass', 'ADV'), ('on', 'ADP'), ('the', 'DET'), ('president', 'NOUN'), (\"'s\", 'PRT'), ('duties', 'NOUN'), ('and', 'CONJ'), ('prerogative', 'ADV'), ('under', 'ADP'), ('Article', 'NOUN'), ('II', 'NOUN'), ('would', 'VERB'), ('be', 'VERB'), ('different', 'ADJ'), ('from', 'ADP'), ('the', 'DET'), ('line-item', 'ADJ'), ('veto', 'NOUN'), ('.', '.'), ('The', 'DET'), ('underwriters', 'NOUN'), ('expect', 'VERB'), ('a', 'DET'), ('double-A', 'ADV'), ('rating', 'VERB'), ('from', 'ADP'), ('Moody', 'NOUN'), (\"'s\", 'PRT'), ('.', '.'), ('The', 'DET'), ('evidence', 'NOUN'), ('indicates', 'VERB'), ('that', 'ADP'), ('program', 'NOUN'), ('trading', 'NOUN'), ('did', 'VERB'), (\"n't\", 'ADV'), (',', '.'), ('in', 'ADP'), ('fact', 'NOUN'), (',', '.'), ('cause', 'NOUN'), ('the', 'DET'), ('market', 'NOUN'), (\"'s\", 'PRT'), ('sharp', 'ADJ'), ('fall', 'NOUN'), ('on', 'ADP'), ('Oct.', 'NOUN'), ('13', 'NUM'), (',', '.'), ('though', 'ADP'), ('it', 'PRON'), ('may', 'VERB'), ('have', 'VERB'), ('exacerbated', 'ADV'), ('it', 'PRON'), ('.', '.'), ('Japan', 'NOUN'), (\"'s\", 'PRT'), ('Fair', 'NOUN'), ('Trade', 'NOUN'), ('Commission', 'NOUN'), ('has', 'VERB'), ('said', 'VERB'), ('0', 'X'), ('it', 'PRON'), ('is', 'VERB'), ('considering', 'VERB'), ('*-1', 'X'), ('investigating', 'VERB'), ('the', 'DET'), ('bids', 'NOUN'), ('for', 'ADP'), ('possible', 'ADJ'), ('antitrust-law', 'ADV'), ('violations', 'NOUN'), ('.', '.'), ('The', 'DET'), ('strong', 'ADJ'), ('growth', 'NOUN'), ('followed', 'VERB'), ('year-to-year', 'ADV'), ('increases', 'VERB'), ('of', 'ADP'), ('21', 'NUM'), ('%', 'NOUN'), ('in', 'ADP'), ('August', 'NOUN'), ('and', 'CONJ'), ('12', 'NUM'), ('%', 'NOUN'), ('in', 'ADP'), ('September', 'NOUN'), ('.', '.'), ('Diamond', 'NOUN'), ('Creek', 'NOUN'), ('1985', 'NUM'), ('Lake', 'NOUN'), ('Vineyard', 'NOUN'), ('Cabernet', 'NOUN'), ('weighed', 'VERB'), ('in', 'ADP'), ('this', 'DET'), ('fall', 'NOUN'), ('with', 'ADP'), ('a', 'DET'), ('sticker', 'ADV'), ('price', 'NOUN'), ('of', 'ADP'), ('$', '.'), ('100', 'NUM'), ('*U*', 'X'), ('a', 'DET'), ('bottle', 'NOUN'), ('.', '.'), ('Alan', 'NOUN'), ('F.', 'NOUN'), ('Shugart', 'ADV'), (',', '.'), ('currently', 'ADV'), ('chairman', 'NOUN'), ('of', 'ADP'), ('Seagate', 'ADV'), ('Technology', 'NOUN'), (',', '.'), ('led', 'VERB'), ('the', 'DET'), ('team', 'NOUN'), ('that', 'ADP'), ('*T*-32', 'X'), ('developed', 'VERB'), ('the', 'DET'), ('disk', 'NOUN'), ('drives', 'NOUN'), ('for', 'ADP'), ('PCs', 'NOUN'), ('.', '.'), ('In', 'ADP'), ('the', 'DET'), ('third', 'ADJ'), ('quarter', 'NOUN'), (',', '.'), ('Georgia', 'NOUN'), ('Gulf', 'NOUN'), ('earned', 'VERB'), ('$', '.'), ('46.1', 'ADV'), ('million', 'NUM'), ('*U*', 'X'), (',', '.'), ('or', 'CONJ'), ('$', '.'), ('1.85', 'ADV'), ('*U*', 'X'), ('a', 'DET'), ('share', 'NOUN'), (',', '.'), ('down', 'ADV'), ('from', 'ADP'), ('$', '.'), ('53', 'NUM'), ('million', 'NUM'), ('*U*', 'X'), (',', '.'), ('or', 'CONJ'), ('$', '.'), ('1.85', 'ADV'), ('*U*', 'X'), ('a', 'DET'), ('share', 'NOUN'), ('on', 'ADP'), ('fewer', 'ADJ'), ('shares', 'NOUN'), ('outstanding', 'ADJ'), ('.', '.'), ('But', 'CONJ'), ('the', 'DET'), ('guards', 'NOUN'), ('there', 'DET'), ('retained', 'ADV'), ('their', 'PRON'), ('pistols', 'ADV'), (',', '.'), ('and', 'CONJ'), ('a', 'DET'), ('large', 'ADJ'), ('contingent', 'NOUN'), ('of', 'ADP'), ('plainclothes', 'ADV'), ('police', 'NOUN'), ('remained', 'VERB'), ('nearby', 'ADJ'), ('in', 'ADP'), ('unmarked', 'ADV'), ('cars', 'NOUN'), ('.', '.'), ('``', '.'), ('No', 'DET'), ('consideration', 'NOUN'), ('is', 'VERB'), ('more', 'ADV'), ('important', 'ADJ'), ('than', 'ADP'), ('the', 'DET'), ('health', 'NOUN'), ('and', 'CONJ'), ('safety', 'NOUN'), ('of', 'ADP'), ('our', 'PRON'), ('employees', 'NOUN'), ('.', '.'), (\"''\", '.'), ('The', 'DET'), ('key', 'ADJ'), ('U.S.', 'NOUN'), ('and', 'CONJ'), ('foreign', 'ADJ'), ('annual', 'ADJ'), ('interest', 'NOUN'), ('rates', 'NOUN'), ('below', 'ADP'), ('are', 'VERB'), ('a', 'DET'), ('guide', 'ADV'), ('to', 'PRT'), ('general', 'ADJ'), ('levels', 'NOUN'), ('but', 'CONJ'), ('do', 'VERB'), (\"n't\", 'ADV'), ('always', 'ADV'), ('represent', 'VERB'), ('actual', 'ADJ'), ('transactions', 'NOUN'), ('.', '.'), ('The', 'DET'), ('U.S.S.R.', 'ADV'), ('belongs', 'VERB'), ('to', 'PRT'), ('neither', 'DET'), ('organization', 'NOUN'), ('.', '.'), ('Not', 'ADV'), ('this', 'DET'), ('year', 'NOUN'), ('.', '.'), ('West', 'NOUN'), ('Texas', 'NOUN'), ('Intermediate', 'NOUN'), ('crude', 'ADJ'), ('for', 'ADP'), ('December', 'NOUN'), ('delivery', 'NOUN'), ('rose', 'VERB'), ('13', 'NUM'), ('cents', 'NOUN'), ('a', 'DET'), ('barrel', 'NOUN'), ('*-1', 'X'), ('to', 'PRT'), ('settle', 'VERB'), ('at', 'ADP'), ('$', '.'), ('20.07', 'ADV'), ('*U*', 'X'), ('.', '.'), ('A', 'DET'), ('buffet', 'VERB'), ('breakfast', 'ADV'), ('was', 'VERB'), ('held', 'VERB'), ('*-1', 'X'), ('in', 'ADP'), ('the', 'DET'), ('museum', 'NOUN'), (',', '.'), ('where', 'ADV'), ('food', 'NOUN'), ('and', 'CONJ'), ('drinks', 'ADV'), ('are', 'VERB'), ('banned', 'VERB'), ('*-2', 'X'), ('to', 'PRT'), ('everyday', 'ADV'), ('visitors', 'NOUN'), ('*T*-3', 'X'), ('.', '.'), ('The', 'DET'), ('action', 'NOUN'), ('came', 'VERB'), ('in', 'ADP'), ('response', 'NOUN'), ('to', 'PRT'), ('a', 'DET'), ('petition', 'NOUN'), ('filed', 'VERB'), ('*', 'X'), ('by', 'ADP'), ('Timex', 'NOUN'), ('Inc.', 'NOUN'), ('for', 'ADP'), ('changes', 'NOUN'), ('in', 'ADP'), ('the', 'DET'), ('U.S.', 'NOUN'), ('Generalized', 'ADV'), ('System', 'NOUN'), ('of', 'ADP'), ('Preferences', 'ADV'), ('for', 'ADP'), ('imports', 'NOUN'), ('from', 'ADP'), ('developing', 'VERB'), ('nations', 'NOUN'), ('.', '.'), ('Sterling', 'NOUN'), (\"'s\", 'PRT'), ('firm', 'NOUN'), ('tone', 'NOUN'), (',', '.'), ('combined', 'VERB'), ('with', 'ADP'), ('a', 'DET'), ('steady', 'ADJ'), ('opening', 'VERB'), ('on', 'ADP'), ('Wall', 'NOUN'), ('Street', 'NOUN'), (',', '.'), ('also', 'ADV'), ('tempted', 'ADV'), ('some', 'DET'), ('investors', 'NOUN'), ('to', 'PRT'), ('come', 'VERB'), ('back', 'ADV'), ('to', 'PRT'), ('the', 'DET'), ('market', 'NOUN'), (',', '.'), ('dealers', 'NOUN'), ('said', 'VERB'), ('0', 'X'), ('*T*-1', 'X'), ('.', '.'), ('I', 'PRON'), ('visited', 'ADV'), ('a', 'DET'), ('lot', 'NOUN'), ('of', 'ADP'), ('major', 'ADJ'), ('Japanese', 'ADJ'), ('manufacturers', 'NOUN'), (',', '.'), ('but', 'CONJ'), ('I', 'PRON'), ('never', 'ADV'), ('felt', 'VERB'), ('0', 'X'), ('I', 'PRON'), ('would', 'VERB'), ('want', 'VERB'), ('*-1', 'X'), ('to', 'PRT'), ('be', 'VERB'), ('employed', 'VERB'), ('*-149', 'ADV'), ('by', 'ADP'), ('any', 'DET'), ('of', 'ADP'), ('them', 'PRON'), ('.', '.'), ('Futures', 'NOUN'), ('traders', 'NOUN'), ('respond', 'VERB'), ('that', 'ADP'), ('low', 'ADJ'), ('margins', 'NOUN'), ('help', 'VERB'), ('*-1', 'X'), ('keep', 'VERB'), ('their', 'PRON'), ('markets', 'NOUN'), ('active', 'ADJ'), ('.', '.'), ('While', 'ADP'), ('the', 'DET'), ('Senate', 'NOUN'), ('Commerce', 'NOUN'), ('Committee', 'NOUN'), ('has', 'VERB'), ('approved', 'VERB'), ('legislation', 'NOUN'), ('similar', 'ADJ'), ('to', 'PRT'), ('the', 'DET'), ('House', 'NOUN'), ('bill', 'NOUN'), ('on', 'ADP'), ('airline', 'NOUN'), ('leveraged', 'ADJ'), ('buy-outs', 'NOUN'), (',', '.'), ('the', 'DET'), ('measure', 'NOUN'), ('has', 'VERB'), (\"n't\", 'ADV'), ('yet', 'ADV'), ('come', 'VERB'), ('to', 'PRT'), ('the', 'DET'), ('full', 'ADJ'), ('floor', 'NOUN'), ('.', '.'), ('Where', 'ADV'), ('they', 'PRON'), ('disagree', 'ADV'), ('*T*-1', 'X'), ('is', 'VERB'), ('on', 'ADP'), ('the', 'DET'), ('subject', 'ADJ'), ('of', 'ADP'), ('U.S.', 'NOUN'), ('direct', 'VERB'), ('investment', 'NOUN'), ('in', 'ADP'), ('Japan', 'NOUN'), ('.', '.'), ('The', 'DET'), ('32', 'NUM'), ('%', 'NOUN'), ('state-owned', 'ADJ'), ('DSM', 'NOUN'), ('had', 'VERB'), ('eight', 'NUM'), ('million', 'NUM'), ('guilders', 'NOUN'), ('of', 'ADP'), ('extraordinary', 'ADJ'), ('charges', 'NOUN'), ('in', 'ADP'), ('the', 'DET'), ('latest', 'ADJ'), ('quarter', 'NOUN'), (',', '.'), ('mainly', 'ADV'), ('*', 'X'), ('to', 'PRT'), ('reflect', 'VERB'), ('one-time', 'ADJ'), ('losses', 'NOUN'), ('in', 'ADP'), ('connection', 'NOUN'), ('with', 'ADP'), ('the', 'DET'), ('disposal', 'NOUN'), ('of', 'ADP'), ('some', 'DET'), ('operations', 'NOUN'), ('.', '.'), ('Sony', 'NOUN'), ('Columbia', 'NOUN'), ('Acquisition', 'NOUN'), ('Corp.', 'NOUN'), (',', '.'), ('formed', 'VERB'), ('*', 'X'), ('for', 'ADP'), ('the', 'DET'), ('Columbia', 'NOUN'), ('deal', 'NOUN'), (',', '.'), ('will', 'VERB'), ('formally', 'ADV'), ('take', 'VERB'), ('ownership', 'NOUN'), ('of', 'ADP'), ('the', 'DET'), ('movie', 'NOUN'), ('studio', 'NOUN'), ('later', 'ADJ'), ('this', 'DET'), ('month', 'NOUN'), (',', '.'), ('a', 'DET'), ('spokesman', 'NOUN'), ('said', 'VERB'), ('0', 'X'), ('*T*-1', 'X'), ('.', '.'), ('The', 'DET'), ('final', 'ADJ'), ('vote', 'NOUN'), ('came', 'VERB'), ('after', 'ADP'), ('the', 'DET'), ('House', 'NOUN'), ('rejected', 'VERB'), ('Republican', 'ADJ'), ('efforts', 'NOUN'), ('*', 'X'), ('to', 'PRT'), ('weaken', 'VERB'), ('the', 'DET'), ('bill', 'NOUN'), ('and', 'CONJ'), ('approved', 'VERB'), ('two', 'NUM'), ('amendments', 'NOUN'), ('sought', 'VERB'), ('*', 'X'), ('by', 'ADP'), ('organized', 'ADJ'), ('labor', 'NOUN'), ('.', '.'), ('The', 'DET'), ('department', 'NOUN'), ('placed', 'VERB'), ('a', 'DET'), ('moratorium', 'NOUN'), ('on', 'ADP'), ('the', 'DET'), ('research', 'NOUN'), (',', '.'), ('*', 'X'), ('pending', 'VERB'), ('a', 'DET'), ('review', 'NOUN'), ('of', 'ADP'), ('scientific', 'ADJ'), (',', '.'), ('legal', 'ADJ'), ('and', 'CONJ'), ('ethical', 'ADJ'), ('issues', 'NOUN'), ('.', '.'), ('Bush', 'NOUN'), ('unveiled', 'VERB'), ('a', 'DET'), ('package', 'NOUN'), ('of', 'ADP'), ('trade', 'NOUN'), ('initiatives', 'NOUN'), ('0', 'X'), ('*T*-1', 'X'), ('to', 'PRT'), ('help', 'VERB'), ('*-2', 'X'), ('establish', 'VERB'), ('``', '.'), ('economic', 'ADJ'), ('alternatives', 'NOUN'), ('to', 'PRT'), ('drug', 'NOUN'), ('trafficking', 'ADV'), (\"''\", '.'), ('in', 'ADP'), ('the', 'DET'), ('Andean', 'ADV'), ('nations', 'NOUN'), ('of', 'ADP'), ('South', 'NOUN'), ('America', 'NOUN'), ('.', '.'), ('The', 'DET'), ('Soviets', 'NOUN'), (',', '.'), ('who', 'PRON'), ('*T*-12', 'X'), ('normally', 'ADV'), ('have', 'VERB'), ('few', 'ADJ'), ('clients', 'NOUN'), ('other', 'ADJ'), ('than', 'ADP'), ('the', 'DET'), ('state', 'NOUN'), (',', '.'), ('will', 'VERB'), ('get', 'VERB'), ('``', '.'), ('exposure', 'NOUN'), ('to', 'PRT'), ('a', 'DET'), ('market', 'NOUN'), ('system', 'NOUN'), (',', '.'), (\"''\", '.'), ('he', 'PRON'), ('says', 'VERB'), ('0', 'X'), ('*T*-1', 'X'), ('.', '.'), ('``', '.'), ('If', 'ADP'), ('you', 'PRON'), ('look', 'VERB'), ('at', 'ADP'), ('the', 'DET'), ('third', 'ADJ'), ('quarter', 'NOUN'), ('as', 'ADP'), ('*', 'X'), ('posting', 'VERB'), ('roughly', 'ADV'), ('2.5', 'NUM'), ('%', 'NOUN'), ('growth', 'NOUN'), (',', '.'), ('I', 'PRON'), ('do', 'VERB'), ('see', 'VERB'), ('some', 'DET'), ('slowing', 'NOUN'), ('in', 'ADP'), ('the', 'DET'), ('fourth', 'ADJ'), ('quarter', 'NOUN'), (',', '.'), (\"''\", '.'), ('agrees', 'VERB'), ('*T*-1', 'X'), ('Kansas', 'NOUN'), ('City', 'NOUN'), ('Fed', 'NOUN'), ('President', 'NOUN'), ('Roger', 'NOUN'), ('Guffey', 'NOUN'), ('.', '.'), ('Just', 'ADV'), ('as', 'ADP'), ('all', 'DET'), ('plaintiffs', 'NOUN'), ('are', 'VERB'), ('not', 'ADV'), ('alike', 'ADV'), (',', '.'), ('it', 'PRON'), ('turns', 'VERB'), ('out', 'PRT'), ('that', 'DET'), ('DES', 'NOUN'), ('defendants', 'NOUN'), ('marketed', 'VERB'), ('the', 'DET'), ('drugs', 'NOUN'), ('differently', 'ADV'), ('and', 'CONJ'), ('may', 'VERB'), ('have', 'VERB'), ('offered', 'VERB'), ('different', 'ADJ'), ('warranties', 'ADV'), ('.', '.'), ('``', '.'), ('She', 'PRON'), ('did', 'VERB'), ('a', 'DET'), ('lot', 'NOUN'), ('of', 'ADP'), ('harm', 'NOUN'), (',', '.'), (\"''\", '.'), ('says', 'VERB'), ('*T*-1', 'X'), ('Cathryn', 'NOUN'), ('Rice', 'NOUN'), (',', '.'), ('who', 'PRON'), ('*T*-100', 'ADV'), ('had', 'VERB'), ('discovered', 'VERB'), ('the', 'DET'), ('crib', 'ADJ'), ('notes', 'NOUN'), ('.', '.'), ('Nylev', 'ADV'), ('Municipal', 'ADJ'), ('Fund', 'NOUN'), ('Inc.', 'NOUN'), (',', '.'), ('offering', 'NOUN'), ('of', 'ADP'), ('five', 'NUM'), ('million', 'NUM'), ('common', 'ADJ'), ('shares', 'NOUN'), ('.', '.'), ('But', 'CONJ'), ('analysts', 'NOUN'), ('said', 'VERB'), ('0', 'X'), ('early', 'ADV'), ('results', 'NOUN'), ('from', 'ADP'), ('the', 'DET'), ('reorganization', 'NOUN'), ('have', 'VERB'), ('been', 'VERB'), ('disappointing', 'ADJ'), (',', '.'), ('especially', 'ADV'), ('in', 'ADP'), ('Europe', 'NOUN'), (',', '.'), ('and', 'CONJ'), ('there', 'DET'), ('were', 'VERB'), ('signs', 'NOUN'), ('that', 'ADP'), ('the', 'DET'), ('board', 'NOUN'), ('became', 'VERB'), ('impatient', 'ADV'), ('.', '.'), ('``', '.'), ('He', 'PRON'), ('has', 'VERB'), ('clamped', 'ADV'), ('on', 'ADP'), ('their', 'PRON'), ('ankle', 'ADV'), ('like', 'ADP'), ('a', 'DET'), ('pit', 'NOUN'), ('bull', 'NOUN'), (',', '.'), (\"''\", '.'), ('says', 'VERB'), ('*T*-1', 'X'), ('Paul', 'NOUN'), ('Leming', 'NOUN'), (',', '.'), ('a', 'DET'), ('vice', 'NOUN'), ('president', 'NOUN'), ('with', 'ADP'), ('Morgan', 'NOUN'), ('Stanley', 'NOUN'), ('&', 'CONJ'), ('Co', 'NOUN'), ('.', '.'), ('That', 'DET'), ('has', 'VERB'), ('been', 'VERB'), ('particularly', 'ADV'), ('true', 'ADJ'), ('this', 'DET'), ('year', 'NOUN'), ('with', 'ADP'), ('many', 'ADJ'), ('companies', 'NOUN'), ('raising', 'VERB'), ('their', 'PRON'), ('payouts', 'NOUN'), ('more', 'ADV'), ('than', 'ADP'), ('10', 'NUM'), ('%', 'NOUN'), ('.', '.'), ('The', 'DET'), ('offer', 'NOUN'), (',', '.'), ('valued', 'VERB'), ('*', 'X'), ('at', 'ADP'), ('about', 'ADP'), ('$', '.'), ('576', 'ADV'), ('million', 'NUM'), ('*U*', 'X'), ('for', 'ADP'), ('the', 'DET'), ('33', 'NUM'), ('%', 'NOUN'), ('of', 'ADP'), ('Telerate', 'NOUN'), ('that', 'ADP'), ('Dow', 'NOUN'), ('Jones', 'NOUN'), ('does', 'VERB'), (\"n't\", 'ADV'), ('already', 'ADV'), ('own', 'ADJ'), ('*T*-1', 'X'), (',', '.'), ('had', 'VERB'), ('been', 'VERB'), ('set', 'VERB'), ('*-2', 'X'), ('to', 'PRT'), ('expire', 'VERB'), ('Nov.', 'NOUN'), ('6', 'NUM'), ('.', '.'), ('Stadium', 'NOUN'), ('boosters', 'NOUN'), ('claim', 'VERB'), ('that', 'ADP'), ('without', 'ADP'), ('public', 'ADJ'), ('money', 'NOUN'), ('they', 'PRON'), ('would', 'VERB'), ('never', 'ADV'), ('be', 'VERB'), ('built', 'VERB'), ('*-1', 'X'), ('.', '.'), ('Nekoosa', 'NOUN'), ('would', 'VERB'), (\"n't\", 'ADV'), ('be', 'VERB'), ('a', 'DET'), ('diversification', 'ADV'), ('.', '.'), ('But', 'CONJ'), ('``', '.'), ('because', 'ADP'), ('it', 'PRON'), (\"'s\", 'VERB'), ('all', 'DET'), ('0', 'X'), ('we', 'PRON'), (\"'ve\", 'VERB'), ('got', 'VERB'), ('*T*-1', 'X'), (',', '.'), ('I', 'PRON'), (\"'m\", 'VERB'), ('going', 'VERB'), ('*-2', 'X'), ('to', 'PRT'), ('vote', 'VERB'), ('for', 'ADP'), ('it', 'PRON'), ('.', '.'), (\"''\", '.'), ('Rudolph', 'NOUN'), ('Agnew', 'ADV'), (',', '.'), ('55', 'NUM'), ('years', 'NOUN'), ('old', 'ADJ'), ('and', 'CONJ'), ('former', 'ADJ'), ('chairman', 'NOUN'), ('of', 'ADP'), ('Consolidated', 'NOUN'), ('Gold', 'NOUN'), ('Fields', 'NOUN'), ('PLC', 'NOUN'), (',', '.'), ('was', 'VERB'), ('named', 'VERB'), ('*-1', 'X'), ('a', 'DET'), ('nonexecutive', 'ADJ'), ('director', 'NOUN'), ('of', 'ADP'), ('this', 'DET'), ('British', 'ADJ'), ('industrial', 'ADJ'), ('conglomerate', 'NOUN'), ('.', '.'), ('I', 'PRON'), ('believe', 'VERB'), ('0', 'X'), ('you', 'PRON'), ('have', 'VERB'), ('*-1', 'X'), ('to', 'PRT'), ('use', 'VERB'), ('the', 'DET'), ('system', 'NOUN'), ('*-2', 'X'), ('to', 'PRT'), ('change', 'VERB'), ('it', 'PRON'), ('.', '.'), ('All', 'DET'), ('came', 'VERB'), ('from', 'ADP'), ('Cray', 'NOUN'), ('Research', 'NOUN'), ('.', '.'), ('In', 'ADP'), ('a', 'DET'), ('well-known', 'ADV'), ('detective-story', 'ADV'), ('involving', 'VERB'), ('church', 'NOUN'), ('bells', 'NOUN'), (',', '.'), ('English', 'NOUN'), ('novelist', 'ADV'), ('Dorothy', 'NOUN'), ('L.', 'NOUN'), ('Sayers', 'NOUN'), ('described', 'VERB'), ('ringing', 'VERB'), ('as', 'ADP'), ('a', 'DET'), ('``', '.'), ('passion', 'NOUN'), ('-LCB-', '.'), ('that', 'DET'), ('-RCB-', '.'), ('*T*-1', 'X'), ('finds', 'ADV'), ('its', 'PRON'), ('satisfaction', 'ADV'), ('in', 'ADP'), ('mathematical', 'ADV'), ('completeness', 'ADV'), ('and', 'CONJ'), ('mechanical', 'ADJ'), ('perfection', 'ADV'), ('.', '.'), (\"''\", '.'), ('Of', 'ADP'), ('course', 'NOUN'), (',', '.'), ('regulators', 'NOUN'), ('would', 'VERB'), ('have', 'VERB'), ('*-1', 'X'), ('to', 'PRT'), ('approve', 'VERB'), ('Columbia', 'NOUN'), (\"'s\", 'PRT'), ('reorganization', 'NOUN'), ('.', '.'), ('A', 'DET'), ('seat', 'NOUN'), ('on', 'ADP'), ('the', 'DET'), ('Chicago', 'NOUN'), ('Board', 'NOUN'), ('of', 'ADP'), ('Trade', 'NOUN'), ('was', 'VERB'), ('sold', 'VERB'), ('*-1', 'X'), ('for', 'ADP'), ('$', '.'), ('350,000', 'NUM'), ('*U*', 'X'), (',', '.'), ('down', 'ADV'), ('$', '.'), ('16,000', 'NUM'), ('*U*', 'X'), ('from', 'ADP'), ('the', 'DET'), ('previous', 'ADJ'), ('sale', 'NOUN'), ('last', 'ADJ'), ('Friday', 'NOUN'), ('.', '.'), ('Advancing', 'ADV'), ('stocks', 'NOUN'), ('led', 'VERB'), ('decliners', 'ADV'), ('on', 'ADP'), ('the', 'DET'), ('New', 'NOUN'), ('York', 'NOUN'), ('Stock', 'NOUN'), ('Exchange', 'NOUN'), ('by', 'ADP'), ('847', 'NUM'), ('to', 'PRT'), ('644', 'NUM'), ('.', '.'), ('But', 'CONJ'), ('many', 'ADJ'), ('experts', 'NOUN'), ('and', 'CONJ'), ('traders', 'NOUN'), ('say', 'VERB'), ('that', 'ADP'), ('program', 'NOUN'), ('trading', 'NOUN'), ('is', 'VERB'), (\"n't\", 'ADV'), ('the', 'DET'), ('main', 'ADJ'), ('reason', 'NOUN'), ('for', 'ADP'), ('stock-market', 'NOUN'), ('gyrations', 'NOUN'), ('.', '.'), ('It', 'PRON'), ('is', 'VERB'), ('not', 'ADV'), ('supported', 'VERB'), ('by', 'ADP'), ('the', 'DET'), ('text', 'NOUN'), ('or', 'CONJ'), ('history', 'NOUN'), ('of', 'ADP'), ('the', 'DET'), ('Constitution', 'NOUN'), ('.', '.'), ('In', 'ADP'), ('contrast', 'NOUN'), (',', '.'), ('the', 'DET'), ('lawyers', 'NOUN'), (\"'\", 'PRT'), ('association', 'NOUN'), ('gives', 'VERB'), ('a', 'DET'), ('``', '.'), ('well', 'ADV'), ('qualified', 'VERB'), (\"''\", '.'), ('rating', 'NOUN'), ('to', 'PRT'), ('those', 'DET'), ('``', '.'), ('regarded', 'VERB'), ('*', 'X'), ('as', 'ADP'), ('one', 'NUM'), ('of', 'ADP'), ('the', 'DET'), ('best', 'ADJ'), ('available', 'ADJ'), ('for', 'ADP'), ('the', 'DET'), ('vacancy', 'ADV'), ('.', '.'), ('``', '.'), ('We', 'PRON'), ('want', 'VERB'), ('*-1', 'X'), ('to', 'PRT'), ('see', 'VERB'), ('the', 'DET'), ('glass', 'NOUN'), ('market', 'NOUN'), ('from', 'ADP'), ('the', 'DET'), ('inside', 'ADV'), (',', '.'), ('not', 'ADV'), ('the', 'DET'), ('outside', 'ADJ'), ('.', '.'), (\"''\", '.'), ('But', 'CONJ'), ('as', 'ADP'), ('the', 'DET'), ('craze', 'NOUN'), ('died', 'VERB'), (',', '.'), ('Coleco', 'NOUN'), ('failed', 'VERB'), ('*-1', 'X'), ('to', 'PRT'), ('come', 'VERB'), ('up', 'ADV'), ('with', 'ADP'), ('another', 'DET'), ('winner', 'ADV'), ('and', 'CONJ'), ('filed', 'VERB'), ('for', 'ADP'), ('bankruptcy-law', 'ADV'), ('protection', 'NOUN'), ('in', 'ADP'), ('July', 'NOUN'), ('1988', 'NUM'), ('.', '.'), ('If', 'ADP'), ('a', 'DET'), ('competitor', 'NOUN'), ('enters', 'VERB'), ('the', 'DET'), ('game', 'NOUN'), (',', '.'), ('for', 'ADP'), ('example', 'NOUN'), (',', '.'), ('Mr.', 'NOUN'), ('Hahn', 'NOUN'), ('could', 'VERB'), ('face', 'VERB'), ('the', 'DET'), ('dilemma', 'ADV'), ('of', 'ADP'), ('*', 'X'), ('paying', 'VERB'), ('a', 'DET'), ('premium', 'NOUN'), ('for', 'ADP'), ('Nekoosa', 'NOUN'), ('or', 'CONJ'), ('seeing', 'VERB'), ('the', 'DET'), ('company', 'NOUN'), ('fall', 'NOUN'), ('into', 'ADP'), ('the', 'DET'), ('arms', 'NOUN'), ('of', 'ADP'), ('a', 'DET'), ('rival', 'NOUN'), ('.', '.'), ('Ray', 'NOUN'), ('Shaw', 'NOUN'), (',', '.'), ('chairman', 'NOUN'), ('of', 'ADP'), ('American', 'ADJ'), ('City', 'NOUN'), (',', '.'), ('said', 'VERB'), ('0', 'X'), ('he', 'PRON'), ('would', 'VERB'), ('assume', 'VERB'), ('Mr.', 'NOUN'), ('Russell', 'NOUN'), (\"'s\", 'PRT'), ('responsibilities', 'NOUN'), ('if', 'ADP'), ('a', 'DET'), ('successor', 'NOUN'), ('is', 'VERB'), (\"n't\", 'ADV'), ('found', 'VERB'), ('*-1', 'X'), ('this', 'DET'), ('month', 'NOUN'), ('.', '.'), ('Mrs.', 'NOUN'), ('Ward', 'NOUN'), ('says', 'VERB'), ('0', 'X'), ('she', 'PRON'), ('often', 'ADV'), ('defended', 'VERB'), ('her', 'PRON'), ('to', 'PRT'), ('colleagues', 'NOUN'), ('who', 'PRON'), ('*T*-91', 'ADV'), ('called', 'VERB'), ('her', 'PRON'), ('a', 'DET'), ('grandstander', 'ADV'), ('.', '.'), ('But', 'CONJ'), ('others', 'NOUN'), ('at', 'ADP'), ('Greenville', 'NOUN'), ('High', 'NOUN'), ('say', 'VERB'), ('0', 'X'), ('she', 'PRON'), ('was', 'VERB'), ('eager', 'ADJ'), ('*-1', 'X'), ('to', 'PRT'), ('win', 'VERB'), ('--', '.'), ('if', 'ADP'), ('not', 'ADV'), ('for', 'ADP'), ('money', 'NOUN'), (',', '.'), ('then', 'ADV'), ('for', 'ADP'), ('pride', 'ADV'), ('and', 'CONJ'), ('recognition', 'NOUN'), ('.', '.'), ('Standard', 'NOUN'), ('&', 'CONJ'), ('Poor', 'NOUN'), (\"'s\", 'PRT'), ('500-Stock', 'ADV'), ('Index', 'NOUN'), ('added', 'VERB'), ('0.84', 'ADV'), ('to', 'PRT'), ('341.20', 'ADV'), (';', '.'), ('the', 'DET'), ('rise', 'NOUN'), ('was', 'VERB'), ('equivalent', 'NOUN'), ('to', 'PRT'), ('a', 'DET'), ('gain', 'NOUN'), ('of', 'ADP'), ('about', 'ADP'), ('six', 'NUM'), ('points', 'NOUN'), ('in', 'ADP'), ('the', 'DET'), ('industrial', 'ADJ'), ('average', 'NOUN'), ('.', '.'), ('Probably', 'ADV'), ('the', 'DET'), ('most', 'ADJ'), ('egregious', 'ADV'), ('example', 'NOUN'), ('is', 'VERB'), ('a', 'DET'), ('proviso', 'ADV'), ('in', 'ADP'), ('the', 'DET'), ('appropriations', 'NOUN'), ('bill', 'NOUN'), ('for', 'ADP'), ('the', 'DET'), ('executive', 'ADJ'), ('office', 'NOUN'), ('that', 'ADP'), ('*T*-1', 'X'), ('prevents', 'VERB'), ('the', 'DET'), ('president', 'NOUN'), (\"'s\", 'PRT'), ('Office', 'ADV'), ('of', 'ADP'), ('Management', 'NOUN'), ('and', 'CONJ'), ('Budget', 'ADV'), ('from', 'ADP'), ('*-2', 'X'), ('subjecting', 'ADV'), ('agricultural', 'ADJ'), ('marketing', 'NOUN'), ('orders', 'NOUN'), ('to', 'PRT'), ('any', 'DET'), ('cost-benefit', 'ADV'), ('scrutiny', 'NOUN'), ('.', '.'), ('To', 'PRT'), ('the', 'DET'), ('astonishment', 'ADV'), ('and', 'CONJ'), ('dismay', 'ADV'), ('of', 'ADP'), ('her', 'PRON'), ('superiors', 'ADV'), ('and', 'CONJ'), ('legal', 'ADJ'), ('authorities', 'NOUN'), ('--', '.'), ('and', 'CONJ'), ('perhaps', 'ADV'), ('as', 'ADP'), ('a', 'DET'), ('measure', 'NOUN'), ('of', 'ADP'), ('the', 'DET'), ('unpopularity', 'ADV'), ('of', 'ADP'), ('standardized', 'ADJ'), ('tests', 'NOUN'), ('--', '.'), ('Mrs', 'ADV'), ('.', '.'), ('Yeargin', 'NOUN'), ('won', 'VERB'), ('widespread', 'ADJ'), ('local', 'ADJ'), ('support', 'NOUN'), ('.', '.'), ('In', 'ADP'), ('the', 'DET'), ('torrent', 'ADV'), ('of', 'ADP'), ('replies', 'VERB'), ('that', 'ADP'), ('*T*-1', 'X'), ('followed', 'VERB'), (',', '.'), ('one', 'NUM'), ('woman', 'NOUN'), ('ringer', 'NOUN'), ('from', 'ADP'), ('Solihull', 'ADV'), ('observed', 'VERB'), ('that', 'ADP'), ('``', '.'), ('the', 'DET'), ('average', 'ADJ'), ('male', 'NOUN'), ('ringer', 'NOUN'), ('leaves', 'VERB'), ('quite', 'ADV'), ('a', 'DET'), ('lot', 'NOUN'), ('0', 'X'), ('*T*-2', 'X'), ('to', 'PRT'), ('be', 'VERB'), ('desired', 'VERB'), ('*-141', 'ADV'), (':', '.'), ('*-3', 'X'), ('badly', 'ADV'), ('dressed', 'ADV'), (',', '.'), ('decorated', 'ADV'), ('with', 'ADP'), ('acne', 'NOUN'), ('and', 'CONJ'), ('a', 'DET'), ('large', 'ADJ'), ('beer-belly', 'ADV'), (',', '.'), ('frequently', 'ADV'), ('unwashed', 'ADV'), ('and', 'CONJ'), ('unbearably', 'ADV'), ('flatulent', 'ADV'), ('in', 'ADP'), ('peals', 'NOUN'), ('.', '.'), (\"''\", '.'), ('When', 'ADV'), ('the', 'DET'), ('stock', 'NOUN'), ('market', 'NOUN'), ('dropped', 'VERB'), ('nearly', 'ADV'), ('7', 'NUM'), ('%', 'NOUN'), ('Oct.', 'NOUN'), ('13', 'NUM'), ('*T*-1', 'X'), (',', '.'), ('for', 'ADP'), ('instance', 'NOUN'), (',', '.'), ('the', 'DET'), ('Mexico', 'NOUN'), ('Fund', 'NOUN'), ('plunged', 'VERB'), ('about', 'ADP'), ('18', 'NUM'), ('%', 'NOUN'), ('and', 'CONJ'), ('the', 'DET'), ('Spain', 'NOUN'), ('Fund', 'NOUN'), ('fell', 'VERB'), ('16', 'NUM'), ('%', 'NOUN'), ('.', '.'), ('Policies', 'ADV'), ('designed', 'VERB'), ('*', 'X'), ('to', 'PRT'), ('encourage', 'VERB'), ('one', 'NUM'), ('type', 'NOUN'), ('of', 'ADP'), ('investor', 'NOUN'), ('over', 'ADP'), ('another', 'DET'), ('are', 'VERB'), ('akin', 'ADV'), ('to', 'PRT'), ('*', 'X'), ('placing', 'VERB'), ('a', 'DET'), ('sign', 'NOUN'), ('*ICH*-1', 'X'), ('over', 'ADP'), ('the', 'DET'), ('Big', 'NOUN'), ('Board', 'NOUN'), (\"'s\", 'PRT'), ('door', 'NOUN'), ('saying', 'VERB'), (':', '.'), ('``', '.'), ('Buyers', 'ADV'), ('welcome', 'ADV'), (',', '.'), ('sellers', 'NOUN'), ('please', 'ADV'), ('*', 'X'), ('go', 'VERB'), ('away', 'ADV'), ('!', '.'), (\"''\", '.'), ('Stephen', 'NOUN'), ('Salmore', 'NOUN'), (',', '.'), ('a', 'DET'), ('political', 'ADJ'), ('scientist', 'NOUN'), ('at', 'ADP'), ('New', 'NOUN'), ('Jersey', 'NOUN'), (\"'s\", 'PRT'), ('Eagleton', 'ADV'), ('Institute', 'NOUN'), (',', '.'), ('says', 'VERB'), ('0', 'X'), ('it', 'PRON'), (\"'s\", 'VERB'), ('another', 'DET'), ('example', 'NOUN'), ('of', 'ADP'), ('an', 'DET'), ('ad', 'NOUN'), ('that', 'ADP'), ('*T*-1', 'X'), (\"'s\", 'PRT'), ('true', 'ADJ'), ('but', 'CONJ'), ('not', 'ADV'), ('fully', 'ADV'), ('accurate', 'ADJ'), ('.', '.'), ('Upjohn', 'NOUN'), (',', '.'), ('a', 'DET'), ('rumored', 'VERB'), ('target', 'NOUN'), ('within', 'ADP'), ('the', 'DET'), ('drug', 'NOUN'), ('industry', 'NOUN'), (',', '.'), ('advanced', 'VERB'), ('7\\\\/8', 'NUM'), ('to', 'PRT'), ('38', 'NUM'), ('7\\\\/8', 'NUM'), ('.', '.'), ('Japan', 'NOUN'), (\"'s\", 'PRT'), ('reserves', 'NOUN'), ('of', 'ADP'), ('gold', 'NOUN'), (',', '.'), ('convertible', 'ADJ'), ('foreign', 'ADJ'), ('currencies', 'NOUN'), (',', '.'), ('and', 'CONJ'), ('special', 'ADJ'), ('drawing', 'NOUN'), ('rights', 'NOUN'), ('fell', 'VERB'), ('by', 'ADP'), ('a', 'DET'), ('hefty', 'ADJ'), ('$', '.'), ('1.82', 'ADV'), ('billion', 'NUM'), ('*U*', 'X'), ('in', 'ADP'), ('October', 'NOUN'), ('to', 'PRT'), ('$', '.'), ('84.29', 'ADV'), ('billion', 'NUM'), ('*U*', 'X'), (',', '.'), ('the', 'DET'), ('Finance', 'NOUN'), ('Ministry', 'NOUN'), ('said', 'VERB'), ('0', 'X'), ('*T*-2', 'X'), ('.', '.'), ('``', '.'), ('The', 'DET'), ('psychology', 'NOUN'), ('is', 'VERB'), ('still', 'ADV'), (':', '.'), ('`', '.'), ('We', 'PRON'), ('want', 'VERB'), ('-LRB-', '.'), ('stocks', 'NOUN'), ('-RRB-', '.'), ('up', 'ADV'), (',', '.'), ('but', 'CONJ'), ('if', 'ADP'), ('they', 'PRON'), ('do', 'VERB'), (\"n't\", 'ADV'), ('carry', 'VERB'), ('we', 'PRON'), (\"'re\", 'VERB'), ('going', 'VERB'), ('*-1', 'X'), ('to', 'PRT'), ('sell', 'VERB'), ('them', 'PRON'), ('.', '.'), (\"'\", '.'), (\"''\", '.'), ('*-2', 'X'), ('Reached', 'ADV'), ('*-1', 'X'), ('at', 'ADP'), ('his', 'PRON'), ('office', 'NOUN'), (',', '.'), ('Mr.', 'NOUN'), ('McFall', 'NOUN'), (',', '.'), ('currently', 'ADV'), ('chairman', 'NOUN'), (',', '.'), ('said', 'VERB'), (',', '.'), ('``', '.'), ('An', 'DET'), ('implication', 'ADV'), ('that', 'ADP'), ('we', 'PRON'), ('failed', 'VERB'), ('*-3', 'X'), ('to', 'PRT'), ('return', 'NOUN'), ('investor', 'NOUN'), ('funds', 'NOUN'), ('is', 'VERB'), ('inappropriate', 'ADJ'), ('and', 'CONJ'), ('inaccurate', 'ADJ'), ('.', '.'), (\"''\", '.'), ('*-1', 'X'), ('Standing', 'ADV'), ('on', 'ADP'), ('a', 'DET'), ('shaded', 'ADV'), ('hill', 'ADV'), ('in', 'ADP'), ('a', 'DET'), ('run-down', 'ADJ'), ('area', 'NOUN'), ('of', 'ADP'), ('this', 'DET'), ('old', 'ADJ'), ('textile', 'NOUN'), ('city', 'NOUN'), (',', '.'), ('the', 'DET'), ('school', 'NOUN'), ('has', 'VERB'), ('educated', 'ADV'), ('many', 'ADJ'), ('of', 'ADP'), ('South', 'NOUN'), ('Carolina', 'NOUN'), (\"'s\", 'PRT'), ('best', 'ADJ'), ('and', 'CONJ'), ('brightest', 'ADV'), (',', '.'), ('including', 'VERB'), ('the', 'DET'), ('state', 'NOUN'), (\"'s\", 'PRT'), ('last', 'ADJ'), ('two', 'NUM'), ('governors', 'NOUN'), (',', '.'), ('Nobel', 'ADV'), ('Prize', 'ADV'), ('winning', 'VERB'), ('physicist', 'NOUN'), ('Charles', 'NOUN'), ('Townes', 'ADV'), ('and', 'CONJ'), ('actress', 'ADV'), ('Joanne', 'ADV'), ('Woodward', 'ADV'), ('.', '.'), ('There', 'DET'), ('may', 'VERB'), ('be', 'VERB'), ('others', 'NOUN'), ('doing', 'VERB'), ('what', 'PRON'), ('she', 'PRON'), ('did', 'VERB'), ('*T*-1', 'X'), ('.', '.'), (\"''\", '.'), ('The', 'DET'), ('Bush', 'NOUN'), ('administration', 'NOUN'), (\"'s\", 'PRT'), ('nomination', 'NOUN'), ('of', 'ADP'), ('Clarence', 'ADV'), ('Thomas', 'NOUN'), ('to', 'PRT'), ('a', 'DET'), ('seat', 'NOUN'), ('on', 'ADP'), ('the', 'DET'), ('federal', 'ADJ'), ('appeals', 'NOUN'), ('court', 'NOUN'), ('here', 'ADV'), ('received', 'VERB'), ('a', 'DET'), ('blow', 'NOUN'), ('this', 'DET'), ('week', 'NOUN'), ('when', 'ADV'), ('the', 'DET'), ('American', 'ADJ'), ('Bar', 'ADV'), ('Association', 'NOUN'), ('gave', 'VERB'), ('Mr.', 'NOUN'), ('Thomas', 'NOUN'), ('only', 'ADV'), ('a', 'DET'), ('``', '.'), ('qualified', 'VERB'), (\"''\", '.'), ('rating', 'NOUN'), (',', '.'), ('rather', 'ADV'), ('than', 'ADP'), ('``', '.'), ('well', 'ADV'), ('qualified', 'VERB'), ('*T*-1', 'X'), ('.', '.'), (\"''\", '.'), ('``', '.'), ('I', 'PRON'), ('would', 'VERB'), ('like', 'ADP'), ('*-1', 'X'), ('to', 'PRT'), ('go', 'VERB'), ('back', 'ADV'), ('to', 'PRT'), ('1970', 'NUM'), ('.', '.'), ('IBM', 'NOUN'), (',', '.'), ('the', 'DET'), ('world', 'NOUN'), ('leader', 'NOUN'), ('in', 'ADP'), ('computers', 'NOUN'), (',', '.'), ('did', 'VERB'), (\"n't\", 'ADV'), ('offer', 'VERB'), ('its', 'PRON'), ('first', 'ADJ'), ('PC', 'NOUN'), ('until', 'ADP'), ('August', 'NOUN'), ('1981', 'NUM'), ('as', 'ADP'), ('many', 'ADJ'), ('other', 'ADJ'), ('companies', 'NOUN'), ('entered', 'VERB'), ('the', 'DET'), ('market', 'NOUN'), ('.', '.'), ('Shipments', 'ADV'), ('have', 'VERB'), ('been', 'VERB'), ('relatively', 'ADV'), ('level', 'NOUN'), ('since', 'ADP'), ('January', 'NOUN'), (',', '.'), ('the', 'DET'), ('Commerce', 'NOUN'), ('Department', 'NOUN'), ('noted', 'VERB'), ('0', 'X'), ('*T*-1', 'X'), ('.', '.'), ('The', 'DET'), ('statistics', 'NOUN'), ('imply', 'ADV'), ('that', 'ADP'), ('three-quarters', 'ADV'), ('of', 'ADP'), ('blacks', 'NOUN'), ('approve', 'VERB'), ('of', 'ADP'), ('Mr.', 'NOUN'), ('Bush', 'NOUN'), (\"'s\", 'PRT'), ('job', 'NOUN'), ('performance', 'NOUN'), ('and', 'CONJ'), ('85', 'NUM'), ('%', 'NOUN'), ('of', 'ADP'), ('blacks', 'NOUN'), ('approve', 'VERB'), ('of', 'ADP'), ('Mrs.', 'NOUN'), ('Bush', 'NOUN'), ('.', '.'), ('Another', 'DET'), ('concern', 'NOUN'), (':', '.'), ('The', 'DET'), ('funds', 'NOUN'), (\"'\", 'PRT'), ('share', 'NOUN'), ('prices', 'NOUN'), ('tend', 'VERB'), ('*-1', 'X'), ('to', 'PRT'), ('swing', 'VERB'), ('more', 'ADV'), ('than', 'ADP'), ('the', 'DET'), ('broader', 'ADJ'), ('market', 'NOUN'), ('.', '.'), ('While', 'ADP'), ('there', 'DET'), ('were', 'VERB'), ('no', 'DET'), ('one-time', 'ADJ'), ('gains', 'NOUN'), ('or', 'CONJ'), ('losses', 'NOUN'), ('in', 'ADP'), ('the', 'DET'), ('latest', 'ADJ'), ('period', 'NOUN'), (',', '.'), ('there', 'DET'), ('was', 'VERB'), ('a', 'DET'), ('one-time', 'ADJ'), ('gain', 'NOUN'), ('of', 'ADP'), ('#', '.'), ('18', 'NUM'), ('million', 'NUM'), ('*U*', 'X'), ('in', 'ADP'), ('the', 'DET'), ('1988', 'NUM'), ('period', 'NOUN'), ('.', '.'), ('In', 'ADP'), ('another', 'DET'), ('reflection', 'NOUN'), ('that', 'ADP'), ('the', 'DET'), ('growth', 'NOUN'), ('of', 'ADP'), ('the', 'DET'), ('economy', 'NOUN'), ('is', 'VERB'), ('leveling', 'VERB'), ('off', 'PRT'), (',', '.'), ('the', 'DET'), ('government', 'NOUN'), ('said', 'VERB'), ('that', 'ADP'), ('orders', 'NOUN'), ('for', 'ADP'), ('manufactured', 'VERB'), ('goods', 'NOUN'), ('and', 'CONJ'), ('spending', 'NOUN'), ('on', 'ADP'), ('construction', 'NOUN'), ('failed', 'VERB'), ('*-1', 'X'), ('to', 'PRT'), ('rise', 'VERB'), ('in', 'ADP'), ('September', 'NOUN'), ('.', '.'), ('For', 'ADP'), ('the', 'DET'), ('year', 'NOUN'), (',', '.'), ('pet', 'NOUN'), ('food', 'NOUN'), ('volume', 'NOUN'), ('was', 'VERB'), ('flat', 'ADJ'), (',', '.'), ('the', 'DET'), ('company', 'NOUN'), ('said', 'VERB'), ('0', 'X'), ('*T*-1', 'X'), ('.', '.')]\n"
     ]
    }
   ],
   "source": [
    "# The tags assigned to the validation set by the Vanilla Viterbi\n",
    "print(Viterbi_tagged_seq)"
   ]
  },
  {
   "cell_type": "code",
   "execution_count": 24,
   "metadata": {},
   "outputs": [],
   "source": [
    "# Function to check accuracy\n",
    "def check_accuracy(tagged_by_algo, tagged_words):\n",
    "    check = [i for i, j in zip(tagged_by_algo, tagged_words) if i == j] \n",
    "    accuracy = round((100*len(check)/len(tagged_by_algo)),2)\n",
    "    \n",
    "    return accuracy "
   ]
  },
  {
   "cell_type": "code",
   "execution_count": 25,
   "metadata": {},
   "outputs": [
    {
     "name": "stdout",
     "output_type": "stream",
     "text": [
      "Accuracy of the Vanilla Viterbi Algorithm:  91.34\n"
     ]
    }
   ],
   "source": [
    "# Accuracy of the Vanilla Viterbi against the original tags of the validation set\n",
    "print(\"Accuracy of the Vanilla Viterbi Algorithm: \", check_accuracy(Viterbi_tagged_seq,validation_run_base ))"
   ]
  },
  {
   "cell_type": "code",
   "execution_count": 26,
   "metadata": {
    "scrolled": true
   },
   "outputs": [
    {
     "name": "stdout",
     "output_type": "stream",
     "text": [
      "Cases incorrectly tagged by the Vanilla Viterbi :  404\n",
      "[[('*', 'X'), (('Beginning', 'ADV'), ('Beginning', 'VERB'))], [('in', 'ADP'), (('1980', 'ADV'), ('1980', 'NUM'))], [('the', 'DET'), (('common-law', 'ADV'), ('common-law', 'NOUN'))], [('common-law', 'NOUN'), (('rule', 'VERB'), ('rule', 'NOUN'))], [('.', '.'), (('Moreover', 'ADV'), ('Moreover', 'ADJ'))], [('the', 'DET'), (('1940s', 'ADV'), ('1940s', 'NUM'))], [('synthetic', 'ADJ'), (('hormone', 'ADV'), ('hormone', 'NOUN'))], [('hormone', 'NOUN'), (('diethylstilbestrol', 'ADV'), ('diethylstilbestrol', 'NOUN'))], [('prevent', 'VERB'), (('miscarriages', 'ADV'), ('miscarriages', 'NOUN'))], [('morning', 'NOUN'), (('sickness', 'ADV'), ('sickness', 'NOUN'))], [('The', 'DET'), (('Internal', 'ADV'), ('Internal', 'NOUN'))], [('who', 'PRON'), (('*T*-123', 'ADV'), ('*T*-123', 'X'))], [('to', 'PRT'), (('report', 'NOUN'), ('report', 'VERB'))], [('report', 'VERB'), (('detailed', 'VERB'), ('detailed', 'ADJ'))], [('who', 'PRON'), (('*T*-124', 'ADV'), ('*T*-124', 'X'))], [('.', '.'), (('Preliminary', 'ADV'), ('Preliminary', 'ADJ'))], [('Preliminary', 'ADJ'), (('tallies', 'ADV'), ('tallies', 'NOUN'))], [('a', 'DET'), (('cloud', 'ADV'), ('cloud', 'NOUN'))], [(\"'s\", 'PRT'), (('export-oriented', 'ADV'), ('export-oriented', 'ADJ'))], [('.', '.'), (('Country', 'ADV'), ('Country', 'NOUN'))], [('funds', 'NOUN'), (('offer', 'NOUN'), ('offer', 'VERB'))], [('a', 'DET'), (('taste', 'ADV'), ('taste', 'NOUN'))], [('a', 'DET'), (('bread-and-butter', 'ADV'), ('bread-and-butter', 'ADJ'))], [('.', '.'), (('Coincident', 'ADV'), ('Coincident', 'ADJ'))], [('to', 'PRT'), (('open', 'ADJ'), ('open', 'VERB'))], [('biggest', 'ADJ'), (('wine-buying', 'ADV'), ('wine-buying', 'ADJ'))], [('the', 'DET'), (('holidays', 'ADV'), ('holidays', 'NOUN'))], [('holidays', 'NOUN'), (('approach', 'NOUN'), ('approach', 'VERB'))], [('.', '.'), (('Something', 'ADV'), ('Something', 'NOUN'))], [(',', '.'), (('ranging', 'ADV'), ('ranging', 'VERB'))], [('St.', 'NOUN'), (('Petersburg', 'ADV'), ('Petersburg', 'NOUN'))], [('a', 'DET'), (('tenth', 'ADV'), ('tenth', 'NOUN'))], [('and', 'CONJ'), (('moons', 'ADV'), ('moons', 'NOUN'))], [('the', 'DET'), (('renovated', 'ADV'), ('renovated', 'VERB'))], [('Indiana', 'NOUN'), (('Roof', 'ADV'), ('Roof', 'NOUN'))], [('Roof', 'NOUN'), (('ballroom', 'ADV'), ('ballroom', 'NOUN'))], [('the', 'DET'), (('hottest', 'ADV'), ('hottest', 'ADJ'))], [('Indiana', 'NOUN'), (('duckling', 'ADV'), ('duckling', 'NOUN'))], [('duckling', 'NOUN'), (('mousseline', 'ADV'), ('mousseline', 'NOUN'))], [(',', '.'), (('lobster', 'ADV'), ('lobster', 'NOUN'))], [('lobster', 'NOUN'), (('consomme', 'ADV'), ('consomme', 'NOUN'))], [(',', '.'), (('veal', 'ADV'), ('veal', 'NOUN'))], [('veal', 'NOUN'), (('mignon', 'ADV'), ('mignon', 'NOUN'))], [('and', 'CONJ'), (('chocolate', 'ADV'), ('chocolate', 'ADJ'))], [('chocolate', 'ADJ'), (('terrine', 'ADV'), ('terrine', 'NOUN'))], [('a', 'DET'), (('raspberry', 'ADV'), ('raspberry', 'NOUN'))], [('raspberry', 'NOUN'), (('sauce', 'ADV'), ('sauce', 'NOUN'))], [('House-Senate', 'NOUN'), (('conferees', 'ADV'), ('conferees', 'NOUN'))], [('for', 'ADP'), (('more', 'ADJ'), ('more', 'ADV'))], [('such', 'ADJ'), (('well-known', 'ADV'), ('well-known', 'ADJ'))], [('of', 'ADP'), (('multinational', 'ADV'), ('multinational', 'ADJ'))], [('receive', 'VERB'), (('1\\\\/10th', 'ADV'), ('1\\\\/10th', 'NOUN'))], [('the', 'DET'), (('redemption', 'ADV'), ('redemption', 'NOUN'))], [('the', 'DET'), (('most', 'ADJ'), ('most', 'ADV'))], [('a', 'DET'), (('roll', 'VERB'), ('roll', 'NOUN'))], [('*', 'X'), (('multiplying', 'ADV'), ('multiplying', 'VERB'))], [('sports', 'NOUN'), (('centers', 'VERB'), ('centers', 'NOUN'))], [('.', '.'), (('Named', 'ADV'), ('Named', 'VERB'))], [('*T*-1', 'X'), (('Roland', 'ADV'), ('Roland', 'NOUN'))], [('Roland', 'NOUN'), (('Matthews', 'ADV'), ('Matthews', 'NOUN'))], [('Peter', 'NOUN'), (('Jonas', 'ADV'), ('Jonas', 'NOUN'))], [(',', '.'), (('executive', 'NOUN'), ('executive', 'ADJ'))], [(',', '.'), (('as', 'ADP'), ('as', 'ADV'))], [('also', 'ADV'), (('attacking', 'ADV'), ('attacking', 'VERB'))], [('to', 'PRT'), (('acknowledge', 'ADV'), ('acknowledge', 'VERB'))], [('acknowledge', 'VERB'), (('that', 'ADP'), ('that', 'DET'))], [('and', 'CONJ'), (('welcome', 'ADV'), ('welcome', 'VERB'))], [('the', 'DET'), (('infusion', 'ADV'), ('infusion', 'NOUN'))], [('would', 'VERB'), (('like', 'ADP'), ('like', 'VERB'))], [('Peter', 'NOUN'), (('Powers', 'ADV'), ('Powers', 'NOUN'))], [('``', '.'), (('deceptive', 'ADV'), ('deceptive', 'ADJ'))], [('will', 'VERB'), (('travel', 'NOUN'), ('travel', 'VERB'))], [('other', 'ADJ'), (('Soviet', 'NOUN'), ('Soviet', 'ADJ'))], [('0', 'X'), (('that', 'ADP'), ('that', 'DET'))], [('they', 'PRON'), (('approach', 'NOUN'), ('approach', 'VERB'))], [('a', 'DET'), (('benevolent', 'ADV'), ('benevolent', 'ADJ'))], [(',', '.'), (('altruistic', 'ADV'), ('altruistic', 'ADJ'))], [('the', 'DET'), (('junk-bond', 'NOUN'), ('junk-bond', 'ADJ'))], [('*', 'X'), (('lessening', 'ADV'), ('lessening', 'VERB'))], [('the', 'DET'), (('likelihood', 'ADV'), ('likelihood', 'NOUN'))], [('year', 'NOUN'), (('earlier', 'ADV'), ('earlier', 'ADJ'))], [('will', 'VERB'), (('default', 'NOUN'), ('default', 'VERB'))], [('the', 'DET'), (('Spanish', 'ADV'), ('Spanish', 'NOUN'))], [('Spanish', 'NOUN'), (('Renaissance-style', 'ADV'), ('Renaissance-style', 'ADJ'))], [('Renaissance-style', 'ADJ'), (('building', 'VERB'), ('building', 'NOUN'))], [('the', 'DET'), (('Palestinian', 'ADV'), ('Palestinian', 'NOUN'))], [('committee', 'NOUN'), (('first', 'ADJ'), ('first', 'ADV'))], [('Iowa', 'NOUN'), (('Cos.', 'ADV'), ('Cos.', 'NOUN'))], [('the', 'DET'), (('36-store', 'ADV'), ('36-store', 'ADJ'))], [('to', 'PRT'), (('free', 'ADJ'), ('free', 'VERB'))], [('.', '.'), (('Yasser', 'ADV'), ('Yasser', 'NOUN'))], [('Yasser', 'NOUN'), (('Arafat', 'ADV'), ('Arafat', 'NOUN'))], [('to', 'PRT'), (('back', 'ADV'), ('back', 'VERB'))], [('a', 'DET'), (('Palestinian', 'ADV'), ('Palestinian', 'ADJ'))], [('Palestinian', 'ADJ'), (('bid', 'VERB'), ('bid', 'NOUN'))], [('the', 'DET'), (('Palestine', 'ADV'), ('Palestine', 'NOUN'))], [('Palestine', 'NOUN'), (('Liberation', 'ADV'), ('Liberation', 'NOUN'))], [('agency', 'NOUN'), (('WAFA', 'ADV'), ('WAFA', 'NOUN'))], [(',', '.'), (('watch', 'VERB'), ('watch', 'NOUN'))], [('.', '.'), (('BANKERS', 'ADV'), ('BANKERS', 'NOUN'))], [('BANKERS', 'NOUN'), (('ACCEPTANCES', 'ADV'), ('ACCEPTANCES', 'NOUN'))], [(';', '.'), (('8.48', 'ADV'), ('8.48', 'NUM'))], [(';', '.'), (('8.30', 'ADV'), ('8.30', 'NUM'))], [(';', '.'), (('8.15', 'ADV'), ('8.15', 'NUM'))], [('to', 'PRT'), (('position', 'NOUN'), ('position', 'VERB'))], [('failed', 'VERB'), (('labor-management', 'ADJ'), ('labor-management', 'NOUN'))], [('Leo', 'NOUN'), (('Melamed', 'ADV'), ('Melamed', 'NOUN'))], [('to', 'PRT'), (('lessen', 'ADV'), ('lessen', 'VERB'))], [('selling', 'NOUN'), (('panic', 'VERB'), ('panic', 'NOUN'))], [('to', 'PRT'), (('institute', 'NOUN'), ('institute', 'VERB'))], [('market', 'NOUN'), (('slides', 'VERB'), ('slides', 'NOUN'))], [('conservative', 'ADJ'), (('Californian', 'ADV'), ('Californian', 'NOUN'))], [('assist', 'VERB'), (('Bolivia', 'ADV'), ('Bolivia', 'NOUN'))], [('then', 'ADV'), (('broadened', 'ADV'), ('broadened', 'VERB'))], [('Basin', 'NOUN'), (('initiate', 'ADV'), ('initiate', 'NOUN'))], [('initiate', 'NOUN'), (('as', 'ADP'), ('as', 'ADV'))], [('Democratic', 'ADJ'), (('Lt.', 'ADV'), ('Lt.', 'NOUN'))], [('Lt.', 'NOUN'), (('Gov.', 'ADV'), ('Gov.', 'NOUN'))], [('his', 'PRON'), (('gubernatorial', 'ADV'), ('gubernatorial', 'ADJ'))], [('gubernatorial', 'ADJ'), (('battle', 'VERB'), ('battle', 'NOUN'))], [('Frank', 'NOUN'), (('Greer', 'ADV'), ('Greer', 'NOUN'))], [('political', 'ADJ'), (('persuasion', 'ADV'), ('persuasion', 'NOUN'))], [('a', 'DET'), (('tour', 'ADV'), ('tour', 'NOUN'))], [('tour', 'NOUN'), (('de', 'ADP'), ('de', 'X'))], [('Bell', 'NOUN'), (('established', 'ADV'), ('established', 'VERB'))], [('patent', 'NOUN'), (('caveat', 'ADV'), ('caveat', 'NOUN'))], [('registered', 'VERB'), (('*-145', 'ADV'), ('*-145', 'X'))], [('to', 'PRT'), (('enter', 'ADV'), ('enter', 'VERB'))], [('the', 'DET'), (('autions', 'ADV'), ('autions', 'NOUN'))], [('be', 'VERB'), (('rescheduled', 'ADV'), ('rescheduled', 'VERB'))], [('rescheduled', 'VERB'), (('*-106', 'ADV'), ('*-106', 'X'))], [('to', 'PRT'), (('return', 'NOUN'), ('return', 'VERB'))], [('Tokyo', 'NOUN'), (('disagree', 'ADV'), ('disagree', 'VERB'))], [('of', 'ADP'), (('unfettered', 'ADV'), ('unfettered', 'ADJ'))], [('Elizabeth', 'NOUN'), (('Ariail', 'ADV'), ('Ariail', 'NOUN'))], [('standing', 'NOUN'), (('high', 'ADJ'), ('high', 'ADV'))], [('job', 'NOUN'), (('that', 'ADP'), ('that', 'DET'))], [(\"n't\", 'ADV'), (('demand', 'NOUN'), ('demand', 'VERB'))], [('for', 'ADP'), (('overnight', 'ADV'), ('overnight', 'ADJ'))], [('overnight', 'ADJ'), (('use', 'VERB'), ('use', 'NOUN'))], [('a', 'DET'), (('vitriolic', 'ADV'), ('vitriolic', 'ADJ'))], [('temporarily', 'ADV'), (('mollified', 'ADV'), ('mollified', 'VERB'))], [('The', 'DET'), (('goverment', 'ADV'), ('goverment', 'NOUN'))], [('goverment', 'NOUN'), (('counts', 'NOUN'), ('counts', 'VERB'))], [('Dodge', 'NOUN'), (('counts', 'NOUN'), ('counts', 'VERB'))], [('is', 'VERB'), (('further', 'ADJ'), ('further', 'ADV'))], [('the', 'DET'), (('future', 'ADJ'), ('future', 'NOUN'))], [('U.S.', 'NOUN'), (('troop', 'ADV'), ('troop', 'NOUN'))], [('proposal', 'NOUN'), (('reasserts', 'ADV'), ('reasserts', 'VERB'))], [('a', 'DET'), (('leading', 'ADJ'), ('leading', 'VERB'))], [('$', '.'), (('737.5', 'ADV'), ('737.5', 'NUM'))], [('$', '.'), (('3.01', 'ADV'), ('3.01', 'NUM'))], [(',', '.'), (('decries', 'ADV'), ('decries', 'VERB'))], [('Stephen', 'NOUN'), (('Akerfeldt', 'ADV'), ('Akerfeldt', 'NOUN'))], [('frozen', 'VERB'), (('noodles', 'ADV'), ('noodles', 'NOUN'))], [('and', 'CONJ'), (('pre-cooked', 'ADV'), ('pre-cooked', 'ADJ'))], [('pre-cooked', 'ADJ'), (('pasta', 'ADV'), ('pasta', 'NOUN'))], [('in', 'ADP'), (('Clive', 'ADV'), ('Clive', 'NOUN'))], [('of', 'ADP'), (('about', 'ADP'), ('about', 'ADV'))], [('This', 'DET'), (('cute', 'ADV'), ('cute', 'ADJ'))], [('a', 'DET'), (('curse', 'ADV'), ('curse', 'NOUN'))], [('picture', 'NOUN'), (('tubes', 'ADV'), ('tubes', 'NOUN'))], [(',', '.'), (('assemble', 'ADV'), ('assemble', 'VERB'))], [('and', 'CONJ'), (('export', 'NOUN'), ('export', 'VERB'))], [('how', 'ADV'), (('much', 'ADV'), ('much', 'ADJ'))], [('a', 'DET'), (('get-out-the-vote', 'ADV'), ('get-out-the-vote', 'ADJ'))], [('of', 'ADP'), (('kidnapping', 'ADV'), ('kidnapping', 'NOUN'))], [('to', 'PRT'), (('parallel', 'ADJ'), ('parallel', 'VERB'))], [('the', 'DET'), (('European', 'ADJ'), ('European', 'NOUN'))], [('European', 'NOUN'), (('Common', 'ADJ'), ('Common', 'NOUN'))], [('*-1', 'X'), (('Concerned', 'ADV'), ('Concerned', 'VERB'))], [('about', 'ADP'), (('shrinking', 'ADV'), ('shrinking', 'VERB'))], [('shrinking', 'VERB'), (('landfills', 'ADV'), ('landfills', 'NOUN'))], [('in', 'ADP'), (('super-absorbent', 'ADV'), ('super-absorbent', 'ADJ'))], [('super-absorbent', 'ADJ'), (('disposables', 'ADV'), ('disposables', 'NOUN'))], [('the', 'DET'), (('Iran\\\\/Contra', 'ADV'), ('Iran\\\\/Contra', 'NOUN'))], [('Iran\\\\/Contra', 'NOUN'), (('affair', 'ADV'), ('affair', 'NOUN'))], [('of', 'ADP'), (('Mayer', 'ADV'), ('Mayer', 'NOUN'))], [('often', 'ADV'), (('buys', 'ADV'), ('buys', 'VERB'))], [('U.S.', 'NOUN'), (('grains', 'ADV'), ('grains', 'NOUN'))], [('a', 'DET'), (('several-year', 'ADV'), ('several-year', 'ADJ'))], [(',', '.'), (('less', 'ADJ'), ('less', 'ADV'))], [('less', 'ADV'), (('compelling', 'ADV'), ('compelling', 'ADJ'))], [('``', '.'), (('Lighthouse', 'ADV'), ('Lighthouse', 'NOUN'))], [('was', 'VERB'), (('painted', 'ADV'), ('painted', 'VERB'))], [('in', 'ADP'), (('oils', 'ADV'), ('oils', 'NOUN'))], [('the', 'DET'), (('playwright', 'ADV'), ('playwright', 'NOUN'))], [('in', 'ADP'), (('1901', 'ADV'), ('1901', 'NUM'))], [('had', 'VERB'), (('retained', 'ADV'), ('retained', 'VERB'))], [('But', 'CONJ'), (('civilization', 'ADV'), ('civilization', 'NOUN'))], [(\"n't\", 'ADV'), (('clarified', 'ADV'), ('clarified', 'VERB'))], [('be', 'VERB'), (('*T*-187', 'ADV'), ('*T*-187', 'X'))], [('You', 'PRON'), (('dismiss', 'ADV'), ('dismiss', 'VERB'))], [('``', '.'), (('sentimental', 'ADV'), ('sentimental', 'ADJ'))], [('federal', 'ADJ'), (('housing-assistance', 'ADV'), ('housing-assistance', 'ADJ'))], [('women', 'NOUN'), (('sleeping', 'ADV'), ('sleeping', 'VERB'))], [('the', 'DET'), (('Reagan-Bush', 'ADV'), ('Reagan-Bush', 'ADJ'))], [('a', 'DET'), (('holding', 'NOUN'), ('holding', 'VERB'))], [('*ICH*-1', 'X'), (('Takeshi', 'ADV'), ('Takeshi', 'NOUN'))], [('Takeshi', 'NOUN'), (('Kondo', 'ADV'), ('Kondo', 'NOUN'))], [('could', 'VERB'), (('clear', 'ADJ'), ('clear', 'VERB'))], [('product', 'NOUN'), (('that', 'ADP'), ('that', 'DET'))], [('*T*-1', 'X'), ((\"'s\", 'PRT'), (\"'s\", 'VERB'))], [('municipal', 'ADJ'), (('landfill', 'ADV'), ('landfill', 'NOUN'))], [('landfill', 'NOUN'), (('monster', 'ADV'), ('monster', 'NOUN'))], [('``', '.'), (('So', 'ADV'), ('So', 'ADP'))], [('other', 'ADJ'), (('fixed-income', 'ADV'), ('fixed-income', 'ADJ'))], [('sink', 'VERB'), (('up', 'ADV'), ('up', 'ADP'))], [(\"'s\", 'PRT'), (('work', 'VERB'), ('work', 'NOUN'))], [('work', 'NOUN'), (('force', 'VERB'), ('force', 'NOUN'))], [('.', '.'), (('Manila', 'ADV'), ('Manila', 'NOUN'))], [('which', 'DET'), (('*T*-194', 'ADV'), ('*T*-194', 'X'))], [('no', 'DET'), (('relation', 'ADV'), ('relation', 'NOUN'))], [('can', 'VERB'), (('generate', 'ADV'), ('generate', 'VERB'))], [('They', 'PRON'), (('devised', 'ADV'), ('devised', 'VERB'))], [('a', 'DET'), (('69-point', 'ADV'), ('69-point', 'ADJ'))], [('*-1', 'X'), (('awarding', 'ADV'), ('awarding', 'VERB'))], [('each', 'DET'), (('subskill', 'ADV'), ('subskill', 'NOUN'))], [('to', 'PRT'), (('rate', 'NOUN'), ('rate', 'VERB'))], [('the', 'DET'), (('closeness', 'ADV'), ('closeness', 'NOUN'))], [('test', 'NOUN'), (('preparatives', 'ADV'), ('preparatives', 'NOUN'))], [('$', '.'), (('110', 'ADV'), ('110', 'NUM'))], [('$', '.'), (('282', 'ADV'), ('282', 'NUM'))], [('*', 'X'), (('Getting', 'ADV'), ('Getting', 'VERB'))], [('level', 'NOUN'), (('playing', 'VERB'), ('playing', 'NOUN'))], [('are', 'VERB'), (('insured', 'ADV'), ('insured', 'VERB'))], [('and', 'CONJ'), (('triple-A-rated', 'ADV'), ('triple-A-rated', 'ADJ'))], [('have', 'VERB'), (('more', 'ADV'), ('more', 'ADJ'))], [('he', 'PRON'), (('arrived', 'ADV'), ('arrived', 'VERB'))], [('the', 'DET'), (('embassy', 'ADV'), ('embassy', 'NOUN'))], [('the', 'DET'), (('machine-gun-toting', 'ADV'), ('machine-gun-toting', 'ADJ'))], [('.', '.'), (('Payments', 'ADV'), ('Payments', 'NOUN'))], [('to', 'PRT'), (('range', 'NOUN'), ('range', 'VERB'))], [('E.', 'NOUN'), (('Nelms', 'ADV'), ('Nelms', 'NOUN'))], [('and', 'CONJ'), (('chief', 'NOUN'), ('chief', 'ADJ'))], [('10', 'NUM'), (('citizen-sparked', 'ADV'), ('citizen-sparked', 'ADJ'))], [('state', 'NOUN'), (('ballots', 'ADV'), ('ballots', 'NOUN'))], [('any', 'DET'), (('odd-year', 'ADV'), ('odd-year', 'ADJ'))], [('helpful', 'ADJ'), (('thunder', 'ADV'), ('thunder', 'NOUN'))], [(\"n't\", 'ADV'), (('breathe', 'ADV'), ('breathe', 'VERB'))], [('analysts', 'NOUN'), (('warn', 'ADV'), ('warn', 'VERB'))], [('0', 'X'), (('most', 'ADV'), ('most', 'ADJ'))], [('investors', 'NOUN'), (('acquires', 'ADV'), ('acquires', 'VERB'))], [('the', 'DET'), (('expectation', 'ADV'), ('expectation', 'NOUN'))], [('funds', 'NOUN'), (('generated', 'ADV'), ('generated', 'VERB'))], [('The', 'DET'), (('American', 'ADJ'), ('American', 'NOUN'))], [('American', 'NOUN'), (('Bar', 'ADV'), ('Bar', 'NOUN'))], [('of', 'ADP'), (('Delegates', 'ADV'), ('Delegates', 'NOUN'))], [('1985', 'NUM'), (('condemning', 'ADV'), ('condemning', 'VERB'))], [('IRS', 'NOUN'), (('reporting', 'VERB'), ('reporting', 'NOUN'))], [('In', 'ADP'), (('1966', 'ADV'), ('1966', 'NUM'))], [('on', 'ADP'), (('route', 'ADV'), ('route', 'NOUN'))], [('re-election', 'NOUN'), (('rout', 'ADV'), ('rout', 'NOUN'))], [('Frank', 'NOUN'), ((\"O'Connor\", 'ADV'), (\"O'Connor\", 'NOUN'))], [('GOP', 'NOUN'), (('Gov.', 'ADV'), ('Gov.', 'NOUN'))], [(',', '.'), ((\"O'Connor\", 'ADV'), (\"O'Connor\", 'NOUN'))], [(\"''\", '.'), (('Excision', 'ADV'), ('Excision', 'NOUN'))], [('appropriations', 'NOUN'), (('riders', 'ADV'), ('riders', 'NOUN'))], [('riders', 'NOUN'), (('that', 'ADP'), ('that', 'DET'))], [('*T*-1', 'X'), (('trespass', 'ADV'), ('trespass', 'VERB'))], [('and', 'CONJ'), (('prerogative', 'ADV'), ('prerogative', 'NOUN'))], [('a', 'DET'), (('double-A', 'ADV'), ('double-A', 'ADJ'))], [('double-A', 'ADJ'), (('rating', 'VERB'), ('rating', 'NOUN'))], [(',', '.'), (('cause', 'NOUN'), ('cause', 'VERB'))], [('have', 'VERB'), (('exacerbated', 'ADV'), ('exacerbated', 'VERB'))], [('possible', 'ADJ'), (('antitrust-law', 'ADV'), ('antitrust-law', 'ADJ'))], [('followed', 'VERB'), (('year-to-year', 'ADV'), ('year-to-year', 'ADJ'))], [('year-to-year', 'ADJ'), (('increases', 'VERB'), ('increases', 'NOUN'))], [('weighed', 'VERB'), (('in', 'ADP'), ('in', 'PRT'))], [('a', 'DET'), (('sticker', 'ADV'), ('sticker', 'NOUN'))], [('F.', 'NOUN'), (('Shugart', 'ADV'), ('Shugart', 'NOUN'))], [('of', 'ADP'), (('Seagate', 'ADV'), ('Seagate', 'NOUN'))], [('team', 'NOUN'), (('that', 'ADP'), ('that', 'DET'))], [('$', '.'), (('46.1', 'ADV'), ('46.1', 'NUM'))], [('$', '.'), (('1.85', 'ADV'), ('1.85', 'NUM'))], [('$', '.'), (('1.85', 'ADV'), ('1.85', 'NUM'))], [('guards', 'NOUN'), (('there', 'DET'), ('there', 'ADV'))], [('there', 'ADV'), (('retained', 'ADV'), ('retained', 'VERB'))], [('their', 'PRON'), (('pistols', 'ADV'), ('pistols', 'NOUN'))], [('of', 'ADP'), (('plainclothes', 'ADV'), ('plainclothes', 'NOUN'))], [('remained', 'VERB'), (('nearby', 'ADJ'), ('nearby', 'ADV'))], [('in', 'ADP'), (('unmarked', 'ADV'), ('unmarked', 'ADJ'))], [('a', 'DET'), (('guide', 'ADV'), ('guide', 'NOUN'))], [('The', 'DET'), (('U.S.S.R.', 'ADV'), ('U.S.S.R.', 'NOUN'))], [('$', '.'), (('20.07', 'ADV'), ('20.07', 'NUM'))], [('A', 'DET'), (('buffet', 'VERB'), ('buffet', 'NOUN'))], [('buffet', 'NOUN'), (('breakfast', 'ADV'), ('breakfast', 'NOUN'))], [('and', 'CONJ'), (('drinks', 'ADV'), ('drinks', 'NOUN'))], [('to', 'PRT'), (('everyday', 'ADV'), ('everyday', 'ADJ'))], [('U.S.', 'NOUN'), (('Generalized', 'ADV'), ('Generalized', 'NOUN'))], [('of', 'ADP'), (('Preferences', 'ADV'), ('Preferences', 'NOUN'))], [(\"'s\", 'PRT'), (('firm', 'NOUN'), ('firm', 'ADJ'))], [('steady', 'ADJ'), (('opening', 'VERB'), ('opening', 'NOUN'))], [('also', 'ADV'), (('tempted', 'ADV'), ('tempted', 'VERB'))], [('I', 'PRON'), (('visited', 'ADV'), ('visited', 'VERB'))], [('employed', 'VERB'), (('*-149', 'ADV'), ('*-149', 'X'))], [('they', 'PRON'), (('disagree', 'ADV'), ('disagree', 'VERB'))], [('the', 'DET'), (('subject', 'ADJ'), ('subject', 'NOUN'))], [('U.S.', 'NOUN'), (('direct', 'VERB'), ('direct', 'ADJ'))], [('by', 'ADP'), (('organized', 'ADJ'), ('organized', 'VERB'))], [('drug', 'NOUN'), (('trafficking', 'ADV'), ('trafficking', 'NOUN'))], [('the', 'DET'), (('Andean', 'ADV'), ('Andean', 'ADJ'))], [('out', 'PRT'), (('that', 'DET'), ('that', 'ADP'))], [('different', 'ADJ'), (('warranties', 'ADV'), ('warranties', 'NOUN'))], [('who', 'PRON'), (('*T*-100', 'ADV'), ('*T*-100', 'X'))], [('the', 'DET'), (('crib', 'ADJ'), ('crib', 'NOUN'))], [('.', '.'), (('Nylev', 'ADV'), ('Nylev', 'NOUN'))], [('Nylev', 'NOUN'), (('Municipal', 'ADJ'), ('Municipal', 'NOUN'))], [('0', 'X'), (('early', 'ADV'), ('early', 'ADJ'))], [('became', 'VERB'), (('impatient', 'ADV'), ('impatient', 'NOUN'))], [('has', 'VERB'), (('clamped', 'ADV'), ('clamped', 'VERB'))], [('their', 'PRON'), (('ankle', 'ADV'), ('ankle', 'NOUN'))], [('payouts', 'NOUN'), (('more', 'ADV'), ('more', 'ADJ'))], [('$', '.'), (('576', 'ADV'), ('576', 'NUM'))], [('already', 'ADV'), (('own', 'ADJ'), ('own', 'VERB'))], [('a', 'DET'), (('diversification', 'ADV'), ('diversification', 'NOUN'))], [('Rudolph', 'NOUN'), (('Agnew', 'ADV'), ('Agnew', 'NOUN'))], [('a', 'DET'), (('well-known', 'ADV'), ('well-known', 'ADJ'))], [('well-known', 'ADJ'), (('detective-story', 'ADV'), ('detective-story', 'NOUN'))], [(',', '.'), (('English', 'NOUN'), ('English', 'ADJ'))], [('English', 'ADJ'), (('novelist', 'ADV'), ('novelist', 'NOUN'))], [('*T*-1', 'X'), (('finds', 'ADV'), ('finds', 'VERB'))], [('its', 'PRON'), (('satisfaction', 'ADV'), ('satisfaction', 'NOUN'))], [('in', 'ADP'), (('mathematical', 'ADV'), ('mathematical', 'ADJ'))], [('mathematical', 'ADJ'), (('completeness', 'ADV'), ('completeness', 'NOUN'))], [('mechanical', 'ADJ'), (('perfection', 'ADV'), ('perfection', 'NOUN'))], [('.', '.'), (('Advancing', 'ADV'), ('Advancing', 'VERB'))], [('led', 'VERB'), (('decliners', 'ADV'), ('decliners', 'NOUN'))], [('the', 'DET'), (('vacancy', 'ADV'), ('vacancy', 'NOUN'))], [('the', 'DET'), (('inside', 'ADV'), ('inside', 'NOUN'))], [('the', 'DET'), (('outside', 'ADJ'), ('outside', 'NOUN'))], [('come', 'VERB'), (('up', 'ADV'), ('up', 'PRT'))], [('another', 'DET'), (('winner', 'ADV'), ('winner', 'NOUN'))], [('for', 'ADP'), (('bankruptcy-law', 'ADV'), ('bankruptcy-law', 'ADJ'))], [('the', 'DET'), (('dilemma', 'ADV'), ('dilemma', 'NOUN'))], [('of', 'ADP'), (('American', 'ADJ'), ('American', 'NOUN'))], [('who', 'PRON'), (('*T*-91', 'ADV'), ('*T*-91', 'X'))], [('a', 'DET'), (('grandstander', 'ADV'), ('grandstander', 'NOUN'))], [('--', '.'), (('if', 'ADP'), ('if', 'ADJ'))], [('for', 'ADP'), (('pride', 'ADV'), ('pride', 'NOUN'))], [(\"'s\", 'PRT'), (('500-Stock', 'ADV'), ('500-Stock', 'NOUN'))], [('added', 'VERB'), (('0.84', 'ADV'), ('0.84', 'NUM'))], [('to', 'PRT'), (('341.20', 'ADV'), ('341.20', 'NUM'))], [('was', 'VERB'), (('equivalent', 'NOUN'), ('equivalent', 'ADJ'))], [('the', 'DET'), (('most', 'ADJ'), ('most', 'ADV'))], [('most', 'ADV'), (('egregious', 'ADV'), ('egregious', 'ADJ'))], [('a', 'DET'), (('proviso', 'ADV'), ('proviso', 'NOUN'))], [('the', 'DET'), (('executive', 'ADJ'), ('executive', 'NOUN'))], [('office', 'NOUN'), (('that', 'ADP'), ('that', 'DET'))], [(\"'s\", 'PRT'), (('Office', 'ADV'), ('Office', 'NOUN'))], [('and', 'CONJ'), (('Budget', 'ADV'), ('Budget', 'NOUN'))], [('*-2', 'X'), (('subjecting', 'ADV'), ('subjecting', 'VERB'))], [('any', 'DET'), (('cost-benefit', 'ADV'), ('cost-benefit', 'ADJ'))], [('the', 'DET'), (('astonishment', 'ADV'), ('astonishment', 'NOUN'))], [('and', 'CONJ'), (('dismay', 'ADV'), ('dismay', 'NOUN'))], [('her', 'PRON'), (('superiors', 'ADV'), ('superiors', 'NOUN'))], [('--', '.'), (('and', 'CONJ'), ('and', 'ADJ'))], [('the', 'DET'), (('unpopularity', 'ADV'), ('unpopularity', 'NOUN'))], [('--', '.'), (('Mrs', 'ADV'), ('Mrs', 'NOUN'))], [('the', 'DET'), (('torrent', 'ADV'), ('torrent', 'NOUN'))], [('of', 'ADP'), (('replies', 'VERB'), ('replies', 'NOUN'))], [('from', 'ADP'), (('Solihull', 'ADV'), ('Solihull', 'NOUN'))], [('average', 'ADJ'), (('male', 'NOUN'), ('male', 'ADJ'))], [('desired', 'VERB'), (('*-141', 'ADV'), ('*-141', 'X'))], [('badly', 'ADV'), (('dressed', 'ADV'), ('dressed', 'VERB'))], [(',', '.'), (('decorated', 'ADV'), ('decorated', 'VERB'))], [('large', 'ADJ'), (('beer-belly', 'ADV'), ('beer-belly', 'NOUN'))], [('frequently', 'ADV'), (('unwashed', 'ADV'), ('unwashed', 'ADJ'))], [('unbearably', 'ADV'), (('flatulent', 'ADV'), ('flatulent', 'ADJ'))], [('plunged', 'VERB'), (('about', 'ADP'), ('about', 'ADV'))], [('.', '.'), (('Policies', 'ADV'), ('Policies', 'NOUN'))], [('are', 'VERB'), (('akin', 'ADV'), ('akin', 'ADJ'))], [('``', '.'), (('Buyers', 'ADV'), ('Buyers', 'NOUN'))], [('Buyers', 'NOUN'), (('welcome', 'ADV'), ('welcome', 'VERB'))], [('sellers', 'NOUN'), (('please', 'ADV'), ('please', 'VERB'))], [(\"'s\", 'PRT'), (('Eagleton', 'ADV'), ('Eagleton', 'NOUN'))], [('ad', 'NOUN'), (('that', 'ADP'), ('that', 'DET'))], [('*T*-1', 'X'), ((\"'s\", 'PRT'), (\"'s\", 'VERB'))], [('$', '.'), (('1.82', 'ADV'), ('1.82', 'NUM'))], [('$', '.'), (('84.29', 'ADV'), ('84.29', 'NUM'))], [('*-2', 'X'), (('Reached', 'ADV'), ('Reached', 'VERB'))], [('An', 'DET'), (('implication', 'ADV'), ('implication', 'NOUN'))], [('to', 'PRT'), (('return', 'NOUN'), ('return', 'VERB'))], [('*-1', 'X'), (('Standing', 'ADV'), ('Standing', 'VERB'))], [('a', 'DET'), (('shaded', 'ADV'), ('shaded', 'ADJ'))], [('shaded', 'ADJ'), (('hill', 'ADV'), ('hill', 'NOUN'))], [('has', 'VERB'), (('educated', 'ADV'), ('educated', 'VERB'))], [('and', 'CONJ'), (('brightest', 'ADV'), ('brightest', 'ADJ'))], [(',', '.'), (('Nobel', 'ADV'), ('Nobel', 'NOUN'))], [('Nobel', 'NOUN'), (('Prize', 'ADV'), ('Prize', 'NOUN'))], [('Prize', 'NOUN'), (('winning', 'VERB'), ('winning', 'ADJ'))], [('Charles', 'NOUN'), (('Townes', 'ADV'), ('Townes', 'NOUN'))], [('and', 'CONJ'), (('actress', 'ADV'), ('actress', 'NOUN'))], [('actress', 'NOUN'), (('Joanne', 'ADV'), ('Joanne', 'NOUN'))], [('Joanne', 'NOUN'), (('Woodward', 'ADV'), ('Woodward', 'NOUN'))], [('of', 'ADP'), (('Clarence', 'ADV'), ('Clarence', 'NOUN'))], [('the', 'DET'), (('American', 'ADJ'), ('American', 'NOUN'))], [('American', 'NOUN'), (('Bar', 'ADV'), ('Bar', 'NOUN'))], [('``', '.'), (('qualified', 'VERB'), ('qualified', 'ADJ'))], [('would', 'VERB'), (('like', 'ADP'), ('like', 'VERB'))], [('.', '.'), (('Shipments', 'ADV'), ('Shipments', 'NOUN'))], [('relatively', 'ADV'), (('level', 'NOUN'), ('level', 'ADJ'))], [('statistics', 'NOUN'), (('imply', 'ADV'), ('imply', 'VERB'))], [('that', 'ADP'), (('three-quarters', 'ADV'), ('three-quarters', 'NOUN'))]]\n"
     ]
    }
   ],
   "source": [
    "#Cases Incorrectly Tagged by the Vanilla Viterbi \n",
    "incorrect_tagged_cases = [[validation_run_base[i-1],j] for i, j in enumerate(zip(Viterbi_tagged_seq, validation_run_base)) if j[0]!=j[1]]\n",
    "print(\"Cases incorrectly tagged by the Vanilla Viterbi : \",len(incorrect_tagged_cases))\n",
    "print(incorrect_tagged_cases)"
   ]
  },
  {
   "attachments": {},
   "cell_type": "markdown",
   "metadata": {},
   "source": [
    "As we see, while the Vanilla Viterbi gave us very good results, but we still have a lot of words that were incorrectly tagged, as those were words it had never encountered in training set and hence, assigned them arbitrary tags.\n",
    "\n",
    "For e.g.- VERBs like 'sleeping', 'multiplying', 'rescheduled', 'attacking', 'shrinking'; ADJs like 'Palestinian','deceptive','hottest', 'egregious', 'gubernatorial'; NOUNs like 'Bolivia', 'Liberation','centers','duckling' were all incorrectly tagged."
   ]
  },
  {
   "cell_type": "markdown",
   "metadata": {},
   "source": [
    "### Solve the problem of unknown words"
   ]
  },
  {
   "cell_type": "markdown",
   "metadata": {},
   "source": [
    "### 1. Using a Modified Viterbi Algorithm - The Probabilistic approach\n",
    "\n",
    "Now, let us now modify the algorithm to have better tagging results. \n",
    "\n",
    "The first technique we will be using is to modify the Vanilla Viterbi algorithm itself, such that we do not consider the emission probablity of the word not found in the train bag of words for computing its state probability since, emission probbality is zero for such cases."
   ]
  },
  {
   "cell_type": "code",
   "execution_count": 27,
   "metadata": {},
   "outputs": [],
   "source": [
    "# Modified Viterbi Function\n",
    "\n",
    "def Modified_Viterbi(words, train_bag = train_tagged_words):\n",
    "    state = []\n",
    "    Tag_list = list(set([pair[1] for pair in train_bag]))            # Unique list of tags in the train set\n",
    "    Bag = list(set([pair[0] for pair in train_bag]))                 # Unique list of words in the train set\n",
    "    \n",
    "    for key, word in enumerate(words):\n",
    "    #initialise list of probability column for a given observation\n",
    "        p = []\n",
    "        if word in Bag:                                             # when word found in Bag        \n",
    "            for tag in Tag_list:\n",
    "                if key == 0:\n",
    "                    transition_p = tags_df.loc['.', tag]\n",
    "                else:\n",
    "                    transition_p = tags_df.loc[state[-1], tag]\n",
    "                 # compute emission and state probabilities\n",
    "                emission_p = word_given_tag(words[key], tag)[0]/word_given_tag(words[key], tag)[1]\n",
    "                state_probability = emission_p * transition_p       # calculate state probability normally\n",
    "                p.append(state_probability)\n",
    "        else:                                                       # when word is Not found in Bag\n",
    "            for tag in Tag_list:\n",
    "                if key == 0:\n",
    "                    transition_p = tags_df.loc['.', tag]\n",
    "                else:\n",
    "                    transition_p = tags_df.loc[state[-1], tag]\n",
    "                 # compute emission and state probabilities\n",
    "                state_probability =  transition_p                   # set state probability same as transition probability\n",
    "                p.append(state_probability)\n",
    "            \n",
    "            \n",
    "        pmax = max(p)\n",
    "        # getting state for which probability is maximum\n",
    "        state_max = Tag_list[p.index(pmax)] \n",
    "        state.append(state_max)\n",
    "    return list(zip(words, state))                                  # Return tagged words"
   ]
  },
  {
   "cell_type": "code",
   "execution_count": 28,
   "metadata": {},
   "outputs": [
    {
     "name": "stdout",
     "output_type": "stream",
     "text": [
      "Time taken in Seconds:  738.997147321701\n"
     ]
    }
   ],
   "source": [
    "# tagging the validation sentences with the Modified_Viterbi algorithm\n",
    "# Running on the entire validation dataset would take around 30 mins.\n",
    "start = time.time()\n",
    "Mod_Viterbi_tagged_seq = Modified_Viterbi(validation_untagged_words)\n",
    "end = time.time()\n",
    "difference = end-start\n",
    "print(\"Time taken in Seconds: \", difference)"
   ]
  },
  {
   "cell_type": "markdown",
   "metadata": {},
   "source": [
    "#### Evaluating tagging accuracy"
   ]
  },
  {
   "cell_type": "code",
   "execution_count": 29,
   "metadata": {},
   "outputs": [
    {
     "name": "stdout",
     "output_type": "stream",
     "text": [
      "Accuracy of the Modified Viterbi Algorithm:  94.75\n"
     ]
    }
   ],
   "source": [
    "# Accuracy of the Modified Viterbi against the original tags of the validation set\n",
    "print(\"Accuracy of the Modified Viterbi Algorithm: \", check_accuracy(Mod_Viterbi_tagged_seq,validation_run_base))"
   ]
  },
  {
   "cell_type": "code",
   "execution_count": 30,
   "metadata": {},
   "outputs": [
    {
     "name": "stdout",
     "output_type": "stream",
     "text": [
      "Cases incorrectly tagged by the Modified Viterbi :  245\n"
     ]
    }
   ],
   "source": [
    "#Cases Incorrectly Tagged by the Modified Viterbi\n",
    "MV_incorrect_tagged_cases = [[validation_run_base[i-1],j] for i, j in enumerate(zip(Mod_Viterbi_tagged_seq, validation_run_base)) if j[0]!=j[1]]\n",
    "print(\"Cases incorrectly tagged by the Modified Viterbi : \", len(MV_incorrect_tagged_cases))"
   ]
  },
  {
   "cell_type": "markdown",
   "metadata": {},
   "source": [
    "### 2. Using a Unigram and Rule-Based (Regular Expression) Tagger with the Viterbi\n",
    "\n",
    "The second technique we will be using to solve the problem of unknown words is the  **Unigram tagger with a Rule-Based - Regular Expression Tagger** on the Viterbi algorithm we already created."
   ]
  },
  {
   "cell_type": "code",
   "execution_count": 31,
   "metadata": {},
   "outputs": [],
   "source": [
    "# Unigram + Regex Function to tag the unknown words(words that were not present in the train set)\n",
    "\n",
    "def regex_uni_tag(v_set_to_tag, V_tagged_seq, train_bag = train_set): # getting untagged word list, Viterbi tagged list\n",
    "    \n",
    "    Bag = list(set([pair[0] for pair in train_bag]))              # Bag of Words from Train set\n",
    "    \n",
    "    # specify patterns for tagging to be used by the Regex Tagger\n",
    "    patterns = [\n",
    "    (r'^(The|the|A|a|An|an)$', 'DET'),                                                   # determiners\n",
    "    (r'^(This|this|That|that|These|these|Those|those)$', 'DET'),                         # determiners\n",
    "    (r'(.+ful|.+less|.+ious|.+ial|.+tive|.+able|.+est|.+ic|.+lent)$', 'ADJ'),            # adjectives\n",
    "    (r'(.+tion|.+tions|.+ment|.+ness|.+or|.+ery|.+ity)$', 'NOUN'),                       # nouns\n",
    "    (r'^un.+','ADJ'),                                                                    # adjectives\n",
    "    (r'(.+ing|.+ed)$', 'VERB'),                                                          # verbs\n",
    "    (r'.+ly$', 'ADV'),                                                                   # adverbs\n",
    "    (r'^-?[0-9]+(.[0-9]+)?$', 'NUM'),                                                    # numbers\n",
    "    (r'^[0-9]+.*[0-9]+.?$','NUM'),                                                       # numbers\n",
    "    (r'(\\*|\\-)', 'X'),                                                                   # Other \n",
    "    (r'(\\.|\\,|\\?|\\;|\\:)','.'),                                                           # punctuations\n",
    "    (r'.*', 'NOUN')                                                                      # tag all others as nouns\n",
    "    ]\n",
    "\n",
    "    # Creating a RegexTagger\n",
    "    regexp_tagger = nltk.RegexpTagger(patterns)\n",
    "    \n",
    "    # Creating a Unigram_Tagger with RegexTagger as backoff\n",
    "    uni_regex_tagger = nltk.UnigramTagger(train_bag, backoff = regexp_tagger)\n",
    "    \n",
    "    # Tagging the untagged validation words with the Unigram + Regex Tagger\n",
    "    regexuni_list = uni_regex_tagger.tag(v_set_to_tag)\n",
    "    \n",
    "    # Updating Tags as assigned by the Unigram+Regex Tagger, only for the unknown words (not present in train set bag) \n",
    "    new_tagged_seq = []\n",
    "    for V_pair, R_pair in zip(V_tagged_seq,regexuni_list) :  \n",
    "        if V_pair not in Bag:                                 # if the pair in the Viterbi seq is not in Train Bag\n",
    "            new_tagged_seq.append(R_pair)                     # assign the tag assigned by the Uni+Regex tagger\n",
    "        else:\n",
    "            new_tagged_seq.append(V_pair)                     # else let it have the already tag assigned by Viterbi\n",
    "    \n",
    "    return new_tagged_seq"
   ]
  },
  {
   "cell_type": "code",
   "execution_count": 32,
   "metadata": {},
   "outputs": [],
   "source": [
    "# Calling the Unigram+Regex Tagger with the untagged words list and the Viterbi tagged list as inputs\n",
    "tagged_by_regexuniVi = regex_uni_tag(validation_untagged_words, Viterbi_tagged_seq)"
   ]
  },
  {
   "cell_type": "markdown",
   "metadata": {},
   "source": [
    "#### Evaluating tagging accuracy"
   ]
  },
  {
   "cell_type": "code",
   "execution_count": 33,
   "metadata": {},
   "outputs": [
    {
     "name": "stdout",
     "output_type": "stream",
     "text": [
      "Accuracy of the Viterbi Algorithm with Unigram + Regex tagger:  95.84\n"
     ]
    }
   ],
   "source": [
    "# Accuracy of the Viterbi with Unigram and Regex tagger\n",
    "print(\"Accuracy of the Viterbi Algorithm with Unigram + Regex tagger: \", check_accuracy(tagged_by_regexuniVi,validation_run_base))"
   ]
  },
  {
   "cell_type": "code",
   "execution_count": 34,
   "metadata": {},
   "outputs": [
    {
     "name": "stdout",
     "output_type": "stream",
     "text": [
      "Cases incorrectly tagged by the Viterbi with Unigram and Regex tagger :  194\n"
     ]
    }
   ],
   "source": [
    "#Cases Incorrectly Tagged by the Viterbi with Unigram and Regex tagger\n",
    "regexuni_incorrect_tagged_cases = [[validation_run_base[i-1],j] for i, j in enumerate(zip(tagged_by_regexuniVi, validation_run_base)) if j[0]!=j[1]]\n",
    "print(\"Cases incorrectly tagged by the Viterbi with Unigram and Regex tagger : \",len(regexuni_incorrect_tagged_cases))"
   ]
  },
  {
   "cell_type": "markdown",
   "metadata": {},
   "source": [
    "### Compare the tagging accuracies of the modifications with the vanilla Viterbi algorithm"
   ]
  },
  {
   "cell_type": "markdown",
   "metadata": {},
   "source": [
    "#### Accuracy Comparison on the Validation Set"
   ]
  },
  {
   "cell_type": "code",
   "execution_count": 35,
   "metadata": {},
   "outputs": [
    {
     "name": "stdout",
     "output_type": "stream",
     "text": [
      "Accuracy of the Vanilla Viterbi Algorithm:  91.34\n",
      "Cases Misidentified :  404\n",
      "--------------------------------------------------------------------------------\n",
      "Accuracy of the Modified Viterbi Algorithm:  94.75\n",
      "Cases Misidentified :  245\n",
      "Accuracy of the Viterbi Algorithm with Unigram + Regex tagger:  95.84\n",
      "Cases Misidentified :  194\n"
     ]
    }
   ],
   "source": [
    "print(\"Accuracy of the Vanilla Viterbi Algorithm: \", check_accuracy(Viterbi_tagged_seq,validation_run_base ))\n",
    "print(\"Cases Misidentified : \", len(incorrect_tagged_cases))\n",
    "print(\"-\"*80)\n",
    "print(\"Accuracy of the Modified Viterbi Algorithm: \", check_accuracy(Mod_Viterbi_tagged_seq,validation_run_base))\n",
    "print(\"Cases Misidentified : \", len(MV_incorrect_tagged_cases))\n",
    "\n",
    "print(\"Accuracy of the Viterbi Algorithm with Unigram + Regex tagger: \", check_accuracy(tagged_by_regexuniVi,validation_run_base))\n",
    "print(\"Cases Misidentified : \", len(regexuni_incorrect_tagged_cases))"
   ]
  },
  {
   "cell_type": "markdown",
   "metadata": {},
   "source": [
    "Comparing the tagging accuracies of the modified techniques with the Vanilla Viterbi, we see \n",
    "- there is a substantial increase in the tagging accuracy on the validation set with the modified techniques, reducing the incorrectly tagged unknown cases by almost half.\n",
    "- the accuracy of the Viterbi with Unigram + Regex is the best among these, mostly because of the rules implemented by the Regex tagger when Unigram tagger did not find a suitable tag for the unknown cases. "
   ]
  },
  {
   "cell_type": "markdown",
   "metadata": {},
   "source": [
    "### List down cases which were incorrectly tagged by original POS tagger and got corrected by your modifications"
   ]
  },
  {
   "cell_type": "markdown",
   "metadata": {},
   "source": [
    "#### Validation Set Cases"
   ]
  },
  {
   "cell_type": "markdown",
   "metadata": {},
   "source": [
    "We already saw that words, For e.g.- VERBs like 'sleeping', 'multiplying', 'rescheduled', 'attacking', 'shrinking'; ADJs like 'Palestinian','deceptive', 'hottest','egregious', 'gubernatorial' ; NOUNs like 'Bolivia', 'Liberation', 'centers','duckling' were all incorrectly tagged by the original Viterbi Algorithm. \n",
    "\n",
    "Let us see how the Modified Viterbi and the Viterbi with Unigram+Regex performed on these words."
   ]
  },
  {
   "cell_type": "code",
   "execution_count": 36,
   "metadata": {},
   "outputs": [],
   "source": [
    "incorrect_list = ['sleeping', 'multiplying', 'rescheduled', 'attacking', 'shrinking',      # Verbs\n",
    "                  'Palestinian','deceptive','hottest', 'egregious', 'gubernatorial',       # Adjectives\n",
    "                  'Bolivia', 'Liberation','centers', 'duckling' ]                          # Nouns"
   ]
  },
  {
   "cell_type": "code",
   "execution_count": 37,
   "metadata": {},
   "outputs": [
    {
     "name": "stdout",
     "output_type": "stream",
     "text": [
      "('hottest', 'NOUN')\n",
      "('duckling', 'NOUN')\n",
      "('multiplying', 'VERB')\n",
      "('centers', 'VERB')\n",
      "('attacking', 'VERB')\n",
      "('deceptive', 'NOUN')\n",
      "('Palestinian', 'NOUN')\n",
      "('Palestinian', 'NOUN')\n",
      "('Liberation', 'NOUN')\n",
      "('Bolivia', 'X')\n",
      "('gubernatorial', 'VERB')\n",
      "('rescheduled', 'X')\n",
      "('shrinking', 'DET')\n",
      "('sleeping', 'NOUN')\n",
      "('egregious', 'NOUN')\n"
     ]
    }
   ],
   "source": [
    "for word in Mod_Viterbi_tagged_seq:\n",
    "    if word[0] in incorrect_list:\n",
    "        print(word)"
   ]
  },
  {
   "cell_type": "markdown",
   "metadata": {},
   "source": [
    "So we see the Modified Viterbi was able to correct tags for VERBs 'multiplying', 'attacking' , NOUN 'duckling' , but still others were not corrected."
   ]
  },
  {
   "cell_type": "code",
   "execution_count": 38,
   "metadata": {},
   "outputs": [
    {
     "name": "stdout",
     "output_type": "stream",
     "text": [
      "('hottest', 'ADJ')\n",
      "('duckling', 'VERB')\n",
      "('multiplying', 'VERB')\n",
      "('centers', 'VERB')\n",
      "('attacking', 'VERB')\n",
      "('deceptive', 'ADJ')\n",
      "('Palestinian', 'NOUN')\n",
      "('Palestinian', 'NOUN')\n",
      "('Liberation', 'NOUN')\n",
      "('Bolivia', 'NOUN')\n",
      "('gubernatorial', 'ADJ')\n",
      "('rescheduled', 'VERB')\n",
      "('shrinking', 'VERB')\n",
      "('sleeping', 'VERB')\n",
      "('egregious', 'ADJ')\n"
     ]
    }
   ],
   "source": [
    "for word in tagged_by_regexuniVi:\n",
    "    if word[0] in incorrect_list:\n",
    "        print(word)"
   ]
  },
  {
   "cell_type": "markdown",
   "metadata": {},
   "source": [
    "We see the Viterbi with Unigram+Regex was able to correct tags for most of these words we have chosen. Note, how NOUN 'duckling' was assigned incorrect tag because of a verb rule. But still the performance of this tagger is noteworthy. So, Let us see the performance of these techniques on test data."
   ]
  },
  {
   "cell_type": "markdown",
   "metadata": {},
   "source": [
    "### Performance on the Test set"
   ]
  },
  {
   "cell_type": "code",
   "execution_count": 39,
   "metadata": {},
   "outputs": [
    {
     "data": {
      "text/plain": [
       "[['Android is a mobile operating system developed by Google.'],\n",
       " ['Android has been the best-selling OS worldwide on smartphones since 2011 and on tablets since 2013.'],\n",
       " [\"Google and Twitter made a deal in 2015 that gave Google access to Twitter's firehose.\"],\n",
       " ['Twitter is an online news and social networking service on which users post and interact with messages known as tweets.'],\n",
       " ['Before entering politics, Donald Trump was a domineering businessman and a television personality.'],\n",
       " ['The 2018 FIFA World Cup is the 21st FIFA World Cup, an international football tournament contested once every four years.'],\n",
       " ['This is the first World Cup to be held in Eastern Europe and the 11th time that it has been held in Europe.'],\n",
       " ['Show me the cheapest round trips from Dallas to Atlanta'],\n",
       " ['I would like to see flights from Denver to Philadelphia.'],\n",
       " ['Show me the price of the flights leaving Atlanta at about 3 in the afternoon and arriving in San Francisco.'],\n",
       " ['NASA invited social media users to experience the launch of ICESAT-2 Satellite.']]"
      ]
     },
     "execution_count": 39,
     "metadata": {},
     "output_type": "execute_result"
    }
   ],
   "source": [
    "# Preparation on the test set\n",
    "test_set = pd.read_csv(\"Test_sentences.txt\", sep=\"\\n\", names=[\"Sentence\"])\n",
    "test_set = test_set.values.tolist()\n",
    "test_set"
   ]
  },
  {
   "cell_type": "code",
   "execution_count": 40,
   "metadata": {},
   "outputs": [
    {
     "data": {
      "text/plain": [
       "['Android',\n",
       " 'is',\n",
       " 'a',\n",
       " 'mobile',\n",
       " 'operating',\n",
       " 'system',\n",
       " 'developed',\n",
       " 'by',\n",
       " 'Google.',\n",
       " 'Android']"
      ]
     },
     "execution_count": 40,
     "metadata": {},
     "output_type": "execute_result"
    }
   ],
   "source": [
    "random.seed(1234)\n",
    "# list of words in the test_set\n",
    "test_run_base = [tup for sent in test_set for tup in sent]\n",
    "\n",
    "# list of untagged words in the test set\n",
    "test_words = [word for sent in test_run_base for word in sent.split()]\n",
    "test_words[:10]"
   ]
  },
  {
   "cell_type": "markdown",
   "metadata": {},
   "source": [
    "We see that in all these test sentences, the punctuations are clubbed together with the preceding words, for eg. 'Google.', 'politics,' 'Cup,' etc.\n",
    "Let us split these up to have a cleaner test set."
   ]
  },
  {
   "cell_type": "code",
   "execution_count": 41,
   "metadata": {},
   "outputs": [
    {
     "name": "stdout",
     "output_type": "stream",
     "text": [
      "Splitting Google .\n",
      "Splitting 2013 .\n",
      "Splitting firehose .\n",
      "Splitting tweets .\n",
      "Splitting politics ,\n",
      "Splitting personality .\n",
      "Splitting Cup ,\n",
      "Splitting years .\n",
      "Splitting Europe .\n",
      "Splitting Philadelphia .\n",
      "Splitting Francisco .\n",
      "Splitting Satellite .\n"
     ]
    }
   ],
   "source": [
    "# Splitting the punctuations ',.;' etc. from the preceding words\n",
    "test_untagged_words = []\n",
    "for word in test_words:\n",
    "    if word[-1] in [\".\",\",\",\";\",\":\"]:\n",
    "        print(\"Splitting\", word[:-1], word[-1])\n",
    "        test_untagged_words.append(word[:-1])\n",
    "        test_untagged_words.append(word[-1])\n",
    "    else:\n",
    "        test_untagged_words.append(word)        "
   ]
  },
  {
   "cell_type": "markdown",
   "metadata": {},
   "source": [
    "#### Performance of the Vanilla Viterbi on the Test Set"
   ]
  },
  {
   "cell_type": "code",
   "execution_count": 42,
   "metadata": {},
   "outputs": [
    {
     "name": "stdout",
     "output_type": "stream",
     "text": [
      "Time taken in seconds:  30.878447771072388\n",
      "[('Android', 'ADV'), ('is', 'VERB'), ('a', 'DET'), ('mobile', 'ADJ'), ('operating', 'NOUN'), ('system', 'NOUN'), ('developed', 'VERB'), ('by', 'ADP'), ('Google', 'ADV'), ('.', '.'), ('Android', 'ADV'), ('has', 'VERB'), ('been', 'VERB'), ('the', 'DET'), ('best-selling', 'ADJ'), ('OS', 'ADV'), ('worldwide', 'ADV'), ('on', 'ADP'), ('smartphones', 'ADV'), ('since', 'ADP'), ('2011', 'ADV'), ('and', 'CONJ'), ('on', 'ADP'), ('tablets', 'NOUN'), ('since', 'ADP'), ('2013', 'ADV'), ('.', '.'), ('Google', 'ADV'), ('and', 'CONJ'), ('Twitter', 'ADV'), ('made', 'VERB'), ('a', 'DET'), ('deal', 'NOUN'), ('in', 'ADP'), ('2015', 'ADV'), ('that', 'ADP'), ('gave', 'VERB'), ('Google', 'ADV'), ('access', 'NOUN'), ('to', 'PRT'), (\"Twitter's\", 'ADV'), ('firehose', 'ADV'), ('.', '.'), ('Twitter', 'ADV'), ('is', 'VERB'), ('an', 'DET'), ('online', 'ADV'), ('news', 'NOUN'), ('and', 'CONJ'), ('social', 'ADJ'), ('networking', 'NOUN'), ('service', 'NOUN'), ('on', 'ADP'), ('which', 'DET'), ('users', 'NOUN'), ('post', 'NOUN'), ('and', 'CONJ'), ('interact', 'ADV'), ('with', 'ADP'), ('messages', 'ADV'), ('known', 'VERB'), ('as', 'ADP'), ('tweets', 'ADV'), ('.', '.'), ('Before', 'ADP'), ('entering', 'VERB'), ('politics', 'NOUN'), (',', '.'), ('Donald', 'NOUN'), ('Trump', 'NOUN'), ('was', 'VERB'), ('a', 'DET'), ('domineering', 'ADV'), ('businessman', 'NOUN'), ('and', 'CONJ'), ('a', 'DET'), ('television', 'NOUN'), ('personality', 'ADV'), ('.', '.'), ('The', 'DET'), ('2018', 'ADV'), ('FIFA', 'ADV'), ('World', 'NOUN'), ('Cup', 'ADV'), ('is', 'VERB'), ('the', 'DET'), ('21st', 'ADV'), ('FIFA', 'ADV'), ('World', 'NOUN'), ('Cup', 'ADV'), (',', '.'), ('an', 'DET'), ('international', 'ADJ'), ('football', 'NOUN'), ('tournament', 'ADV'), ('contested', 'ADV'), ('once', 'ADV'), ('every', 'DET'), ('four', 'NUM'), ('years', 'NOUN'), ('.', '.'), ('This', 'DET'), ('is', 'VERB'), ('the', 'DET'), ('first', 'ADJ'), ('World', 'NOUN'), ('Cup', 'ADV'), ('to', 'PRT'), ('be', 'VERB'), ('held', 'VERB'), ('in', 'ADP'), ('Eastern', 'NOUN'), ('Europe', 'NOUN'), ('and', 'CONJ'), ('the', 'DET'), ('11th', 'ADJ'), ('time', 'NOUN'), ('that', 'ADP'), ('it', 'PRON'), ('has', 'VERB'), ('been', 'VERB'), ('held', 'VERB'), ('in', 'ADP'), ('Europe', 'NOUN'), ('.', '.'), ('Show', 'NOUN'), ('me', 'PRON'), ('the', 'DET'), ('cheapest', 'ADJ'), ('round', 'NOUN'), ('trips', 'ADV'), ('from', 'ADP'), ('Dallas', 'NOUN'), ('to', 'PRT'), ('Atlanta', 'NOUN'), ('I', 'PRON'), ('would', 'VERB'), ('like', 'ADP'), ('to', 'PRT'), ('see', 'VERB'), ('flights', 'NOUN'), ('from', 'ADP'), ('Denver', 'NOUN'), ('to', 'PRT'), ('Philadelphia', 'NOUN'), ('.', '.'), ('Show', 'NOUN'), ('me', 'PRON'), ('the', 'DET'), ('price', 'NOUN'), ('of', 'ADP'), ('the', 'DET'), ('flights', 'NOUN'), ('leaving', 'VERB'), ('Atlanta', 'NOUN'), ('at', 'ADP'), ('about', 'ADP'), ('3', 'NUM'), ('in', 'ADP'), ('the', 'DET'), ('afternoon', 'NOUN'), ('and', 'CONJ'), ('arriving', 'ADV'), ('in', 'ADP'), ('San', 'NOUN'), ('Francisco', 'NOUN'), ('.', '.'), ('NASA', 'ADV'), ('invited', 'ADV'), ('social', 'ADJ'), ('media', 'NOUN'), ('users', 'NOUN'), ('to', 'PRT'), ('experience', 'NOUN'), ('the', 'DET'), ('launch', 'NOUN'), ('of', 'ADP'), ('ICESAT-2', 'ADV'), ('Satellite', 'ADV'), ('.', '.')]\n"
     ]
    }
   ],
   "source": [
    "# tagging the test sentences with the Vanilla Viterbi with untagged test words as input\n",
    "start = time.time()\n",
    "Viterbi_tagged = Viterbi(test_untagged_words)\n",
    "end = time.time()\n",
    "difference = end-start\n",
    "print(\"Time taken in seconds: \", difference)\n",
    "print(Viterbi_tagged)"
   ]
  },
  {
   "cell_type": "markdown",
   "metadata": {},
   "source": [
    "We see when we tag the Test set using the Vanilla Viterbi, we have a lot of misidentified unknown words. \n",
    "For e.g.\n",
    "- 'Android'\n",
    "- 'Google'\n",
    "- 'Twitter'\n",
    "- 'smartphones'\n",
    "- 'contested'\n",
    "- 'tweets'\n",
    "- 'NASA'\n",
    "- 'trips'\n",
    "- 'Satellite'\n",
    "- '2011', '2013'\n",
    "- 'arriving'\n",
    "- 'invited'"
   ]
  },
  {
   "cell_type": "markdown",
   "metadata": {},
   "source": [
    "#### Performance of the Modified Viterbi on the Test Set"
   ]
  },
  {
   "cell_type": "code",
   "execution_count": 43,
   "metadata": {},
   "outputs": [
    {
     "name": "stdout",
     "output_type": "stream",
     "text": [
      "Time taken in seconds:  23.658952474594116\n",
      "[('Android', 'NOUN'), ('is', 'VERB'), ('a', 'DET'), ('mobile', 'ADJ'), ('operating', 'NOUN'), ('system', 'NOUN'), ('developed', 'VERB'), ('by', 'ADP'), ('Google', 'DET'), ('.', '.'), ('Android', 'NOUN'), ('has', 'VERB'), ('been', 'VERB'), ('the', 'DET'), ('best-selling', 'ADJ'), ('OS', 'NOUN'), ('worldwide', 'NOUN'), ('on', 'ADP'), ('smartphones', 'DET'), ('since', 'ADP'), ('2011', 'DET'), ('and', 'CONJ'), ('on', 'ADP'), ('tablets', 'NOUN'), ('since', 'ADP'), ('2013', 'DET'), ('.', '.'), ('Google', 'NOUN'), ('and', 'CONJ'), ('Twitter', 'NOUN'), ('made', 'VERB'), ('a', 'DET'), ('deal', 'NOUN'), ('in', 'ADP'), ('2015', 'DET'), ('that', 'ADP'), ('gave', 'VERB'), ('Google', 'X'), ('access', 'NOUN'), ('to', 'PRT'), (\"Twitter's\", 'VERB'), ('firehose', 'X'), ('.', '.'), ('Twitter', 'NOUN'), ('is', 'VERB'), ('an', 'DET'), ('online', 'NOUN'), ('news', 'NOUN'), ('and', 'CONJ'), ('social', 'ADJ'), ('networking', 'NOUN'), ('service', 'NOUN'), ('on', 'ADP'), ('which', 'DET'), ('users', 'NOUN'), ('post', 'NOUN'), ('and', 'CONJ'), ('interact', 'NOUN'), ('with', 'ADP'), ('messages', 'DET'), ('known', 'VERB'), ('as', 'ADP'), ('tweets', 'DET'), ('.', '.'), ('Before', 'ADP'), ('entering', 'VERB'), ('politics', 'NOUN'), (',', '.'), ('Donald', 'NOUN'), ('Trump', 'NOUN'), ('was', 'VERB'), ('a', 'DET'), ('domineering', 'NOUN'), ('businessman', 'NOUN'), ('and', 'CONJ'), ('a', 'DET'), ('television', 'NOUN'), ('personality', 'NOUN'), ('.', '.'), ('The', 'DET'), ('2018', 'NOUN'), ('FIFA', 'NOUN'), ('World', 'NOUN'), ('Cup', 'NOUN'), ('is', 'VERB'), ('the', 'DET'), ('21st', 'NOUN'), ('FIFA', 'NOUN'), ('World', 'NOUN'), ('Cup', 'NOUN'), (',', '.'), ('an', 'DET'), ('international', 'ADJ'), ('football', 'NOUN'), ('tournament', 'NOUN'), ('contested', 'NOUN'), ('once', 'ADV'), ('every', 'DET'), ('four', 'NUM'), ('years', 'NOUN'), ('.', '.'), ('This', 'DET'), ('is', 'VERB'), ('the', 'DET'), ('first', 'ADJ'), ('World', 'NOUN'), ('Cup', 'NOUN'), ('to', 'PRT'), ('be', 'VERB'), ('held', 'VERB'), ('in', 'ADP'), ('Eastern', 'NOUN'), ('Europe', 'NOUN'), ('and', 'CONJ'), ('the', 'DET'), ('11th', 'ADJ'), ('time', 'NOUN'), ('that', 'ADP'), ('it', 'PRON'), ('has', 'VERB'), ('been', 'VERB'), ('held', 'VERB'), ('in', 'ADP'), ('Europe', 'NOUN'), ('.', '.'), ('Show', 'NOUN'), ('me', 'PRON'), ('the', 'DET'), ('cheapest', 'ADJ'), ('round', 'NOUN'), ('trips', 'NOUN'), ('from', 'ADP'), ('Dallas', 'NOUN'), ('to', 'PRT'), ('Atlanta', 'NOUN'), ('I', 'PRON'), ('would', 'VERB'), ('like', 'ADP'), ('to', 'PRT'), ('see', 'VERB'), ('flights', 'NOUN'), ('from', 'ADP'), ('Denver', 'NOUN'), ('to', 'PRT'), ('Philadelphia', 'NOUN'), ('.', '.'), ('Show', 'NOUN'), ('me', 'PRON'), ('the', 'DET'), ('price', 'NOUN'), ('of', 'ADP'), ('the', 'DET'), ('flights', 'NOUN'), ('leaving', 'VERB'), ('Atlanta', 'NOUN'), ('at', 'ADP'), ('about', 'ADP'), ('3', 'NUM'), ('in', 'ADP'), ('the', 'DET'), ('afternoon', 'NOUN'), ('and', 'CONJ'), ('arriving', 'NOUN'), ('in', 'ADP'), ('San', 'NOUN'), ('Francisco', 'NOUN'), ('.', '.'), ('NASA', 'NOUN'), ('invited', 'NOUN'), ('social', 'ADJ'), ('media', 'NOUN'), ('users', 'NOUN'), ('to', 'PRT'), ('experience', 'NOUN'), ('the', 'DET'), ('launch', 'NOUN'), ('of', 'ADP'), ('ICESAT-2', 'DET'), ('Satellite', 'NOUN'), ('.', '.')]\n"
     ]
    }
   ],
   "source": [
    "# tagging the test sentences with the Modified Viterbi with untagged test words as input\n",
    "start = time.time()\n",
    "MV_tagged = Modified_Viterbi(test_untagged_words)\n",
    "end = time.time()\n",
    "difference = end-start\n",
    "print(\"Time taken in seconds: \", difference)\n",
    "print(MV_tagged)"
   ]
  },
  {
   "cell_type": "markdown",
   "metadata": {},
   "source": [
    "We can see that the Modified Viterbi was able to correct few tags such as\n",
    "- ('Android', 'NOUN')\n",
    "- ('Twitter', 'NOUN')\n",
    "- ('NASA', 'NOUN')\n",
    "- ('Satellite', 'NOUN')\n",
    "- ('trips', 'NOUN')\n",
    "\n",
    "But there are still misidentified unknown words such as below-\n",
    "- 'Google'\n",
    "- 'smartphones'\n",
    "- 'contested'\n",
    "- 'tweets'\n",
    "- '2011', '2013'\n",
    "- 'arriving'\n",
    "- 'invited'"
   ]
  },
  {
   "cell_type": "markdown",
   "metadata": {},
   "source": [
    "#### Performance of the Viterbi with Unigram + Regex Tagger on the Test Set"
   ]
  },
  {
   "cell_type": "code",
   "execution_count": 44,
   "metadata": {},
   "outputs": [
    {
     "name": "stdout",
     "output_type": "stream",
     "text": [
      "Time taken in seconds:  1.7171790599822998\n",
      "[('Android', 'NOUN'), ('is', 'VERB'), ('a', 'DET'), ('mobile', 'ADJ'), ('operating', 'NOUN'), ('system', 'NOUN'), ('developed', 'VERB'), ('by', 'ADP'), ('Google', 'NOUN'), ('.', '.'), ('Android', 'NOUN'), ('has', 'VERB'), ('been', 'VERB'), ('the', 'DET'), ('best-selling', 'ADJ'), ('OS', 'NOUN'), ('worldwide', 'NOUN'), ('on', 'ADP'), ('smartphones', 'NOUN'), ('since', 'ADP'), ('2011', 'NUM'), ('and', 'CONJ'), ('on', 'ADP'), ('tablets', 'NOUN'), ('since', 'ADP'), ('2013', 'NUM'), ('.', '.'), ('Google', 'NOUN'), ('and', 'CONJ'), ('Twitter', 'NOUN'), ('made', 'VERB'), ('a', 'DET'), ('deal', 'NOUN'), ('in', 'ADP'), ('2015', 'NUM'), ('that', 'ADP'), ('gave', 'VERB'), ('Google', 'NOUN'), ('access', 'NOUN'), ('to', 'PRT'), (\"Twitter's\", 'NOUN'), ('firehose', 'NOUN'), ('.', '.'), ('Twitter', 'NOUN'), ('is', 'VERB'), ('an', 'DET'), ('online', 'NOUN'), ('news', 'NOUN'), ('and', 'CONJ'), ('social', 'ADJ'), ('networking', 'NOUN'), ('service', 'NOUN'), ('on', 'ADP'), ('which', 'DET'), ('users', 'NOUN'), ('post', 'NOUN'), ('and', 'CONJ'), ('interact', 'NOUN'), ('with', 'ADP'), ('messages', 'NOUN'), ('known', 'VERB'), ('as', 'ADP'), ('tweets', 'NOUN'), ('.', '.'), ('Before', 'ADP'), ('entering', 'VERB'), ('politics', 'NOUN'), (',', '.'), ('Donald', 'NOUN'), ('Trump', 'NOUN'), ('was', 'VERB'), ('a', 'DET'), ('domineering', 'VERB'), ('businessman', 'NOUN'), ('and', 'CONJ'), ('a', 'DET'), ('television', 'NOUN'), ('personality', 'NOUN'), ('.', '.'), ('The', 'DET'), ('2018', 'NUM'), ('FIFA', 'NOUN'), ('World', 'NOUN'), ('Cup', 'NOUN'), ('is', 'VERB'), ('the', 'DET'), ('21st', 'NOUN'), ('FIFA', 'NOUN'), ('World', 'NOUN'), ('Cup', 'NOUN'), (',', '.'), ('an', 'DET'), ('international', 'ADJ'), ('football', 'NOUN'), ('tournament', 'NOUN'), ('contested', 'VERB'), ('once', 'ADV'), ('every', 'DET'), ('four', 'NUM'), ('years', 'NOUN'), ('.', '.'), ('This', 'DET'), ('is', 'VERB'), ('the', 'DET'), ('first', 'ADJ'), ('World', 'NOUN'), ('Cup', 'NOUN'), ('to', 'PRT'), ('be', 'VERB'), ('held', 'VERB'), ('in', 'ADP'), ('Eastern', 'NOUN'), ('Europe', 'NOUN'), ('and', 'CONJ'), ('the', 'DET'), ('11th', 'ADJ'), ('time', 'NOUN'), ('that', 'ADP'), ('it', 'PRON'), ('has', 'VERB'), ('been', 'VERB'), ('held', 'VERB'), ('in', 'ADP'), ('Europe', 'NOUN'), ('.', '.'), ('Show', 'NOUN'), ('me', 'PRON'), ('the', 'DET'), ('cheapest', 'ADJ'), ('round', 'NOUN'), ('trips', 'NOUN'), ('from', 'ADP'), ('Dallas', 'NOUN'), ('to', 'PRT'), ('Atlanta', 'NOUN'), ('I', 'PRON'), ('would', 'VERB'), ('like', 'ADP'), ('to', 'PRT'), ('see', 'VERB'), ('flights', 'NOUN'), ('from', 'ADP'), ('Denver', 'NOUN'), ('to', 'PRT'), ('Philadelphia', 'NOUN'), ('.', '.'), ('Show', 'NOUN'), ('me', 'PRON'), ('the', 'DET'), ('price', 'NOUN'), ('of', 'ADP'), ('the', 'DET'), ('flights', 'NOUN'), ('leaving', 'VERB'), ('Atlanta', 'NOUN'), ('at', 'ADP'), ('about', 'ADP'), ('3', 'NUM'), ('in', 'ADP'), ('the', 'DET'), ('afternoon', 'NOUN'), ('and', 'CONJ'), ('arriving', 'VERB'), ('in', 'ADP'), ('San', 'NOUN'), ('Francisco', 'NOUN'), ('.', '.'), ('NASA', 'NOUN'), ('invited', 'VERB'), ('social', 'ADJ'), ('media', 'NOUN'), ('users', 'NOUN'), ('to', 'PRT'), ('experience', 'NOUN'), ('the', 'DET'), ('launch', 'NOUN'), ('of', 'ADP'), ('ICESAT-2', 'NOUN'), ('Satellite', 'NOUN'), ('.', '.')]\n"
     ]
    }
   ],
   "source": [
    "# tagging the test sentences with the Viterbi with Unigram and Regex \n",
    "# with untagged test words and the Viterbi tagged test set as input\n",
    "start = time.time()\n",
    "RegexuniVi_tagged = regex_uni_tag(test_untagged_words, Viterbi_tagged)\n",
    "end = time.time()\n",
    "difference = end-start\n",
    "print(\"Time taken in seconds: \", difference)\n",
    "print(RegexuniVi_tagged)"
   ]
  },
  {
   "cell_type": "markdown",
   "metadata": {},
   "source": [
    "Using the Viterbi with Unigram and Regex, we have more correctly classified cases as below-\n",
    "- ('Android', 'NOUN')\n",
    "- ('Google', 'NOUN')\n",
    "- ('Twitter', 'NOUN')\n",
    "- ('smartphones', 'NOUN')\n",
    "- ('contested', 'VERB')\n",
    "- ('tweets', 'NOUN')\n",
    "- ('NASA', 'NOUN')\n",
    "- ('trips', 'NOUN')\n",
    "- ('Satellite', 'NOUN')\n",
    "- ('2011', 'NUM')\n",
    "- ('2013', 'NUM')\n",
    "- ('arriving', 'VERB')\n",
    "- ('invited', 'VERB')"
   ]
  },
  {
   "cell_type": "markdown",
   "metadata": {},
   "source": [
    "#### Comparing Accuracies of the techniques on the Test set"
   ]
  },
  {
   "cell_type": "code",
   "execution_count": 45,
   "metadata": {},
   "outputs": [],
   "source": [
    "# Tagging test set with nltk POS Tagger of Universal tagset against which we will compare the accuracies\n",
    "test_tagged_words = nltk.pos_tag(test_untagged_words, tagset='universal')"
   ]
  },
  {
   "cell_type": "code",
   "execution_count": 46,
   "metadata": {},
   "outputs": [
    {
     "name": "stdout",
     "output_type": "stream",
     "text": [
      "Accuracy Comparison on the Test Set :\n",
      "--------------------------------------------------------------------------------\n",
      "Accuracy of the Vanilla Viterbi Algorithm:  76.11\n",
      "Accuracy of the Modified Viterbi Algorithm:  86.67\n",
      "Accuracy of the Viterbi Algorithm with Unigram+Regex :  93.89\n"
     ]
    }
   ],
   "source": [
    "print(\"Accuracy Comparison on the Test Set :\")\n",
    "print(\"-\"*80)\n",
    "# Accuracy of the Vanilla Viterbi on Test set\n",
    "print(\"Accuracy of the Vanilla Viterbi Algorithm: \", check_accuracy(Viterbi_tagged, test_tagged_words))\n",
    "\n",
    "# Accuracy of the Modified Viterbi on the Test Set\n",
    "print(\"Accuracy of the Modified Viterbi Algorithm: \", check_accuracy(MV_tagged, test_tagged_words))\n",
    "\n",
    "# Accuracy of the Viterbi with Unigram+Regex on the Test Set\n",
    "print(\"Accuracy of the Viterbi Algorithm with Unigram+Regex : \", check_accuracy(RegexuniVi_tagged, test_tagged_words))"
   ]
  },
  {
   "cell_type": "code",
   "execution_count": null,
   "metadata": {},
   "outputs": [],
   "source": []
  }
 ],
 "metadata": {
  "kernelspec": {
   "display_name": "Python 3",
   "language": "python",
   "name": "python3"
  },
  "language_info": {
   "codemirror_mode": {
    "name": "ipython",
    "version": 3
   },
   "file_extension": ".py",
   "mimetype": "text/x-python",
   "name": "python",
   "nbconvert_exporter": "python",
   "pygments_lexer": "ipython3",
   "version": "3.7.3"
  }
 },
 "nbformat": 4,
 "nbformat_minor": 2
}
